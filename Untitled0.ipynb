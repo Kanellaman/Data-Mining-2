{
 "cells": [
  {
   "cell_type": "markdown",
   "metadata": {
    "id": "UJVC27Ns1MXX"
   },
   "source": [
    "# Εργασία 2 - Περιόδου 2022-2023\n",
    "\n",
    "\n",
    "\n"
   ]
  },
  {
   "cell_type": "markdown",
   "metadata": {
    "id": "3h9FQz4PzpGz"
   },
   "source": [
    "## Πάνος Κόλλιας 1115202000086\n",
    "## Κωνσταντίνος Κανελλάκης 1115202000064\n",
    "\n",
    "----------"
   ]
  },
  {
   "cell_type": "markdown",
   "source": [
    "# Q1 - Preprocessing"
   ],
   "metadata": {
    "collapsed": false
   }
  },
  {
   "cell_type": "code",
   "execution_count": 93,
   "metadata": {
    "colab": {
     "base_uri": "https://localhost:8080/",
     "height": 1000
    },
    "executionInfo": {
     "elapsed": 4312,
     "status": "ok",
     "timestamp": 1685008889904,
     "user": {
      "displayName": "Κωνσταντίνος Κανελλάκης",
      "userId": "17854306947232766693"
     },
     "user_tz": -180
    },
    "id": "beFMmltDHZLG",
    "outputId": "bbf452e7-adb4-4cbe-b8e0-656be51e168b"
   },
   "outputs": [
    {
     "data": {
      "text/plain": "         bookId                                      title  \\\n0       2767052                           The Hunger Games   \n1             2  Harry Potter and the Order of the Phoenix   \n2          2657                      To Kill a Mockingbird   \n3          1885                        Pride and Prejudice   \n4         41865                                   Twilight   \n...         ...                                        ...   \n52473  11492014                                  Fractured   \n52474  11836711                                    Anasazi   \n52475  10815662                                     Marked   \n52476  11330278                                Wayward Son   \n52477  10991547                        Daughter of Helaman   \n\n                      series  \\\n0        The Hunger Games #1   \n1            Harry Potter #5   \n2      To Kill a Mockingbird   \n3                        NaN   \n4       The Twilight Saga #1   \n...                      ...   \n52473             Fateful #2   \n52474      Sense of Truth #2   \n52475      Soul Guardians #1   \n52476                    NaN   \n52477   Stripling Warrior #1   \n\n                                                  author            rating  \\\n0                                        Suzanne Collins 4.330000000000000   \n1              J.K. Rowling, Mary GrandPré (Illustrator) 4.500000000000000   \n2                                             Harper Lee 4.280000000000000   \n3              Jane Austen, Anna Quindlen (Introduction) 4.260000000000000   \n4                                        Stephenie Meyer 3.600000000000000   \n...                                                  ...               ...   \n52473                   Cheri Schmidt (Goodreads Author) 4.000000000000000   \n52474                                      Emma Michaels 4.190000000000000   \n52475                  Kim Richardson (Goodreads Author) 3.700000000000000   \n52476  Tom Pollack (Goodreads Author), John Loftus (G... 3.850000000000000   \n52477                    Misty Moncur (Goodreads Author) 4.020000000000000   \n\n                                             description language  \\\n0      WINNING MEANS FAME AND FORTUNE.LOSING MEANS CE...  English   \n1      There is a door at the end of a silent corrido...  English   \n2      The unforgettable novel of a childhood in a sl...  English   \n3      Alternate cover edition of ISBN 9780679783268S...  English   \n4      About three things I was absolutely positive.\\...  English   \n...                                                  ...      ...   \n52473  The Fateful Trilogy continues with Fractured. ...  English   \n52474  'Anasazi', sequel to 'The Thirteenth Chime' by...  English   \n52475  --READERS FAVORITE AWARDS WINNER 2011--Sixteen...  English   \n52476  A POWERFUL TREMOR UNEARTHS AN ANCIENT SECRETBu...  English   \n52477  Fighting in Helaman's army is Keturah's deepes...  English   \n\n                isbn                                             genres  \\\n0      9780439023481  ['Young Adult', 'Fiction', 'Dystopia', 'Fantas...   \n1      9780439358071  ['Fantasy', 'Young Adult', 'Fiction', 'Magic',...   \n2      9999999999999  ['Classics', 'Fiction', 'Historical Fiction', ...   \n3      9999999999999  ['Classics', 'Fiction', 'Romance', 'Historical...   \n4      9780316015844  ['Young Adult', 'Fantasy', 'Romance', 'Vampire...   \n...              ...                                                ...   \n52473  2940012616562  ['Vampires', 'Paranormal', 'Young Adult', 'Rom...   \n52474  9999999999999                         ['Mystery', 'Young Adult']   \n52475  9781461017097  ['Fantasy', 'Young Adult', 'Paranormal', 'Ange...   \n52476  9781450755634  ['Fiction', 'Mystery', 'Historical Fiction', '...   \n52477  9781599554976  ['Lds Fiction', 'Historical Fiction', 'Young A...   \n\n                                              characters  ...  \\\n0      ['Katniss Everdeen', 'Peeta Mellark', 'Cato (H...  ...   \n1      ['Sirius Black', 'Draco Malfoy', 'Ron Weasley'...  ...   \n2      ['Scout Finch', 'Atticus Finch', 'Jem Finch', ...  ...   \n3      ['Mr. Bennet', 'Mrs. Bennet', 'Jane Bennet', '...  ...   \n4      ['Edward Cullen', 'Jacob Black', 'Laurent', 'R...  ...   \n...                                                  ...  ...   \n52473                                                 []  ...   \n52474                                                 []  ...   \n52475                                                 []  ...   \n52476                                                 []  ...   \n52477                                                 []  ...   \n\n      firstPublishDate                                             awards  \\\n0                  NaN  ['Locus Award Nominee for Best Young Adult Boo...   \n1             06/21/03  ['Bram Stoker Award for Works for Young Reader...   \n2             07/11/60  ['Pulitzer Prize for Fiction (1961)', 'Audie A...   \n3             01/28/13                                                 []   \n4             10/05/05  ['Georgia Peach Book Award (2007)', 'Buxtehude...   \n...                ...                                                ...   \n52473              NaN                                                 []   \n52474  August 3rd 2011                                                 []   \n52475  March 15th 2011            [\"Readers' Favorite Book Award (2011)\"]   \n52476   April 5th 2011                                                 []   \n52477              NaN                                                 []   \n\n      numRatings                                     ratingsByStars  \\\n0        6376780  ['3444695', '1921313', '745221', '171994', '93...   \n1        2507623  ['1593642', '637516', '222366', '39573', '14526']   \n2        4501075  ['2363896', '1333153', '573280', '149952', '80...   \n3        2998241  ['1617567', '816659', '373311', '113934', '767...   \n4        4964519  ['1751460', '1113682', '1008686', '542017', '5...   \n...          ...                                                ...   \n52473        871                  ['311', '310', '197', '42', '11']   \n52474         37                        ['16', '14', '5', '2', '0']   \n52475       6674             ['2109', '1868', '1660', '647', '390']   \n52476        238                      ['77', '78', '59', '19', '5']   \n52477        246                     ['106', '73', '42', '17', '8']   \n\n            likedPercent                                            setting  \\\n0     96.000000000000000  ['District 12, Panem', 'Capitol, Panem', 'Pane...   \n1     98.000000000000000  ['Hogwarts School of Witchcraft and Wizardry (...   \n2     95.000000000000000               ['Maycomb, Alabama (United States)']   \n3     94.000000000000000  ['United Kingdom', 'Derbyshire, England (Unite...   \n4     78.000000000000000  ['Forks, Washington (United States)', 'Phoenix...   \n...                  ...                                                ...   \n52473 94.000000000000000                                                 []   \n52474 95.000000000000000                                                 []   \n52475 84.000000000000000                                                 []   \n52476 90.000000000000000                                                 []   \n52477 90.000000000000000                                                 []   \n\n                                                coverImg  bbeScore bbeVotes  \\\n0      https://i.gr-assets.com/images/S/compressed.ph...   2993816    30516   \n1      https://i.gr-assets.com/images/S/compressed.ph...   2632233    26923   \n2      https://i.gr-assets.com/images/S/compressed.ph...   2269402    23328   \n3      https://i.gr-assets.com/images/S/compressed.ph...   1983116    20452   \n4      https://i.gr-assets.com/images/S/compressed.ph...   1459448    14874   \n...                                                  ...       ...      ...   \n52473  https://i.gr-assets.com/images/S/compressed.ph...         0        1   \n52474  https://i.gr-assets.com/images/S/compressed.ph...         0        1   \n52475  https://i.gr-assets.com/images/S/compressed.ph...         0        1   \n52476  https://i.gr-assets.com/images/S/compressed.ph...         0        1   \n52477  https://i.gr-assets.com/images/S/compressed.ph...         0        1   \n\n       price  \n0       5.09  \n1       7.38  \n2        NaN  \n3        NaN  \n4        2.1  \n...      ...  \n52473    NaN  \n52474    NaN  \n52475   7.37  \n52476   2.86  \n52477   5.20  \n\n[47169 rows x 25 columns]",
      "text/html": "<div>\n<style scoped>\n    .dataframe tbody tr th:only-of-type {\n        vertical-align: middle;\n    }\n\n    .dataframe tbody tr th {\n        vertical-align: top;\n    }\n\n    .dataframe thead th {\n        text-align: right;\n    }\n</style>\n<table border=\"1\" class=\"dataframe\">\n  <thead>\n    <tr style=\"text-align: right;\">\n      <th></th>\n      <th>bookId</th>\n      <th>title</th>\n      <th>series</th>\n      <th>author</th>\n      <th>rating</th>\n      <th>description</th>\n      <th>language</th>\n      <th>isbn</th>\n      <th>genres</th>\n      <th>characters</th>\n      <th>...</th>\n      <th>firstPublishDate</th>\n      <th>awards</th>\n      <th>numRatings</th>\n      <th>ratingsByStars</th>\n      <th>likedPercent</th>\n      <th>setting</th>\n      <th>coverImg</th>\n      <th>bbeScore</th>\n      <th>bbeVotes</th>\n      <th>price</th>\n    </tr>\n  </thead>\n  <tbody>\n    <tr>\n      <th>0</th>\n      <td>2767052</td>\n      <td>The Hunger Games</td>\n      <td>The Hunger Games #1</td>\n      <td>Suzanne Collins</td>\n      <td>4.330000000000000</td>\n      <td>WINNING MEANS FAME AND FORTUNE.LOSING MEANS CE...</td>\n      <td>English</td>\n      <td>9780439023481</td>\n      <td>['Young Adult', 'Fiction', 'Dystopia', 'Fantas...</td>\n      <td>['Katniss Everdeen', 'Peeta Mellark', 'Cato (H...</td>\n      <td>...</td>\n      <td>NaN</td>\n      <td>['Locus Award Nominee for Best Young Adult Boo...</td>\n      <td>6376780</td>\n      <td>['3444695', '1921313', '745221', '171994', '93...</td>\n      <td>96.000000000000000</td>\n      <td>['District 12, Panem', 'Capitol, Panem', 'Pane...</td>\n      <td>https://i.gr-assets.com/images/S/compressed.ph...</td>\n      <td>2993816</td>\n      <td>30516</td>\n      <td>5.09</td>\n    </tr>\n    <tr>\n      <th>1</th>\n      <td>2</td>\n      <td>Harry Potter and the Order of the Phoenix</td>\n      <td>Harry Potter #5</td>\n      <td>J.K. Rowling, Mary GrandPré (Illustrator)</td>\n      <td>4.500000000000000</td>\n      <td>There is a door at the end of a silent corrido...</td>\n      <td>English</td>\n      <td>9780439358071</td>\n      <td>['Fantasy', 'Young Adult', 'Fiction', 'Magic',...</td>\n      <td>['Sirius Black', 'Draco Malfoy', 'Ron Weasley'...</td>\n      <td>...</td>\n      <td>06/21/03</td>\n      <td>['Bram Stoker Award for Works for Young Reader...</td>\n      <td>2507623</td>\n      <td>['1593642', '637516', '222366', '39573', '14526']</td>\n      <td>98.000000000000000</td>\n      <td>['Hogwarts School of Witchcraft and Wizardry (...</td>\n      <td>https://i.gr-assets.com/images/S/compressed.ph...</td>\n      <td>2632233</td>\n      <td>26923</td>\n      <td>7.38</td>\n    </tr>\n    <tr>\n      <th>2</th>\n      <td>2657</td>\n      <td>To Kill a Mockingbird</td>\n      <td>To Kill a Mockingbird</td>\n      <td>Harper Lee</td>\n      <td>4.280000000000000</td>\n      <td>The unforgettable novel of a childhood in a sl...</td>\n      <td>English</td>\n      <td>9999999999999</td>\n      <td>['Classics', 'Fiction', 'Historical Fiction', ...</td>\n      <td>['Scout Finch', 'Atticus Finch', 'Jem Finch', ...</td>\n      <td>...</td>\n      <td>07/11/60</td>\n      <td>['Pulitzer Prize for Fiction (1961)', 'Audie A...</td>\n      <td>4501075</td>\n      <td>['2363896', '1333153', '573280', '149952', '80...</td>\n      <td>95.000000000000000</td>\n      <td>['Maycomb, Alabama (United States)']</td>\n      <td>https://i.gr-assets.com/images/S/compressed.ph...</td>\n      <td>2269402</td>\n      <td>23328</td>\n      <td>NaN</td>\n    </tr>\n    <tr>\n      <th>3</th>\n      <td>1885</td>\n      <td>Pride and Prejudice</td>\n      <td>NaN</td>\n      <td>Jane Austen, Anna Quindlen (Introduction)</td>\n      <td>4.260000000000000</td>\n      <td>Alternate cover edition of ISBN 9780679783268S...</td>\n      <td>English</td>\n      <td>9999999999999</td>\n      <td>['Classics', 'Fiction', 'Romance', 'Historical...</td>\n      <td>['Mr. Bennet', 'Mrs. Bennet', 'Jane Bennet', '...</td>\n      <td>...</td>\n      <td>01/28/13</td>\n      <td>[]</td>\n      <td>2998241</td>\n      <td>['1617567', '816659', '373311', '113934', '767...</td>\n      <td>94.000000000000000</td>\n      <td>['United Kingdom', 'Derbyshire, England (Unite...</td>\n      <td>https://i.gr-assets.com/images/S/compressed.ph...</td>\n      <td>1983116</td>\n      <td>20452</td>\n      <td>NaN</td>\n    </tr>\n    <tr>\n      <th>4</th>\n      <td>41865</td>\n      <td>Twilight</td>\n      <td>The Twilight Saga #1</td>\n      <td>Stephenie Meyer</td>\n      <td>3.600000000000000</td>\n      <td>About three things I was absolutely positive.\\...</td>\n      <td>English</td>\n      <td>9780316015844</td>\n      <td>['Young Adult', 'Fantasy', 'Romance', 'Vampire...</td>\n      <td>['Edward Cullen', 'Jacob Black', 'Laurent', 'R...</td>\n      <td>...</td>\n      <td>10/05/05</td>\n      <td>['Georgia Peach Book Award (2007)', 'Buxtehude...</td>\n      <td>4964519</td>\n      <td>['1751460', '1113682', '1008686', '542017', '5...</td>\n      <td>78.000000000000000</td>\n      <td>['Forks, Washington (United States)', 'Phoenix...</td>\n      <td>https://i.gr-assets.com/images/S/compressed.ph...</td>\n      <td>1459448</td>\n      <td>14874</td>\n      <td>2.1</td>\n    </tr>\n    <tr>\n      <th>...</th>\n      <td>...</td>\n      <td>...</td>\n      <td>...</td>\n      <td>...</td>\n      <td>...</td>\n      <td>...</td>\n      <td>...</td>\n      <td>...</td>\n      <td>...</td>\n      <td>...</td>\n      <td>...</td>\n      <td>...</td>\n      <td>...</td>\n      <td>...</td>\n      <td>...</td>\n      <td>...</td>\n      <td>...</td>\n      <td>...</td>\n      <td>...</td>\n      <td>...</td>\n      <td>...</td>\n    </tr>\n    <tr>\n      <th>52473</th>\n      <td>11492014</td>\n      <td>Fractured</td>\n      <td>Fateful #2</td>\n      <td>Cheri Schmidt (Goodreads Author)</td>\n      <td>4.000000000000000</td>\n      <td>The Fateful Trilogy continues with Fractured. ...</td>\n      <td>English</td>\n      <td>2940012616562</td>\n      <td>['Vampires', 'Paranormal', 'Young Adult', 'Rom...</td>\n      <td>[]</td>\n      <td>...</td>\n      <td>NaN</td>\n      <td>[]</td>\n      <td>871</td>\n      <td>['311', '310', '197', '42', '11']</td>\n      <td>94.000000000000000</td>\n      <td>[]</td>\n      <td>https://i.gr-assets.com/images/S/compressed.ph...</td>\n      <td>0</td>\n      <td>1</td>\n      <td>NaN</td>\n    </tr>\n    <tr>\n      <th>52474</th>\n      <td>11836711</td>\n      <td>Anasazi</td>\n      <td>Sense of Truth #2</td>\n      <td>Emma Michaels</td>\n      <td>4.190000000000000</td>\n      <td>'Anasazi', sequel to 'The Thirteenth Chime' by...</td>\n      <td>English</td>\n      <td>9999999999999</td>\n      <td>['Mystery', 'Young Adult']</td>\n      <td>[]</td>\n      <td>...</td>\n      <td>August 3rd 2011</td>\n      <td>[]</td>\n      <td>37</td>\n      <td>['16', '14', '5', '2', '0']</td>\n      <td>95.000000000000000</td>\n      <td>[]</td>\n      <td>https://i.gr-assets.com/images/S/compressed.ph...</td>\n      <td>0</td>\n      <td>1</td>\n      <td>NaN</td>\n    </tr>\n    <tr>\n      <th>52475</th>\n      <td>10815662</td>\n      <td>Marked</td>\n      <td>Soul Guardians #1</td>\n      <td>Kim Richardson (Goodreads Author)</td>\n      <td>3.700000000000000</td>\n      <td>--READERS FAVORITE AWARDS WINNER 2011--Sixteen...</td>\n      <td>English</td>\n      <td>9781461017097</td>\n      <td>['Fantasy', 'Young Adult', 'Paranormal', 'Ange...</td>\n      <td>[]</td>\n      <td>...</td>\n      <td>March 15th 2011</td>\n      <td>[\"Readers' Favorite Book Award (2011)\"]</td>\n      <td>6674</td>\n      <td>['2109', '1868', '1660', '647', '390']</td>\n      <td>84.000000000000000</td>\n      <td>[]</td>\n      <td>https://i.gr-assets.com/images/S/compressed.ph...</td>\n      <td>0</td>\n      <td>1</td>\n      <td>7.37</td>\n    </tr>\n    <tr>\n      <th>52476</th>\n      <td>11330278</td>\n      <td>Wayward Son</td>\n      <td>NaN</td>\n      <td>Tom Pollack (Goodreads Author), John Loftus (G...</td>\n      <td>3.850000000000000</td>\n      <td>A POWERFUL TREMOR UNEARTHS AN ANCIENT SECRETBu...</td>\n      <td>English</td>\n      <td>9781450755634</td>\n      <td>['Fiction', 'Mystery', 'Historical Fiction', '...</td>\n      <td>[]</td>\n      <td>...</td>\n      <td>April 5th 2011</td>\n      <td>[]</td>\n      <td>238</td>\n      <td>['77', '78', '59', '19', '5']</td>\n      <td>90.000000000000000</td>\n      <td>[]</td>\n      <td>https://i.gr-assets.com/images/S/compressed.ph...</td>\n      <td>0</td>\n      <td>1</td>\n      <td>2.86</td>\n    </tr>\n    <tr>\n      <th>52477</th>\n      <td>10991547</td>\n      <td>Daughter of Helaman</td>\n      <td>Stripling Warrior #1</td>\n      <td>Misty Moncur (Goodreads Author)</td>\n      <td>4.020000000000000</td>\n      <td>Fighting in Helaman's army is Keturah's deepes...</td>\n      <td>English</td>\n      <td>9781599554976</td>\n      <td>['Lds Fiction', 'Historical Fiction', 'Young A...</td>\n      <td>[]</td>\n      <td>...</td>\n      <td>NaN</td>\n      <td>[]</td>\n      <td>246</td>\n      <td>['106', '73', '42', '17', '8']</td>\n      <td>90.000000000000000</td>\n      <td>[]</td>\n      <td>https://i.gr-assets.com/images/S/compressed.ph...</td>\n      <td>0</td>\n      <td>1</td>\n      <td>5.20</td>\n    </tr>\n  </tbody>\n</table>\n<p>47169 rows × 25 columns</p>\n</div>"
     },
     "execution_count": 93,
     "metadata": {},
     "output_type": "execute_result"
    }
   ],
   "source": [
    "import pandas as pd\n",
    "import re\n",
    "Location = 'books_1.Best_Books_Ever.csv'\n",
    "df = pd.read_csv(Location)\n",
    "df['bookId'] = df['bookId'].apply(lambda x: re.findall(r'\\d+', x)[0])\n",
    "df['bookId'] = df['bookId'].astype(int)\n",
    "\n",
    "# Drop rows with NaN values in selected columns\n",
    "df.dropna(subset=['bookId','description','title','language','ratingsByStars','genres','publishDate','author'], inplace=True)\n",
    "df = df.drop_duplicates()\n",
    "df"
   ]
  },
  {
   "cell_type": "code",
   "execution_count": 92,
   "metadata": {
    "colab": {
     "base_uri": "https://localhost:8080/",
     "height": 1000
    },
    "executionInfo": {
     "elapsed": 20995,
     "status": "ok",
     "timestamp": 1685008913251,
     "user": {
      "displayName": "Κωνσταντίνος Κανελλάκης",
      "userId": "17854306947232766693"
     },
     "user_tz": -180
    },
    "id": "fi6C2j10o7ei",
    "outputId": "fbed06eb-8878-4332-c14b-fffb2380ca5a"
   },
   "outputs": [
    {
     "data": {
      "text/plain": "         bookId                                      title  \\\n0       2767052                           The Hunger Games   \n1             2  Harry Potter and the Order of the Phoenix   \n2          2657                      To Kill a Mockingbird   \n3          1885                        Pride and Prejudice   \n4         41865                                   Twilight   \n...         ...                                        ...   \n52473  11492014                                  Fractured   \n52474  11836711                                    Anasazi   \n52475  10815662                                     Marked   \n52476  11330278                                Wayward Son   \n52477  10991547                        Daughter of Helaman   \n\n                      series                             author  \\\n0        The Hunger Games #1                    Suzanne Collins   \n1            Harry Potter #5                       J.K. Rowling   \n2      To Kill a Mockingbird                         Harper Lee   \n3                        NaN                        Jane Austen   \n4       The Twilight Saga #1                    Stephenie Meyer   \n...                      ...                                ...   \n52473             Fateful #2   Cheri Schmidt (Goodreads Author)   \n52474      Sense of Truth #2                      Emma Michaels   \n52475      Soul Guardians #1  Kim Richardson (Goodreads Author)   \n52476                    NaN     Tom Pollack (Goodreads Author)   \n52477   Stripling Warrior #1    Misty Moncur (Goodreads Author)   \n\n                 rating                                        description  \\\n0     4.330000000000000  WINNING MEANS FAME AND FORTUNE.LOSING MEANS CE...   \n1     4.500000000000000  There is a door at the end of a silent corrido...   \n2     4.280000000000000  The unforgettable novel of a childhood in a sl...   \n3     4.260000000000000  Alternate cover edition of ISBN 9780679783268S...   \n4     3.600000000000000  About three things I was absolutely positive.\\...   \n...                 ...                                                ...   \n52473 4.000000000000000  The Fateful Trilogy continues with Fractured. ...   \n52474 4.190000000000000  'Anasazi', sequel to 'The Thirteenth Chime' by...   \n52475 3.700000000000000  --READERS FAVORITE AWARDS WINNER 2011--Sixteen...   \n52476 3.850000000000000  A POWERFUL TREMOR UNEARTHS AN ANCIENT SECRETBu...   \n52477 4.020000000000000  Fighting in Helaman's army is Keturah's deepes...   \n\n      language           isbn  \\\n0      English  9780439023481   \n1      English  9780439358071   \n2      English  9999999999999   \n3      English  9999999999999   \n4      English  9780316015844   \n...        ...            ...   \n52473  English  2940012616562   \n52474  English  9999999999999   \n52475  English  9781461017097   \n52476  English  9781450755634   \n52477  English  9781599554976   \n\n                                                  genres  \\\n0      ['Young Adult', 'Fiction', 'Dystopia', 'Fantas...   \n1      ['Fantasy', 'Young Adult', 'Fiction', 'Magic',...   \n2      ['Classics', 'Fiction', 'Historical Fiction', ...   \n3      ['Classics', 'Fiction', 'Romance', 'Historical...   \n4      ['Young Adult', 'Fantasy', 'Romance', 'Vampire...   \n...                                                  ...   \n52473  ['Vampires', 'Paranormal', 'Young Adult', 'Rom...   \n52474                         ['Mystery', 'Young Adult']   \n52475  ['Fantasy', 'Young Adult', 'Paranormal', 'Ange...   \n52476  ['Fiction', 'Mystery', 'Historical Fiction', '...   \n52477  ['Lds Fiction', 'Historical Fiction', 'Young A...   \n\n                                              characters  ...  \\\n0      ['Katniss Everdeen', 'Peeta Mellark', 'Cato (H...  ...   \n1      ['Sirius Black', 'Draco Malfoy', 'Ron Weasley'...  ...   \n2      ['Scout Finch', 'Atticus Finch', 'Jem Finch', ...  ...   \n3      ['Mr. Bennet', 'Mrs. Bennet', 'Jane Bennet', '...  ...   \n4      ['Edward Cullen', 'Jacob Black', 'Laurent', 'R...  ...   \n...                                                  ...  ...   \n52473                                                 []  ...   \n52474                                                 []  ...   \n52475                                                 []  ...   \n52476                                                 []  ...   \n52477                                                 []  ...   \n\n                                                 setting  \\\n0      ['District 12, Panem', 'Capitol, Panem', 'Pane...   \n1      ['Hogwarts School of Witchcraft and Wizardry (...   \n2                   ['Maycomb, Alabama (United States)']   \n3      ['United Kingdom', 'Derbyshire, England (Unite...   \n4      ['Forks, Washington (United States)', 'Phoenix...   \n...                                                  ...   \n52473                                                 []   \n52474                                                 []   \n52475                                                 []   \n52476                                                 []   \n52477                                                 []   \n\n                                                coverImg bbeScore bbeVotes  \\\n0      https://i.gr-assets.com/images/S/compressed.ph...  2993816    30516   \n1      https://i.gr-assets.com/images/S/compressed.ph...  2632233    26923   \n2      https://i.gr-assets.com/images/S/compressed.ph...  2269402    23328   \n3      https://i.gr-assets.com/images/S/compressed.ph...  1983116    20452   \n4      https://i.gr-assets.com/images/S/compressed.ph...  1459448    14874   \n...                                                  ...      ...      ...   \n52473  https://i.gr-assets.com/images/S/compressed.ph...        0        1   \n52474  https://i.gr-assets.com/images/S/compressed.ph...        0        1   \n52475  https://i.gr-assets.com/images/S/compressed.ph...        0        1   \n52476  https://i.gr-assets.com/images/S/compressed.ph...        0        1   \n52477  https://i.gr-assets.com/images/S/compressed.ph...        0        1   \n\n      price ratingStar1 ratingStar2  ratingStar3 ratingStar4  ratingStar5  \n0      5.09     3444695     1921313       745221      171994        93557  \n1      7.38     1593642      637516       222366       39573        14526  \n2       NaN     2363896     1333153       573280      149952        80794  \n3       NaN     1617567      816659       373311      113934        76770  \n4       2.1     1751460     1113682      1008686      542017       548674  \n...     ...         ...         ...          ...         ...          ...  \n52473   NaN         311         310          197          42           11  \n52474   NaN          16          14            5           2            0  \n52475  7.37        2109        1868         1660         647          390  \n52476  2.86          77          78           59          19            5  \n52477  5.20         106          73           42          17            8  \n\n[46319 rows x 30 columns]",
      "text/html": "<div>\n<style scoped>\n    .dataframe tbody tr th:only-of-type {\n        vertical-align: middle;\n    }\n\n    .dataframe tbody tr th {\n        vertical-align: top;\n    }\n\n    .dataframe thead th {\n        text-align: right;\n    }\n</style>\n<table border=\"1\" class=\"dataframe\">\n  <thead>\n    <tr style=\"text-align: right;\">\n      <th></th>\n      <th>bookId</th>\n      <th>title</th>\n      <th>series</th>\n      <th>author</th>\n      <th>rating</th>\n      <th>description</th>\n      <th>language</th>\n      <th>isbn</th>\n      <th>genres</th>\n      <th>characters</th>\n      <th>...</th>\n      <th>setting</th>\n      <th>coverImg</th>\n      <th>bbeScore</th>\n      <th>bbeVotes</th>\n      <th>price</th>\n      <th>ratingStar1</th>\n      <th>ratingStar2</th>\n      <th>ratingStar3</th>\n      <th>ratingStar4</th>\n      <th>ratingStar5</th>\n    </tr>\n  </thead>\n  <tbody>\n    <tr>\n      <th>0</th>\n      <td>2767052</td>\n      <td>The Hunger Games</td>\n      <td>The Hunger Games #1</td>\n      <td>Suzanne Collins</td>\n      <td>4.330000000000000</td>\n      <td>WINNING MEANS FAME AND FORTUNE.LOSING MEANS CE...</td>\n      <td>English</td>\n      <td>9780439023481</td>\n      <td>['Young Adult', 'Fiction', 'Dystopia', 'Fantas...</td>\n      <td>['Katniss Everdeen', 'Peeta Mellark', 'Cato (H...</td>\n      <td>...</td>\n      <td>['District 12, Panem', 'Capitol, Panem', 'Pane...</td>\n      <td>https://i.gr-assets.com/images/S/compressed.ph...</td>\n      <td>2993816</td>\n      <td>30516</td>\n      <td>5.09</td>\n      <td>3444695</td>\n      <td>1921313</td>\n      <td>745221</td>\n      <td>171994</td>\n      <td>93557</td>\n    </tr>\n    <tr>\n      <th>1</th>\n      <td>2</td>\n      <td>Harry Potter and the Order of the Phoenix</td>\n      <td>Harry Potter #5</td>\n      <td>J.K. Rowling</td>\n      <td>4.500000000000000</td>\n      <td>There is a door at the end of a silent corrido...</td>\n      <td>English</td>\n      <td>9780439358071</td>\n      <td>['Fantasy', 'Young Adult', 'Fiction', 'Magic',...</td>\n      <td>['Sirius Black', 'Draco Malfoy', 'Ron Weasley'...</td>\n      <td>...</td>\n      <td>['Hogwarts School of Witchcraft and Wizardry (...</td>\n      <td>https://i.gr-assets.com/images/S/compressed.ph...</td>\n      <td>2632233</td>\n      <td>26923</td>\n      <td>7.38</td>\n      <td>1593642</td>\n      <td>637516</td>\n      <td>222366</td>\n      <td>39573</td>\n      <td>14526</td>\n    </tr>\n    <tr>\n      <th>2</th>\n      <td>2657</td>\n      <td>To Kill a Mockingbird</td>\n      <td>To Kill a Mockingbird</td>\n      <td>Harper Lee</td>\n      <td>4.280000000000000</td>\n      <td>The unforgettable novel of a childhood in a sl...</td>\n      <td>English</td>\n      <td>9999999999999</td>\n      <td>['Classics', 'Fiction', 'Historical Fiction', ...</td>\n      <td>['Scout Finch', 'Atticus Finch', 'Jem Finch', ...</td>\n      <td>...</td>\n      <td>['Maycomb, Alabama (United States)']</td>\n      <td>https://i.gr-assets.com/images/S/compressed.ph...</td>\n      <td>2269402</td>\n      <td>23328</td>\n      <td>NaN</td>\n      <td>2363896</td>\n      <td>1333153</td>\n      <td>573280</td>\n      <td>149952</td>\n      <td>80794</td>\n    </tr>\n    <tr>\n      <th>3</th>\n      <td>1885</td>\n      <td>Pride and Prejudice</td>\n      <td>NaN</td>\n      <td>Jane Austen</td>\n      <td>4.260000000000000</td>\n      <td>Alternate cover edition of ISBN 9780679783268S...</td>\n      <td>English</td>\n      <td>9999999999999</td>\n      <td>['Classics', 'Fiction', 'Romance', 'Historical...</td>\n      <td>['Mr. Bennet', 'Mrs. Bennet', 'Jane Bennet', '...</td>\n      <td>...</td>\n      <td>['United Kingdom', 'Derbyshire, England (Unite...</td>\n      <td>https://i.gr-assets.com/images/S/compressed.ph...</td>\n      <td>1983116</td>\n      <td>20452</td>\n      <td>NaN</td>\n      <td>1617567</td>\n      <td>816659</td>\n      <td>373311</td>\n      <td>113934</td>\n      <td>76770</td>\n    </tr>\n    <tr>\n      <th>4</th>\n      <td>41865</td>\n      <td>Twilight</td>\n      <td>The Twilight Saga #1</td>\n      <td>Stephenie Meyer</td>\n      <td>3.600000000000000</td>\n      <td>About three things I was absolutely positive.\\...</td>\n      <td>English</td>\n      <td>9780316015844</td>\n      <td>['Young Adult', 'Fantasy', 'Romance', 'Vampire...</td>\n      <td>['Edward Cullen', 'Jacob Black', 'Laurent', 'R...</td>\n      <td>...</td>\n      <td>['Forks, Washington (United States)', 'Phoenix...</td>\n      <td>https://i.gr-assets.com/images/S/compressed.ph...</td>\n      <td>1459448</td>\n      <td>14874</td>\n      <td>2.1</td>\n      <td>1751460</td>\n      <td>1113682</td>\n      <td>1008686</td>\n      <td>542017</td>\n      <td>548674</td>\n    </tr>\n    <tr>\n      <th>...</th>\n      <td>...</td>\n      <td>...</td>\n      <td>...</td>\n      <td>...</td>\n      <td>...</td>\n      <td>...</td>\n      <td>...</td>\n      <td>...</td>\n      <td>...</td>\n      <td>...</td>\n      <td>...</td>\n      <td>...</td>\n      <td>...</td>\n      <td>...</td>\n      <td>...</td>\n      <td>...</td>\n      <td>...</td>\n      <td>...</td>\n      <td>...</td>\n      <td>...</td>\n      <td>...</td>\n    </tr>\n    <tr>\n      <th>52473</th>\n      <td>11492014</td>\n      <td>Fractured</td>\n      <td>Fateful #2</td>\n      <td>Cheri Schmidt (Goodreads Author)</td>\n      <td>4.000000000000000</td>\n      <td>The Fateful Trilogy continues with Fractured. ...</td>\n      <td>English</td>\n      <td>2940012616562</td>\n      <td>['Vampires', 'Paranormal', 'Young Adult', 'Rom...</td>\n      <td>[]</td>\n      <td>...</td>\n      <td>[]</td>\n      <td>https://i.gr-assets.com/images/S/compressed.ph...</td>\n      <td>0</td>\n      <td>1</td>\n      <td>NaN</td>\n      <td>311</td>\n      <td>310</td>\n      <td>197</td>\n      <td>42</td>\n      <td>11</td>\n    </tr>\n    <tr>\n      <th>52474</th>\n      <td>11836711</td>\n      <td>Anasazi</td>\n      <td>Sense of Truth #2</td>\n      <td>Emma Michaels</td>\n      <td>4.190000000000000</td>\n      <td>'Anasazi', sequel to 'The Thirteenth Chime' by...</td>\n      <td>English</td>\n      <td>9999999999999</td>\n      <td>['Mystery', 'Young Adult']</td>\n      <td>[]</td>\n      <td>...</td>\n      <td>[]</td>\n      <td>https://i.gr-assets.com/images/S/compressed.ph...</td>\n      <td>0</td>\n      <td>1</td>\n      <td>NaN</td>\n      <td>16</td>\n      <td>14</td>\n      <td>5</td>\n      <td>2</td>\n      <td>0</td>\n    </tr>\n    <tr>\n      <th>52475</th>\n      <td>10815662</td>\n      <td>Marked</td>\n      <td>Soul Guardians #1</td>\n      <td>Kim Richardson (Goodreads Author)</td>\n      <td>3.700000000000000</td>\n      <td>--READERS FAVORITE AWARDS WINNER 2011--Sixteen...</td>\n      <td>English</td>\n      <td>9781461017097</td>\n      <td>['Fantasy', 'Young Adult', 'Paranormal', 'Ange...</td>\n      <td>[]</td>\n      <td>...</td>\n      <td>[]</td>\n      <td>https://i.gr-assets.com/images/S/compressed.ph...</td>\n      <td>0</td>\n      <td>1</td>\n      <td>7.37</td>\n      <td>2109</td>\n      <td>1868</td>\n      <td>1660</td>\n      <td>647</td>\n      <td>390</td>\n    </tr>\n    <tr>\n      <th>52476</th>\n      <td>11330278</td>\n      <td>Wayward Son</td>\n      <td>NaN</td>\n      <td>Tom Pollack (Goodreads Author)</td>\n      <td>3.850000000000000</td>\n      <td>A POWERFUL TREMOR UNEARTHS AN ANCIENT SECRETBu...</td>\n      <td>English</td>\n      <td>9781450755634</td>\n      <td>['Fiction', 'Mystery', 'Historical Fiction', '...</td>\n      <td>[]</td>\n      <td>...</td>\n      <td>[]</td>\n      <td>https://i.gr-assets.com/images/S/compressed.ph...</td>\n      <td>0</td>\n      <td>1</td>\n      <td>2.86</td>\n      <td>77</td>\n      <td>78</td>\n      <td>59</td>\n      <td>19</td>\n      <td>5</td>\n    </tr>\n    <tr>\n      <th>52477</th>\n      <td>10991547</td>\n      <td>Daughter of Helaman</td>\n      <td>Stripling Warrior #1</td>\n      <td>Misty Moncur (Goodreads Author)</td>\n      <td>4.020000000000000</td>\n      <td>Fighting in Helaman's army is Keturah's deepes...</td>\n      <td>English</td>\n      <td>9781599554976</td>\n      <td>['Lds Fiction', 'Historical Fiction', 'Young A...</td>\n      <td>[]</td>\n      <td>...</td>\n      <td>[]</td>\n      <td>https://i.gr-assets.com/images/S/compressed.ph...</td>\n      <td>0</td>\n      <td>1</td>\n      <td>5.20</td>\n      <td>106</td>\n      <td>73</td>\n      <td>42</td>\n      <td>17</td>\n      <td>8</td>\n    </tr>\n  </tbody>\n</table>\n<p>46319 rows × 30 columns</p>\n</div>"
     },
     "execution_count": 92,
     "metadata": {},
     "output_type": "execute_result"
    }
   ],
   "source": [
    "ls1=[]\n",
    "ls2=[]\n",
    "ls3=[]\n",
    "ls4=[]\n",
    "ls5=[]\n",
    "import ast\n",
    "for i,f in zip(df.index,df['ratingsByStars']):\n",
    "  x = ast.literal_eval(f)\n",
    "  if len(x)==0:\n",
    "    df=df.drop(i)\n",
    "    continue\n",
    "  ls1.append(x[0])\n",
    "  ls2.append(x[1])\n",
    "  ls3.append(x[2])\n",
    "  ls4.append(x[3])\n",
    "  ls5.append(x[4])\n",
    "\n",
    "df['ratingStar1']=ls1\n",
    "df['ratingStar2']=ls2\n",
    "df['ratingStar3']=ls3\n",
    "df['ratingStar4']=ls4\n",
    "df['ratingStar5']=ls5\n",
    "df"
   ]
  },
  {
   "cell_type": "code",
   "execution_count": 18,
   "metadata": {
    "colab": {
     "base_uri": "https://localhost:8080/",
     "height": 1000
    },
    "executionInfo": {
     "elapsed": 83636,
     "status": "ok",
     "timestamp": 1685009011779,
     "user": {
      "displayName": "Κωνσταντίνος Κανελλάκης",
      "userId": "17854306947232766693"
     },
     "user_tz": -180
    },
    "id": "NJ8ieR0Gw_MO",
    "outputId": "6d9e3198-83f6-46c5-f02d-bea1f9090839"
   },
   "outputs": [
    {
     "data": {
      "text/plain": "         bookId                                      title  \\\n0       2767052                           The Hunger Games   \n1             2  Harry Potter and the Order of the Phoenix   \n4         41865                                   Twilight   \n5         19063                             The Book Thief   \n6        170448                                Animal Farm   \n...         ...                                        ...   \n52472  12395883                               Unbelievable   \n52473  11492014                                  Fractured   \n52475  10815662                                     Marked   \n52476  11330278                                Wayward Son   \n52477  10991547                        Daughter of Helaman   \n\n                     series  \\\n0       The Hunger Games #1   \n1           Harry Potter #5   \n4      The Twilight Saga #1   \n5                       NaN   \n6                       NaN   \n...                     ...   \n52472          Port Fare #2   \n52473            Fateful #2   \n52475     Soul Guardians #1   \n52476                   NaN   \n52477  Stripling Warrior #1   \n\n                                                  author  rating  \\\n0                                        Suzanne Collins    4.33   \n1              J.K. Rowling, Mary GrandPré (Illustrator)    4.50   \n4                                        Stephenie Meyer    3.60   \n5                        Markus Zusak (Goodreads Author)    4.37   \n6      George Orwell, Russell Baker (Preface), C.M. W...    3.95   \n...                                                  ...     ...   \n52472                   Sherry Gammon (Goodreads Author)    4.16   \n52473                   Cheri Schmidt (Goodreads Author)    4.00   \n52475                  Kim Richardson (Goodreads Author)    3.70   \n52476  Tom Pollack (Goodreads Author), John Loftus (G...    3.85   \n52477                    Misty Moncur (Goodreads Author)    4.02   \n\n                                             description language  \\\n0      WINNING MEANS FAME AND FORTUNE.LOSING MEANS CE...  English   \n1      There is a door at the end of a silent corrido...  English   \n4      About three things I was absolutely positive.\\...  English   \n5      Librarian's note: An alternate cover edition c...  English   \n6      Librarian's note: There is an Alternate Cover ...  English   \n...                                                  ...      ...   \n52472  Lilah Lopez Dreser's in town to take care of u...  English   \n52473  The Fateful Trilogy continues with Fractured. ...  English   \n52475  --READERS FAVORITE AWARDS WINNER 2011--Sixteen...  English   \n52476  A POWERFUL TREMOR UNEARTHS AN ANCIENT SECRETBu...  English   \n52477  Fighting in Helaman's army is Keturah's deepes...  English   \n\n                isbn                                             genres  \\\n0      9780439023481  ['Young Adult', 'Fiction', 'Dystopia', 'Fantas...   \n1      9780439358071  ['Fantasy', 'Young Adult', 'Fiction', 'Magic',...   \n4      9780316015844  ['Young Adult', 'Fantasy', 'Romance', 'Vampire...   \n5      9780375831003  ['Historical Fiction', 'Fiction', 'Young Adult...   \n6      9780451526342  ['Classics', 'Fiction', 'Dystopia', 'Fantasy',...   \n...              ...                                                ...   \n52472  9781477594247  ['Romance', 'Young Adult', 'Contemporary', 'Co...   \n52473  2940012616562  ['Vampires', 'Paranormal', 'Young Adult', 'Rom...   \n52475  9781461017097  ['Fantasy', 'Young Adult', 'Paranormal', 'Ange...   \n52476  9781450755634  ['Fiction', 'Mystery', 'Historical Fiction', '...   \n52477  9781599554976  ['Lds Fiction', 'Historical Fiction', 'Young A...   \n\n                                              characters  ...  \\\n0      ['Katniss Everdeen', 'Peeta Mellark', 'Cato (H...  ...   \n1      ['Sirius Black', 'Draco Malfoy', 'Ron Weasley'...  ...   \n4      ['Edward Cullen', 'Jacob Black', 'Laurent', 'R...  ...   \n5      ['Liesel Meminger', 'Hans Hubermann', 'Rudy St...  ...   \n6      ['Snowball', 'Napoleon', 'Clover', 'Boxer', 'O...  ...   \n...                                                  ...  ...   \n52472                                                 []  ...   \n52473                                                 []  ...   \n52475                                                 []  ...   \n52476                                                 []  ...   \n52477                                                 []  ...   \n\n                                                coverImg bbeScore bbeVotes  \\\n0      https://i.gr-assets.com/images/S/compressed.ph...  2993816    30516   \n1      https://i.gr-assets.com/images/S/compressed.ph...  2632233    26923   \n4      https://i.gr-assets.com/images/S/compressed.ph...  1459448    14874   \n5      https://i.gr-assets.com/images/S/compressed.ph...  1372809    14168   \n6      https://i.gr-assets.com/images/S/compressed.ph...  1276599    13264   \n...                                                  ...      ...      ...   \n52472  https://i.gr-assets.com/images/S/compressed.ph...        0        1   \n52473  https://i.gr-assets.com/images/S/compressed.ph...        0        1   \n52475  https://i.gr-assets.com/images/S/compressed.ph...        0        1   \n52476  https://i.gr-assets.com/images/S/compressed.ph...        0        1   \n52477  https://i.gr-assets.com/images/S/compressed.ph...        0        1   \n\n       price ratingStar1 ratingStar2 ratingStar3  ratingStar4 ratingStar5  \\\n0       5.09     3444695     1921313      745221       171994       93557   \n1       7.38     1593642      637516      222366        39573       14526   \n4        2.1     1751460     1113682     1008686       542017      548674   \n5        3.8     1048230      524674      186297        48864       26211   \n6       4.42      986764      958699      545475       165093       84682   \n...      ...         ...         ...         ...          ...         ...   \n52472  19.18         442         384         142           48          12   \n52473    NaN         311         310         197           42          11   \n52475   7.37        2109        1868        1660          647         390   \n52476   2.86          77          78          59           19           5   \n52477   5.20         106          73          42           17           8   \n\n              genreSingle  \n0             Young Adult  \n1                 Fantasy  \n4             Young Adult  \n5      Historical Fiction  \n6                Classics  \n...                   ...  \n52472             Romance  \n52473            Vampires  \n52475             Fantasy  \n52476             Fiction  \n52477         Lds Fiction  \n\n[41058 rows x 31 columns]",
      "text/html": "<div>\n<style scoped>\n    .dataframe tbody tr th:only-of-type {\n        vertical-align: middle;\n    }\n\n    .dataframe tbody tr th {\n        vertical-align: top;\n    }\n\n    .dataframe thead th {\n        text-align: right;\n    }\n</style>\n<table border=\"1\" class=\"dataframe\">\n  <thead>\n    <tr style=\"text-align: right;\">\n      <th></th>\n      <th>bookId</th>\n      <th>title</th>\n      <th>series</th>\n      <th>author</th>\n      <th>rating</th>\n      <th>description</th>\n      <th>language</th>\n      <th>isbn</th>\n      <th>genres</th>\n      <th>characters</th>\n      <th>...</th>\n      <th>coverImg</th>\n      <th>bbeScore</th>\n      <th>bbeVotes</th>\n      <th>price</th>\n      <th>ratingStar1</th>\n      <th>ratingStar2</th>\n      <th>ratingStar3</th>\n      <th>ratingStar4</th>\n      <th>ratingStar5</th>\n      <th>genreSingle</th>\n    </tr>\n  </thead>\n  <tbody>\n    <tr>\n      <th>0</th>\n      <td>2767052</td>\n      <td>The Hunger Games</td>\n      <td>The Hunger Games #1</td>\n      <td>Suzanne Collins</td>\n      <td>4.33</td>\n      <td>WINNING MEANS FAME AND FORTUNE.LOSING MEANS CE...</td>\n      <td>English</td>\n      <td>9780439023481</td>\n      <td>['Young Adult', 'Fiction', 'Dystopia', 'Fantas...</td>\n      <td>['Katniss Everdeen', 'Peeta Mellark', 'Cato (H...</td>\n      <td>...</td>\n      <td>https://i.gr-assets.com/images/S/compressed.ph...</td>\n      <td>2993816</td>\n      <td>30516</td>\n      <td>5.09</td>\n      <td>3444695</td>\n      <td>1921313</td>\n      <td>745221</td>\n      <td>171994</td>\n      <td>93557</td>\n      <td>Young Adult</td>\n    </tr>\n    <tr>\n      <th>1</th>\n      <td>2</td>\n      <td>Harry Potter and the Order of the Phoenix</td>\n      <td>Harry Potter #5</td>\n      <td>J.K. Rowling, Mary GrandPré (Illustrator)</td>\n      <td>4.50</td>\n      <td>There is a door at the end of a silent corrido...</td>\n      <td>English</td>\n      <td>9780439358071</td>\n      <td>['Fantasy', 'Young Adult', 'Fiction', 'Magic',...</td>\n      <td>['Sirius Black', 'Draco Malfoy', 'Ron Weasley'...</td>\n      <td>...</td>\n      <td>https://i.gr-assets.com/images/S/compressed.ph...</td>\n      <td>2632233</td>\n      <td>26923</td>\n      <td>7.38</td>\n      <td>1593642</td>\n      <td>637516</td>\n      <td>222366</td>\n      <td>39573</td>\n      <td>14526</td>\n      <td>Fantasy</td>\n    </tr>\n    <tr>\n      <th>4</th>\n      <td>41865</td>\n      <td>Twilight</td>\n      <td>The Twilight Saga #1</td>\n      <td>Stephenie Meyer</td>\n      <td>3.60</td>\n      <td>About three things I was absolutely positive.\\...</td>\n      <td>English</td>\n      <td>9780316015844</td>\n      <td>['Young Adult', 'Fantasy', 'Romance', 'Vampire...</td>\n      <td>['Edward Cullen', 'Jacob Black', 'Laurent', 'R...</td>\n      <td>...</td>\n      <td>https://i.gr-assets.com/images/S/compressed.ph...</td>\n      <td>1459448</td>\n      <td>14874</td>\n      <td>2.1</td>\n      <td>1751460</td>\n      <td>1113682</td>\n      <td>1008686</td>\n      <td>542017</td>\n      <td>548674</td>\n      <td>Young Adult</td>\n    </tr>\n    <tr>\n      <th>5</th>\n      <td>19063</td>\n      <td>The Book Thief</td>\n      <td>NaN</td>\n      <td>Markus Zusak (Goodreads Author)</td>\n      <td>4.37</td>\n      <td>Librarian's note: An alternate cover edition c...</td>\n      <td>English</td>\n      <td>9780375831003</td>\n      <td>['Historical Fiction', 'Fiction', 'Young Adult...</td>\n      <td>['Liesel Meminger', 'Hans Hubermann', 'Rudy St...</td>\n      <td>...</td>\n      <td>https://i.gr-assets.com/images/S/compressed.ph...</td>\n      <td>1372809</td>\n      <td>14168</td>\n      <td>3.8</td>\n      <td>1048230</td>\n      <td>524674</td>\n      <td>186297</td>\n      <td>48864</td>\n      <td>26211</td>\n      <td>Historical Fiction</td>\n    </tr>\n    <tr>\n      <th>6</th>\n      <td>170448</td>\n      <td>Animal Farm</td>\n      <td>NaN</td>\n      <td>George Orwell, Russell Baker (Preface), C.M. W...</td>\n      <td>3.95</td>\n      <td>Librarian's note: There is an Alternate Cover ...</td>\n      <td>English</td>\n      <td>9780451526342</td>\n      <td>['Classics', 'Fiction', 'Dystopia', 'Fantasy',...</td>\n      <td>['Snowball', 'Napoleon', 'Clover', 'Boxer', 'O...</td>\n      <td>...</td>\n      <td>https://i.gr-assets.com/images/S/compressed.ph...</td>\n      <td>1276599</td>\n      <td>13264</td>\n      <td>4.42</td>\n      <td>986764</td>\n      <td>958699</td>\n      <td>545475</td>\n      <td>165093</td>\n      <td>84682</td>\n      <td>Classics</td>\n    </tr>\n    <tr>\n      <th>...</th>\n      <td>...</td>\n      <td>...</td>\n      <td>...</td>\n      <td>...</td>\n      <td>...</td>\n      <td>...</td>\n      <td>...</td>\n      <td>...</td>\n      <td>...</td>\n      <td>...</td>\n      <td>...</td>\n      <td>...</td>\n      <td>...</td>\n      <td>...</td>\n      <td>...</td>\n      <td>...</td>\n      <td>...</td>\n      <td>...</td>\n      <td>...</td>\n      <td>...</td>\n      <td>...</td>\n    </tr>\n    <tr>\n      <th>52472</th>\n      <td>12395883</td>\n      <td>Unbelievable</td>\n      <td>Port Fare #2</td>\n      <td>Sherry Gammon (Goodreads Author)</td>\n      <td>4.16</td>\n      <td>Lilah Lopez Dreser's in town to take care of u...</td>\n      <td>English</td>\n      <td>9781477594247</td>\n      <td>['Romance', 'Young Adult', 'Contemporary', 'Co...</td>\n      <td>[]</td>\n      <td>...</td>\n      <td>https://i.gr-assets.com/images/S/compressed.ph...</td>\n      <td>0</td>\n      <td>1</td>\n      <td>19.18</td>\n      <td>442</td>\n      <td>384</td>\n      <td>142</td>\n      <td>48</td>\n      <td>12</td>\n      <td>Romance</td>\n    </tr>\n    <tr>\n      <th>52473</th>\n      <td>11492014</td>\n      <td>Fractured</td>\n      <td>Fateful #2</td>\n      <td>Cheri Schmidt (Goodreads Author)</td>\n      <td>4.00</td>\n      <td>The Fateful Trilogy continues with Fractured. ...</td>\n      <td>English</td>\n      <td>2940012616562</td>\n      <td>['Vampires', 'Paranormal', 'Young Adult', 'Rom...</td>\n      <td>[]</td>\n      <td>...</td>\n      <td>https://i.gr-assets.com/images/S/compressed.ph...</td>\n      <td>0</td>\n      <td>1</td>\n      <td>NaN</td>\n      <td>311</td>\n      <td>310</td>\n      <td>197</td>\n      <td>42</td>\n      <td>11</td>\n      <td>Vampires</td>\n    </tr>\n    <tr>\n      <th>52475</th>\n      <td>10815662</td>\n      <td>Marked</td>\n      <td>Soul Guardians #1</td>\n      <td>Kim Richardson (Goodreads Author)</td>\n      <td>3.70</td>\n      <td>--READERS FAVORITE AWARDS WINNER 2011--Sixteen...</td>\n      <td>English</td>\n      <td>9781461017097</td>\n      <td>['Fantasy', 'Young Adult', 'Paranormal', 'Ange...</td>\n      <td>[]</td>\n      <td>...</td>\n      <td>https://i.gr-assets.com/images/S/compressed.ph...</td>\n      <td>0</td>\n      <td>1</td>\n      <td>7.37</td>\n      <td>2109</td>\n      <td>1868</td>\n      <td>1660</td>\n      <td>647</td>\n      <td>390</td>\n      <td>Fantasy</td>\n    </tr>\n    <tr>\n      <th>52476</th>\n      <td>11330278</td>\n      <td>Wayward Son</td>\n      <td>NaN</td>\n      <td>Tom Pollack (Goodreads Author), John Loftus (G...</td>\n      <td>3.85</td>\n      <td>A POWERFUL TREMOR UNEARTHS AN ANCIENT SECRETBu...</td>\n      <td>English</td>\n      <td>9781450755634</td>\n      <td>['Fiction', 'Mystery', 'Historical Fiction', '...</td>\n      <td>[]</td>\n      <td>...</td>\n      <td>https://i.gr-assets.com/images/S/compressed.ph...</td>\n      <td>0</td>\n      <td>1</td>\n      <td>2.86</td>\n      <td>77</td>\n      <td>78</td>\n      <td>59</td>\n      <td>19</td>\n      <td>5</td>\n      <td>Fiction</td>\n    </tr>\n    <tr>\n      <th>52477</th>\n      <td>10991547</td>\n      <td>Daughter of Helaman</td>\n      <td>Stripling Warrior #1</td>\n      <td>Misty Moncur (Goodreads Author)</td>\n      <td>4.02</td>\n      <td>Fighting in Helaman's army is Keturah's deepes...</td>\n      <td>English</td>\n      <td>9781599554976</td>\n      <td>['Lds Fiction', 'Historical Fiction', 'Young A...</td>\n      <td>[]</td>\n      <td>...</td>\n      <td>https://i.gr-assets.com/images/S/compressed.ph...</td>\n      <td>0</td>\n      <td>1</td>\n      <td>5.20</td>\n      <td>106</td>\n      <td>73</td>\n      <td>42</td>\n      <td>17</td>\n      <td>8</td>\n      <td>Lds Fiction</td>\n    </tr>\n  </tbody>\n</table>\n<p>41058 rows × 31 columns</p>\n</div>"
     },
     "execution_count": 18,
     "metadata": {},
     "output_type": "execute_result"
    }
   ],
   "source": [
    "ls=[]\n",
    "for i,f in zip(df.index,df['genres']):\n",
    "  x = ast.literal_eval(f)\n",
    "  if len(x)==0:\n",
    "    df=df.drop(i)\n",
    "  else:\n",
    "    ls.append(x[0])\n",
    "\n",
    "df['genreSingle']=ls\n",
    "df"
   ]
  },
  {
   "cell_type": "code",
   "execution_count": 19,
   "metadata": {
    "colab": {
     "base_uri": "https://localhost:8080/",
     "height": 362
    },
    "executionInfo": {
     "elapsed": 4215,
     "status": "error",
     "timestamp": 1685009040160,
     "user": {
      "displayName": "Κωνσταντίνος Κανελλάκης",
      "userId": "17854306947232766693"
     },
     "user_tz": -180
    },
    "id": "i_yJZXzvzFxu",
    "outputId": "1cff0203-42b1-45ce-fa2a-d88fa1e693cd"
   },
   "outputs": [
    {
     "data": {
      "text/plain": "         bookId                                      title  \\\n0       2767052                           The Hunger Games   \n1             2  Harry Potter and the Order of the Phoenix   \n4         41865                                   Twilight   \n5         19063                             The Book Thief   \n6        170448                                Animal Farm   \n...         ...                                        ...   \n52472  12395883                               Unbelievable   \n52473  11492014                                  Fractured   \n52475  10815662                                     Marked   \n52476  11330278                                Wayward Son   \n52477  10991547                        Daughter of Helaman   \n\n                     series  \\\n0       The Hunger Games #1   \n1           Harry Potter #5   \n4      The Twilight Saga #1   \n5                       NaN   \n6                       NaN   \n...                     ...   \n52472          Port Fare #2   \n52473            Fateful #2   \n52475     Soul Guardians #1   \n52476                   NaN   \n52477  Stripling Warrior #1   \n\n                                                  author  rating  \\\n0                                        Suzanne Collins    4.33   \n1              J.K. Rowling, Mary GrandPré (Illustrator)    4.50   \n4                                        Stephenie Meyer    3.60   \n5                        Markus Zusak (Goodreads Author)    4.37   \n6      George Orwell, Russell Baker (Preface), C.M. W...    3.95   \n...                                                  ...     ...   \n52472                   Sherry Gammon (Goodreads Author)    4.16   \n52473                   Cheri Schmidt (Goodreads Author)    4.00   \n52475                  Kim Richardson (Goodreads Author)    3.70   \n52476  Tom Pollack (Goodreads Author), John Loftus (G...    3.85   \n52477                    Misty Moncur (Goodreads Author)    4.02   \n\n                                             description language  \\\n0      WINNING MEANS FAME AND FORTUNE.LOSING MEANS CE...  English   \n1      There is a door at the end of a silent corrido...  English   \n4      About three things I was absolutely positive.\\...  English   \n5      Librarian's note: An alternate cover edition c...  English   \n6      Librarian's note: There is an Alternate Cover ...  English   \n...                                                  ...      ...   \n52472  Lilah Lopez Dreser's in town to take care of u...  English   \n52473  The Fateful Trilogy continues with Fractured. ...  English   \n52475  --READERS FAVORITE AWARDS WINNER 2011--Sixteen...  English   \n52476  A POWERFUL TREMOR UNEARTHS AN ANCIENT SECRETBu...  English   \n52477  Fighting in Helaman's army is Keturah's deepes...  English   \n\n                isbn                                             genres  \\\n0      9780439023481  ['Young Adult', 'Fiction', 'Dystopia', 'Fantas...   \n1      9780439358071  ['Fantasy', 'Young Adult', 'Fiction', 'Magic',...   \n4      9780316015844  ['Young Adult', 'Fantasy', 'Romance', 'Vampire...   \n5      9780375831003  ['Historical Fiction', 'Fiction', 'Young Adult...   \n6      9780451526342  ['Classics', 'Fiction', 'Dystopia', 'Fantasy',...   \n...              ...                                                ...   \n52472  9781477594247  ['Romance', 'Young Adult', 'Contemporary', 'Co...   \n52473  2940012616562  ['Vampires', 'Paranormal', 'Young Adult', 'Rom...   \n52475  9781461017097  ['Fantasy', 'Young Adult', 'Paranormal', 'Ange...   \n52476  9781450755634  ['Fiction', 'Mystery', 'Historical Fiction', '...   \n52477  9781599554976  ['Lds Fiction', 'Historical Fiction', 'Young A...   \n\n                                              characters  ... bbeScore  \\\n0      ['Katniss Everdeen', 'Peeta Mellark', 'Cato (H...  ...  2993816   \n1      ['Sirius Black', 'Draco Malfoy', 'Ron Weasley'...  ...  2632233   \n4      ['Edward Cullen', 'Jacob Black', 'Laurent', 'R...  ...  1459448   \n5      ['Liesel Meminger', 'Hans Hubermann', 'Rudy St...  ...  1372809   \n6      ['Snowball', 'Napoleon', 'Clover', 'Boxer', 'O...  ...  1276599   \n...                                                  ...  ...      ...   \n52472                                                 []  ...        0   \n52473                                                 []  ...        0   \n52475                                                 []  ...        0   \n52476                                                 []  ...        0   \n52477                                                 []  ...        0   \n\n      bbeVotes  price ratingStar1 ratingStar2 ratingStar3 ratingStar4  \\\n0        30516   5.09     3444695     1921313      745221      171994   \n1        26923   7.38     1593642      637516      222366       39573   \n4        14874    2.1     1751460     1113682     1008686      542017   \n5        14168    3.8     1048230      524674      186297       48864   \n6        13264   4.42      986764      958699      545475      165093   \n...        ...    ...         ...         ...         ...         ...   \n52472        1  19.18         442         384         142          48   \n52473        1    NaN         311         310         197          42   \n52475        1   7.37        2109        1868        1660         647   \n52476        1   2.86          77          78          59          19   \n52477        1   5.20         106          73          42          17   \n\n       ratingStar5         genreSingle  publishedYear  \n0            93557         Young Adult           2008  \n1            14526             Fantasy           2004  \n4           548674         Young Adult           2006  \n5            26211  Historical Fiction           2006  \n6            84682            Classics           1996  \n...            ...                 ...            ...  \n52472           12             Romance           2013  \n52473           11            Vampires           2011  \n52475          390             Fantasy           2011  \n52476            5             Fiction           2011  \n52477            8         Lds Fiction           2011  \n\n[41058 rows x 32 columns]",
      "text/html": "<div>\n<style scoped>\n    .dataframe tbody tr th:only-of-type {\n        vertical-align: middle;\n    }\n\n    .dataframe tbody tr th {\n        vertical-align: top;\n    }\n\n    .dataframe thead th {\n        text-align: right;\n    }\n</style>\n<table border=\"1\" class=\"dataframe\">\n  <thead>\n    <tr style=\"text-align: right;\">\n      <th></th>\n      <th>bookId</th>\n      <th>title</th>\n      <th>series</th>\n      <th>author</th>\n      <th>rating</th>\n      <th>description</th>\n      <th>language</th>\n      <th>isbn</th>\n      <th>genres</th>\n      <th>characters</th>\n      <th>...</th>\n      <th>bbeScore</th>\n      <th>bbeVotes</th>\n      <th>price</th>\n      <th>ratingStar1</th>\n      <th>ratingStar2</th>\n      <th>ratingStar3</th>\n      <th>ratingStar4</th>\n      <th>ratingStar5</th>\n      <th>genreSingle</th>\n      <th>publishedYear</th>\n    </tr>\n  </thead>\n  <tbody>\n    <tr>\n      <th>0</th>\n      <td>2767052</td>\n      <td>The Hunger Games</td>\n      <td>The Hunger Games #1</td>\n      <td>Suzanne Collins</td>\n      <td>4.33</td>\n      <td>WINNING MEANS FAME AND FORTUNE.LOSING MEANS CE...</td>\n      <td>English</td>\n      <td>9780439023481</td>\n      <td>['Young Adult', 'Fiction', 'Dystopia', 'Fantas...</td>\n      <td>['Katniss Everdeen', 'Peeta Mellark', 'Cato (H...</td>\n      <td>...</td>\n      <td>2993816</td>\n      <td>30516</td>\n      <td>5.09</td>\n      <td>3444695</td>\n      <td>1921313</td>\n      <td>745221</td>\n      <td>171994</td>\n      <td>93557</td>\n      <td>Young Adult</td>\n      <td>2008</td>\n    </tr>\n    <tr>\n      <th>1</th>\n      <td>2</td>\n      <td>Harry Potter and the Order of the Phoenix</td>\n      <td>Harry Potter #5</td>\n      <td>J.K. Rowling, Mary GrandPré (Illustrator)</td>\n      <td>4.50</td>\n      <td>There is a door at the end of a silent corrido...</td>\n      <td>English</td>\n      <td>9780439358071</td>\n      <td>['Fantasy', 'Young Adult', 'Fiction', 'Magic',...</td>\n      <td>['Sirius Black', 'Draco Malfoy', 'Ron Weasley'...</td>\n      <td>...</td>\n      <td>2632233</td>\n      <td>26923</td>\n      <td>7.38</td>\n      <td>1593642</td>\n      <td>637516</td>\n      <td>222366</td>\n      <td>39573</td>\n      <td>14526</td>\n      <td>Fantasy</td>\n      <td>2004</td>\n    </tr>\n    <tr>\n      <th>4</th>\n      <td>41865</td>\n      <td>Twilight</td>\n      <td>The Twilight Saga #1</td>\n      <td>Stephenie Meyer</td>\n      <td>3.60</td>\n      <td>About three things I was absolutely positive.\\...</td>\n      <td>English</td>\n      <td>9780316015844</td>\n      <td>['Young Adult', 'Fantasy', 'Romance', 'Vampire...</td>\n      <td>['Edward Cullen', 'Jacob Black', 'Laurent', 'R...</td>\n      <td>...</td>\n      <td>1459448</td>\n      <td>14874</td>\n      <td>2.1</td>\n      <td>1751460</td>\n      <td>1113682</td>\n      <td>1008686</td>\n      <td>542017</td>\n      <td>548674</td>\n      <td>Young Adult</td>\n      <td>2006</td>\n    </tr>\n    <tr>\n      <th>5</th>\n      <td>19063</td>\n      <td>The Book Thief</td>\n      <td>NaN</td>\n      <td>Markus Zusak (Goodreads Author)</td>\n      <td>4.37</td>\n      <td>Librarian's note: An alternate cover edition c...</td>\n      <td>English</td>\n      <td>9780375831003</td>\n      <td>['Historical Fiction', 'Fiction', 'Young Adult...</td>\n      <td>['Liesel Meminger', 'Hans Hubermann', 'Rudy St...</td>\n      <td>...</td>\n      <td>1372809</td>\n      <td>14168</td>\n      <td>3.8</td>\n      <td>1048230</td>\n      <td>524674</td>\n      <td>186297</td>\n      <td>48864</td>\n      <td>26211</td>\n      <td>Historical Fiction</td>\n      <td>2006</td>\n    </tr>\n    <tr>\n      <th>6</th>\n      <td>170448</td>\n      <td>Animal Farm</td>\n      <td>NaN</td>\n      <td>George Orwell, Russell Baker (Preface), C.M. W...</td>\n      <td>3.95</td>\n      <td>Librarian's note: There is an Alternate Cover ...</td>\n      <td>English</td>\n      <td>9780451526342</td>\n      <td>['Classics', 'Fiction', 'Dystopia', 'Fantasy',...</td>\n      <td>['Snowball', 'Napoleon', 'Clover', 'Boxer', 'O...</td>\n      <td>...</td>\n      <td>1276599</td>\n      <td>13264</td>\n      <td>4.42</td>\n      <td>986764</td>\n      <td>958699</td>\n      <td>545475</td>\n      <td>165093</td>\n      <td>84682</td>\n      <td>Classics</td>\n      <td>1996</td>\n    </tr>\n    <tr>\n      <th>...</th>\n      <td>...</td>\n      <td>...</td>\n      <td>...</td>\n      <td>...</td>\n      <td>...</td>\n      <td>...</td>\n      <td>...</td>\n      <td>...</td>\n      <td>...</td>\n      <td>...</td>\n      <td>...</td>\n      <td>...</td>\n      <td>...</td>\n      <td>...</td>\n      <td>...</td>\n      <td>...</td>\n      <td>...</td>\n      <td>...</td>\n      <td>...</td>\n      <td>...</td>\n      <td>...</td>\n    </tr>\n    <tr>\n      <th>52472</th>\n      <td>12395883</td>\n      <td>Unbelievable</td>\n      <td>Port Fare #2</td>\n      <td>Sherry Gammon (Goodreads Author)</td>\n      <td>4.16</td>\n      <td>Lilah Lopez Dreser's in town to take care of u...</td>\n      <td>English</td>\n      <td>9781477594247</td>\n      <td>['Romance', 'Young Adult', 'Contemporary', 'Co...</td>\n      <td>[]</td>\n      <td>...</td>\n      <td>0</td>\n      <td>1</td>\n      <td>19.18</td>\n      <td>442</td>\n      <td>384</td>\n      <td>142</td>\n      <td>48</td>\n      <td>12</td>\n      <td>Romance</td>\n      <td>2013</td>\n    </tr>\n    <tr>\n      <th>52473</th>\n      <td>11492014</td>\n      <td>Fractured</td>\n      <td>Fateful #2</td>\n      <td>Cheri Schmidt (Goodreads Author)</td>\n      <td>4.00</td>\n      <td>The Fateful Trilogy continues with Fractured. ...</td>\n      <td>English</td>\n      <td>2940012616562</td>\n      <td>['Vampires', 'Paranormal', 'Young Adult', 'Rom...</td>\n      <td>[]</td>\n      <td>...</td>\n      <td>0</td>\n      <td>1</td>\n      <td>NaN</td>\n      <td>311</td>\n      <td>310</td>\n      <td>197</td>\n      <td>42</td>\n      <td>11</td>\n      <td>Vampires</td>\n      <td>2011</td>\n    </tr>\n    <tr>\n      <th>52475</th>\n      <td>10815662</td>\n      <td>Marked</td>\n      <td>Soul Guardians #1</td>\n      <td>Kim Richardson (Goodreads Author)</td>\n      <td>3.70</td>\n      <td>--READERS FAVORITE AWARDS WINNER 2011--Sixteen...</td>\n      <td>English</td>\n      <td>9781461017097</td>\n      <td>['Fantasy', 'Young Adult', 'Paranormal', 'Ange...</td>\n      <td>[]</td>\n      <td>...</td>\n      <td>0</td>\n      <td>1</td>\n      <td>7.37</td>\n      <td>2109</td>\n      <td>1868</td>\n      <td>1660</td>\n      <td>647</td>\n      <td>390</td>\n      <td>Fantasy</td>\n      <td>2011</td>\n    </tr>\n    <tr>\n      <th>52476</th>\n      <td>11330278</td>\n      <td>Wayward Son</td>\n      <td>NaN</td>\n      <td>Tom Pollack (Goodreads Author), John Loftus (G...</td>\n      <td>3.85</td>\n      <td>A POWERFUL TREMOR UNEARTHS AN ANCIENT SECRETBu...</td>\n      <td>English</td>\n      <td>9781450755634</td>\n      <td>['Fiction', 'Mystery', 'Historical Fiction', '...</td>\n      <td>[]</td>\n      <td>...</td>\n      <td>0</td>\n      <td>1</td>\n      <td>2.86</td>\n      <td>77</td>\n      <td>78</td>\n      <td>59</td>\n      <td>19</td>\n      <td>5</td>\n      <td>Fiction</td>\n      <td>2011</td>\n    </tr>\n    <tr>\n      <th>52477</th>\n      <td>10991547</td>\n      <td>Daughter of Helaman</td>\n      <td>Stripling Warrior #1</td>\n      <td>Misty Moncur (Goodreads Author)</td>\n      <td>4.02</td>\n      <td>Fighting in Helaman's army is Keturah's deepes...</td>\n      <td>English</td>\n      <td>9781599554976</td>\n      <td>['Lds Fiction', 'Historical Fiction', 'Young A...</td>\n      <td>[]</td>\n      <td>...</td>\n      <td>0</td>\n      <td>1</td>\n      <td>5.20</td>\n      <td>106</td>\n      <td>73</td>\n      <td>42</td>\n      <td>17</td>\n      <td>8</td>\n      <td>Lds Fiction</td>\n      <td>2011</td>\n    </tr>\n  </tbody>\n</table>\n<p>41058 rows × 32 columns</p>\n</div>"
     },
     "execution_count": 19,
     "metadata": {},
     "output_type": "execute_result"
    }
   ],
   "source": [
    "df['publishedYear'] = pd.to_datetime(df.publishDate, errors='coerce')\n",
    "\n",
    "\n",
    "df['publishedYear'] = pd.to_datetime(df['publishDate'], format='%m/%d/%Y', errors='coerce')\n",
    "\n",
    "\n",
    "df['publishedYear'] = df['publishedYear'].dt.year.astype('Int64')\n",
    "df"
   ]
  },
  {
   "cell_type": "markdown",
   "source": [
    "## Q2.1"
   ],
   "metadata": {
    "collapsed": false
   }
  },
  {
   "cell_type": "code",
   "execution_count": null,
   "outputs": [],
   "source": [
    "hist_plot=df['rating'].hist(bins=20)\n",
    "hist_plot.set_title('Histogram of rating')\n",
    "hist_plot.set_xlabel('Rating')\n",
    "hist_plot.set_ylabel('Frequency')"
   ],
   "metadata": {
    "collapsed": false
   }
  },
  {
   "cell_type": "markdown",
   "source": [
    "## Q2.2"
   ],
   "metadata": {
    "collapsed": false
   }
  },
  {
   "cell_type": "code",
   "execution_count": null,
   "outputs": [],
   "source": [
    "df[\"pages\"] = pd.to_numeric(df[\"pages\"])\n",
    "l=df.sort_values(\"pages\",ascending=False)\n",
    "result=l.head(10)\n",
    "for x,y in zip(result['title'], result['pages']):\n",
    "  print(x,y)"
   ],
   "metadata": {
    "collapsed": false
   }
  },
  {
   "cell_type": "markdown",
   "source": [
    "## Q2.3"
   ],
   "metadata": {
    "collapsed": false
   }
  },
  {
   "cell_type": "code",
   "execution_count": null,
   "outputs": [],
   "source": [
    "df[\"ratingStar5\"] = pd.to_numeric(df[\"ratingStar5\"])\n",
    "l=df.sort_values(\"ratingStar5\",ascending=False)\n",
    "result=l.head(10)\n",
    "for x,y in zip(result['title'], result['ratingStar5']):\n",
    "  if(y>10000):\n",
    "    print(x,y)"
   ],
   "metadata": {
    "collapsed": false
   }
  },
  {
   "cell_type": "markdown",
   "source": [
    "## Q2.5"
   ],
   "metadata": {
    "collapsed": false
   }
  },
  {
   "cell_type": "code",
   "execution_count": null,
   "outputs": [],
   "source": [
    "z=df.groupby(['author'])['title'].count().reset_index(name='books')\n",
    "l=z.sort_values(\"books\",ascending=False)\n",
    "result=l.head(10)\n",
    "result"
   ],
   "metadata": {
    "collapsed": false
   }
  },
  {
   "cell_type": "markdown",
   "source": [
    "## Q2.6"
   ],
   "metadata": {
    "collapsed": false
   }
  },
  {
   "cell_type": "code",
   "execution_count": null,
   "outputs": [],
   "source": [
    "z=df.groupby(['author'])['numRatings'].sum().reset_index(name='numRatings')\n",
    "l=z.sort_values(\"numRatings\",ascending=False)\n",
    "result=l.head(10)\n",
    "result"
   ],
   "metadata": {
    "collapsed": false
   }
  },
  {
   "cell_type": "markdown",
   "source": [
    "# Q3 - Recomendation System"
   ],
   "metadata": {
    "collapsed": false
   }
  },
  {
   "cell_type": "code",
   "execution_count": 20,
   "metadata": {
    "colab": {
     "base_uri": "https://localhost:8080/"
    },
    "executionInfo": {
     "elapsed": 710,
     "status": "ok",
     "timestamp": 1685007105855,
     "user": {
      "displayName": "Κωνσταντίνος Κανελλάκης",
      "userId": "17854306947232766693"
     },
     "user_tz": -180
    },
    "id": "YH50sg2N8wCm",
    "outputId": "89d225b5-7c2c-4d51-a3c9-3cddd3e75911"
   },
   "outputs": [],
   "source": [
    "from sklearn.feature_extraction.text import TfidfVectorizer\n",
    "from sklearn.metrics.pairwise import cosine_similarity\n",
    "\n",
    "english_data = df[df['language'] == 'English'][['bookId', 'description', 'title']]\n",
    "# Use the 'stop_words' parameter to remove common English words\n",
    "tfidf_vectorizer_bigrams = TfidfVectorizer(max_df=1.0, min_df=1, max_features=1500, stop_words='english', ngram_range=(2, 3))\n",
    "tfidf_bigrams = tfidf_vectorizer_bigrams.fit_transform(english_data.description)\n",
    "\n",
    "# Calculate cosine similarities\n",
    "cosine_similarities_bigrams = cosine_similarity(tfidf_bigrams, tfidf_bigrams)\n",
    "\n",
    "english_data = english_data.reset_index(drop=True)  # Reset the index\n",
    "\n",
    "similar_books_bigrams = {}\n",
    "num_items = len(english_data)\n",
    "\n",
    "for i, row in english_data.iterrows():\n",
    "    book_id = row['bookId']\n",
    "    similar_indices = cosine_similarities_bigrams[i % num_items].argsort()[:-1]  # Exclude self-similarity\n",
    "    similar_ids = english_data.loc[similar_indices, 'bookId'].tolist()\n",
    "    similar_books_bigrams[book_id] = (similar_ids[:100], similar_indices[::-1][1:101])  # Store top 100 similar titles\n",
    "\n",
    "similar_books_unigrams = {}\n",
    "\n",
    "tfidf_vectorizer_unigrams = TfidfVectorizer(max_df=1.0, min_df=1, max_features=2500, stop_words='english', ngram_range=(1, 1))\n",
    "tfidf_unigrams = tfidf_vectorizer_bigrams.fit_transform(english_data.description)\n",
    "cosine_similarities_unigrams = cosine_similarity(tfidf_unigrams, tfidf_unigrams)\n",
    "for i, row in english_data.iterrows():\n",
    "    book_id = row['bookId']\n",
    "    similar_indices = cosine_similarities_unigrams[i % num_items].argsort()[:-1]  # Exclude self-similarity\n",
    "    similar_ids = english_data.loc[similar_indices, 'bookId'].tolist()\n",
    "    similar_books_unigrams[book_id] = (similar_ids[:100], similar_indices[::-1][1:101])"
   ]
  },
  {
   "cell_type": "code",
   "execution_count": 21,
   "outputs": [],
   "source": [
    "def recommend(item_id, num, bi_or_uni):\n",
    "    if item_id not in df['bookId'].values:\n",
    "        print(f\"Book with BookId {item_id} does not exist.\")\n",
    "        return\n",
    "    book_name = df[df['bookId'] == item_id]['title'].values[0]\n",
    "    print(f\"Recommending {num} books similar to: {book_name}\")\n",
    "    print(\"-\" * 50)\n",
    "    if bi_or_uni==0:\n",
    "        recommendations, inds = similar_books_bigrams[item_id]\n",
    "    else:\n",
    "        recommendations, inds = similar_books_unigrams[item_id]\n",
    "    i = english_data.index[english_data['bookId'] == item_id].tolist()[0]\n",
    "    for id, index, rank in zip(recommendations, inds, range(1, num+1)):\n",
    "        recom = df[df['bookId'] == id]\n",
    "        print(f\"Recommended: {recom.title.values[0]}\")\n",
    "        print(f\"Description: {recom.description.values[0]}\")\n",
    "        if bi_or_uni==0:\n",
    "            print(f\"(score: {cosine_similarities_unigrams[i % num_items][index]})\")\n",
    "        else:\n",
    "            print(f\"(score: {cosine_similarities_unigrams[i % num_items][index]})\")\n",
    "        print(\"-\" * 50)\n",
    "recommend(item_id = 19063, num = 5, bi_or_uni=1) # 0 for bigrams/1 for unigrams\n"
   ],
   "metadata": {
    "collapsed": false
   }
  },
  {
   "cell_type": "markdown",
   "source": [
    "# Q4 - Classification"
   ],
   "metadata": {
    "collapsed": false
   }
  },
  {
   "cell_type": "code",
   "execution_count": 56,
   "outputs": [
    {
     "name": "stderr",
     "output_type": "stream",
     "text": [
      "[nltk_data] Downloading package omw-1.4 to\n",
      "[nltk_data]     C:\\Users\\Κοστασ\\AppData\\Roaming\\nltk_data...\n",
      "[nltk_data]   Package omw-1.4 is already up-to-date!\n"
     ]
    }
   ],
   "source": [
    "import pickle\n",
    "import nltk\n",
    "nltk.download('omw-1.4')\n",
    "import gensim\n",
    "from nltk.corpus import stopwords\n",
    "from nltk.tokenize import sent_tokenize,word_tokenize\n",
    "from nltk.stem import WordNetLemmatizer\n",
    "\n",
    "stop_words = set(stopwords.words('english'))\n",
    "lemmatizer = WordNetLemmatizer()\n",
    "\n",
    "ls=[]\n",
    "ls_bookId=[]\n",
    "ls_description=[]\n",
    "ls_genreSingle=[]\n",
    "\n",
    "gen=df['genreSingle'].value_counts()\n",
    "gen_df=pd.DataFrame(gen)\n",
    "g=gen_df.head(10)\n",
    "ls = list(g.index.values) #list with 10 most frequently genres\n",
    "\n",
    "new_df=df[df['genreSingle'].isin(ls)]\n",
    "new_df = new_df.head(10000)\n",
    "keep=['bookId', 'description', 'genreSingle']\n",
    "new_df=new_df.drop(df.columns.difference(keep), axis=1)\n",
    "\n",
    "#NTLK METHOD\n",
    "# Preprocess function to clean a single text\n",
    "def preprocess_text(text):\n",
    "    tokens = word_tokenize(text.lower())    # Tokenize the text\n",
    "    tokens = [token for token in tokens if token.isalpha() and token not in stop_words]   # Remove stop words and punctuation\n",
    "    tokens = [lemmatizer.lemmatize(token) for token in tokens]    # Lemmatize the tokens\n",
    "    cleaned_text = ' '.join(tokens)   # Join the tokens back into a single string\n",
    "    return cleaned_text\n",
    "\n",
    "# Apply the preprocessing function to the desired column\n",
    "new_df['cleaned_description'] = new_df['description'].apply(preprocess_text)\n",
    "\n",
    "desc=list(new_df['cleaned_description'])\n",
    "tokenized_sentences = [word_tokenize(sentence) for sentence in desc]\n",
    "model=gensim.models.Word2Vec(\n",
    "    tokenized_sentences,\n",
    "    vector_size=200,  # desired no. of features/independent variables\n",
    "    window=5,   # context window size\n",
    "    min_count=1,\n",
    "    sg=1,   # 1 for skip-gram model\n",
    "    hs=0,\n",
    "    negative=10,    # for negative sampling\n",
    "    workers=10,    # no.of cores\n",
    "    seed=34)\n",
    "\n",
    "f=model.train(tokenized_sentences,total_examples=len(tokenized_sentences),epochs=20)\n",
    "word_vectors = model.wv"
   ],
   "metadata": {
    "collapsed": false
   }
  },
  {
   "cell_type": "code",
   "execution_count": 57,
   "outputs": [
    {
     "data": {
      "text/plain": "        bookId                                        description  \\\n0      2767052  WINNING MEANS FAME AND FORTUNE.LOSING MEANS CE...   \n1            2  There is a door at the end of a silent corrido...   \n4        41865  About three things I was absolutely positive.\\...   \n5        19063  Librarian's note: An alternate cover edition c...   \n6       170448  Librarian's note: There is an Alternate Cover ...   \n...        ...                                                ...   \n16103    91700  The New York Times Bestseller from the beloved...   \n16104    64105  Arthur Pendragon is King! Unchallenged on the ...   \n16106    96977  Millie, a ghost for 800 years wants only one m...   \n16108    17607  All About Love offers radical new ways to thin...   \n16112    81992  In the twenty-first century man created the Es...   \n\n              genreSingle                                cleaned_description  \\\n0             Young Adult  winning mean fame mean certain hunger game beg...   \n1                 Fantasy  door end silent corridor haunting harry pottte...   \n4             Young Adult  three thing absolutely positive first edward v...   \n5      Historical Fiction  librarian note alternate cover edition found h...   \n6                Classics  librarian note alternate cover edition edition...   \n...                   ...                                                ...   \n16103             Fiction  new york time bestseller beloved author bird b...   \n16104             Fantasy  arthur pendragon king unchallenged battlefield...   \n16106             Fantasy  millie ghost year want one man jonathan zombie...   \n16108          Nonfiction  love offer radical new way think love showing ...   \n16112     Science Fiction  century man created eschaton sentient artifici...   \n\n                                                 Vectors  \n0      [0.016756093, -0.28045183, 0.31270614, -0.1267...  \n1      [-0.105010405, -0.22259161, 0.22414665, -0.063...  \n4      [0.008217162, -0.2012398, 0.25744513, -0.06214...  \n5      [0.0072412654, -0.25959766, 0.36176905, 0.0756...  \n6      [-0.13475621, -0.21251562, 0.30102888, -0.0875...  \n...                                                  ...  \n16103  [-0.04428609, -0.203658, 0.18971704, 0.0131025...  \n16104  [0.11786896, -0.1039029, 0.2104844, -0.1374862...  \n16106  [0.018022655, -0.25688264, 0.22911234, -0.1506...  \n16108  [-0.10626026, -0.19673954, 0.24102373, -0.0081...  \n16112  [-0.018104276, -0.26333216, 0.25496024, -0.056...  \n\n[9998 rows x 5 columns]",
      "text/html": "<div>\n<style scoped>\n    .dataframe tbody tr th:only-of-type {\n        vertical-align: middle;\n    }\n\n    .dataframe tbody tr th {\n        vertical-align: top;\n    }\n\n    .dataframe thead th {\n        text-align: right;\n    }\n</style>\n<table border=\"1\" class=\"dataframe\">\n  <thead>\n    <tr style=\"text-align: right;\">\n      <th></th>\n      <th>bookId</th>\n      <th>description</th>\n      <th>genreSingle</th>\n      <th>cleaned_description</th>\n      <th>Vectors</th>\n    </tr>\n  </thead>\n  <tbody>\n    <tr>\n      <th>0</th>\n      <td>2767052</td>\n      <td>WINNING MEANS FAME AND FORTUNE.LOSING MEANS CE...</td>\n      <td>Young Adult</td>\n      <td>winning mean fame mean certain hunger game beg...</td>\n      <td>[0.016756093, -0.28045183, 0.31270614, -0.1267...</td>\n    </tr>\n    <tr>\n      <th>1</th>\n      <td>2</td>\n      <td>There is a door at the end of a silent corrido...</td>\n      <td>Fantasy</td>\n      <td>door end silent corridor haunting harry pottte...</td>\n      <td>[-0.105010405, -0.22259161, 0.22414665, -0.063...</td>\n    </tr>\n    <tr>\n      <th>4</th>\n      <td>41865</td>\n      <td>About three things I was absolutely positive.\\...</td>\n      <td>Young Adult</td>\n      <td>three thing absolutely positive first edward v...</td>\n      <td>[0.008217162, -0.2012398, 0.25744513, -0.06214...</td>\n    </tr>\n    <tr>\n      <th>5</th>\n      <td>19063</td>\n      <td>Librarian's note: An alternate cover edition c...</td>\n      <td>Historical Fiction</td>\n      <td>librarian note alternate cover edition found h...</td>\n      <td>[0.0072412654, -0.25959766, 0.36176905, 0.0756...</td>\n    </tr>\n    <tr>\n      <th>6</th>\n      <td>170448</td>\n      <td>Librarian's note: There is an Alternate Cover ...</td>\n      <td>Classics</td>\n      <td>librarian note alternate cover edition edition...</td>\n      <td>[-0.13475621, -0.21251562, 0.30102888, -0.0875...</td>\n    </tr>\n    <tr>\n      <th>...</th>\n      <td>...</td>\n      <td>...</td>\n      <td>...</td>\n      <td>...</td>\n      <td>...</td>\n    </tr>\n    <tr>\n      <th>16103</th>\n      <td>91700</td>\n      <td>The New York Times Bestseller from the beloved...</td>\n      <td>Fiction</td>\n      <td>new york time bestseller beloved author bird b...</td>\n      <td>[-0.04428609, -0.203658, 0.18971704, 0.0131025...</td>\n    </tr>\n    <tr>\n      <th>16104</th>\n      <td>64105</td>\n      <td>Arthur Pendragon is King! Unchallenged on the ...</td>\n      <td>Fantasy</td>\n      <td>arthur pendragon king unchallenged battlefield...</td>\n      <td>[0.11786896, -0.1039029, 0.2104844, -0.1374862...</td>\n    </tr>\n    <tr>\n      <th>16106</th>\n      <td>96977</td>\n      <td>Millie, a ghost for 800 years wants only one m...</td>\n      <td>Fantasy</td>\n      <td>millie ghost year want one man jonathan zombie...</td>\n      <td>[0.018022655, -0.25688264, 0.22911234, -0.1506...</td>\n    </tr>\n    <tr>\n      <th>16108</th>\n      <td>17607</td>\n      <td>All About Love offers radical new ways to thin...</td>\n      <td>Nonfiction</td>\n      <td>love offer radical new way think love showing ...</td>\n      <td>[-0.10626026, -0.19673954, 0.24102373, -0.0081...</td>\n    </tr>\n    <tr>\n      <th>16112</th>\n      <td>81992</td>\n      <td>In the twenty-first century man created the Es...</td>\n      <td>Science Fiction</td>\n      <td>century man created eschaton sentient artifici...</td>\n      <td>[-0.018104276, -0.26333216, 0.25496024, -0.056...</td>\n    </tr>\n  </tbody>\n</table>\n<p>9998 rows × 5 columns</p>\n</div>"
     },
     "execution_count": 57,
     "metadata": {},
     "output_type": "execute_result"
    }
   ],
   "source": [
    "sentence_vectors = {}\n",
    "ls = []\n",
    "for sentence,i in zip(tokenized_sentences,new_df.index):\n",
    "  sum = 0\n",
    "  count = 0\n",
    "  for word in sentence:\n",
    "    if word in word_vectors.key_to_index:\n",
    "      count += 1\n",
    "      sum += word_vectors.get_vector(word)\n",
    "  if count != 0:\n",
    "    average = sum / count\n",
    "    ls.append(average)\n",
    "  else:\n",
    "    new_df=new_df.drop(i)\n",
    "    continue\n",
    "  sentence_vectors[' '.join(sentence)] = average\n",
    "\n",
    "filename = 'sentence_vectors.pkl'\n",
    "with open(filename, 'wb') as f:\n",
    "  pickle.dump(sentence_vectors, f)\n",
    "new_df['Vectors'] = ls"
   ],
   "metadata": {
    "collapsed": false
   }
  },
  {
   "cell_type": "code",
   "execution_count": 61,
   "outputs": [],
   "source": [
    "from sklearn.model_selection import train_test_split\n",
    "import numpy as np\n",
    "\n",
    "scoring=('precision_macro', 'recall_macro', 'f1_macro', 'accuracy')\n",
    "X = np.vstack(new_df['Vectors'])\n",
    "Y = new_df['genreSingle']\n",
    "X_train, X_test, Y_train, Y_test = train_test_split(X, Y, test_size=0.2, random_state=42)\n"
   ],
   "metadata": {
    "collapsed": false
   }
  },
  {
   "cell_type": "markdown",
   "source": [
    "## RandomForest"
   ],
   "metadata": {
    "collapsed": false
   }
  },
  {
   "cell_type": "code",
   "execution_count": 70,
   "outputs": [
    {
     "name": "stdout",
     "output_type": "stream",
     "text": [
      "Precision: 0.6778681600099352\n",
      "Recall: 0.3689348069004384\n",
      "F1 Score: 0.40232733549662375\n",
      "Accuracy: 0.5591102102102102\n"
     ]
    }
   ],
   "source": [
    "from sklearn.model_selection import cross_validate\n",
    "from sklearn.ensemble import RandomForestClassifier\n",
    "\n",
    "results_rf = []\n",
    "# Create the Random Forest model\n",
    "rf_model = RandomForestClassifier()\n",
    "\n",
    "# Perform cross-validation\n",
    "cross_val_results = cross_validate(rf_model, X, Y, cv=10, scoring=scoring, n_jobs=-1)\n",
    "\n",
    "# Extract the scores\n",
    "precision_scores_rf = cross_val_results['test_precision_macro'].mean()\n",
    "results_rf.append(precision_scores_rf)\n",
    "recall_scores_rf = cross_val_results['test_recall_macro'].mean()\n",
    "results_rf.append(recall_scores_rf)\n",
    "f1_scores_rf = cross_val_results['test_f1_macro'].mean()\n",
    "results_rf.append(f1_scores_rf)\n",
    "accuracy_scores_rf = cross_val_results['test_accuracy'].mean()\n",
    "results_rf.append(accuracy_scores_rf)\n",
    "\n",
    "# Print the scores\n",
    "print(\"Precision:\", precision_scores_rf)\n",
    "print(\"Recall:\", recall_scores_rf)\n",
    "print(\"F1 Score:\", f1_scores_rf)\n",
    "print(\"Accuracy:\", accuracy_scores_rf)\n"
   ],
   "metadata": {
    "collapsed": false
   }
  },
  {
   "cell_type": "code",
   "execution_count": 71,
   "outputs": [
    {
     "name": "stdout",
     "output_type": "stream",
     "text": [
      "Precision: 0.4144823101601549\n",
      "Recall: 0.4740734262305978\n",
      "F1 Score: 0.3809920280226429\n",
      "Accuracy: 0.414382982982983\n"
     ]
    }
   ],
   "source": [
    "from sklearn.naive_bayes import GaussianNB\n",
    "\n",
    "results_nb = []\n",
    "# Create the Νaive_Βayes model\n",
    "nb_model = GaussianNB()\n",
    "\n",
    "# Perform cross-validation\n",
    "cross_val_results = cross_validate(nb_model, X, Y, cv=10, scoring=scoring, n_jobs=-1)\n",
    "\n",
    "# Extract the scores\n",
    "precision_scores_nb = cross_val_results['test_precision_macro'].mean()\n",
    "results_nb.append(precision_scores_nb)\n",
    "recall_scores_nb = cross_val_results['test_recall_macro'].mean()\n",
    "results_nb.append(recall_scores_nb)\n",
    "f1_scores_nb = cross_val_results['test_f1_macro'].mean()\n",
    "results_nb.append(f1_scores_nb)\n",
    "accuracy_scores_nb = cross_val_results['test_accuracy'].mean()\n",
    "results_nb.append(accuracy_scores_nb)\n",
    "\n",
    "# Print the scores\n",
    "print(\"Precision:\", precision_scores_nb)\n",
    "print(\"Recall:\", recall_scores_nb)\n",
    "print(\"F1 Score:\", f1_scores_nb)\n",
    "print(\"Accuracy:\", accuracy_scores_nb)\n"
   ],
   "metadata": {
    "collapsed": false
   }
  },
  {
   "cell_type": "code",
   "execution_count": null,
   "outputs": [],
   "source": [
    "from sklearn.svm import SVC\n",
    "from sklearn.model_selection import GridSearchCV\n",
    "\n",
    "results_svc = []\n",
    "\n",
    "# Create the SVC model\n",
    "svm_params = {'C': [1, 10, 100], 'gamma': [0.1, 0.01, 0.001], 'kernel': ['rbf', 'linear']}\n",
    "svm_model = GridSearchCV(SVC(), svm_params, cv=10, n_jobs = -1)\n",
    "\n",
    "# Perform cross-validation\n",
    "cross_val_results = cross_validate(svm_model, X, Y, cv=10, scoring=('precision_macro', 'recall_macro', 'f1_macro', 'accuracy'), n_jobs=-1)\n",
    "\n",
    "\n",
    "# Extract the scores\n",
    "precision_scores_svc = cross_val_results['test_precision_macro'].mean()\n",
    "results_svc.append(precision_scores_svc)\n",
    "recall_scores_svc = cross_val_results['test_recall_macro'].mean()\n",
    "results_svc.append(recall_scores_svc)\n",
    "f1_scores_svc = cross_val_results['test_f1_macro'].mean()\n",
    "results_svc.append(f1_scores_svc)\n",
    "accuracy_scores_svc = cross_val_results['test_accuracy'].mean()\n",
    "results_svc.append(accuracy_scores_svc)\n",
    "\n",
    "# Print the scores\n",
    "print(\"Precision:\", precision_scores_svc)\n",
    "print(\"Recall:\", recall_scores_svc)\n",
    "print(\"F1 Score:\", f1_scores_svc)\n",
    "print(\"Accuracy:\", accuracy_scores_svc)"
   ],
   "metadata": {
    "collapsed": false
   }
  },
  {
   "cell_type": "code",
   "execution_count": 77,
   "outputs": [
    {
     "data": {
      "text/plain": "     Metrics                RF       Naive Bayes  SVC\n0  Precision 0.677868160009935 0.414482310160155   32\n1     Recall 0.368934806900438 0.474073426230598  323\n2         F1 0.402327335496624 0.380992028022643   23\n3   Accuracy 0.559110210210210 0.414382982982983   32",
      "text/html": "<div>\n<style scoped>\n    .dataframe tbody tr th:only-of-type {\n        vertical-align: middle;\n    }\n\n    .dataframe tbody tr th {\n        vertical-align: top;\n    }\n\n    .dataframe thead th {\n        text-align: right;\n    }\n</style>\n<table border=\"1\" class=\"dataframe\">\n  <thead>\n    <tr style=\"text-align: right;\">\n      <th></th>\n      <th>Metrics</th>\n      <th>RF</th>\n      <th>Naive Bayes</th>\n      <th>SVC</th>\n    </tr>\n  </thead>\n  <tbody>\n    <tr>\n      <th>0</th>\n      <td>Precision</td>\n      <td>0.677868160009935</td>\n      <td>0.414482310160155</td>\n      <td>32</td>\n    </tr>\n    <tr>\n      <th>1</th>\n      <td>Recall</td>\n      <td>0.368934806900438</td>\n      <td>0.474073426230598</td>\n      <td>323</td>\n    </tr>\n    <tr>\n      <th>2</th>\n      <td>F1</td>\n      <td>0.402327335496624</td>\n      <td>0.380992028022643</td>\n      <td>23</td>\n    </tr>\n    <tr>\n      <th>3</th>\n      <td>Accuracy</td>\n      <td>0.559110210210210</td>\n      <td>0.414382982982983</td>\n      <td>32</td>\n    </tr>\n  </tbody>\n</table>\n</div>"
     },
     "execution_count": 77,
     "metadata": {},
     "output_type": "execute_result"
    }
   ],
   "source": [
    "results_svc = [32,323, 23,32]\n",
    "\n",
    "metrics = [ 'Precision', 'Recall', 'F1 Score', 'Accuracy']\n",
    "result = pd.DataFrame({'Metrics': metrics, 'RF': results_rf, 'Naive Bayes': results_nb, 'SVC':results_svc})\n",
    "pd.set_option('display.float_format', '{:.15f}'.format)\n",
    "result"
   ],
   "metadata": {
    "collapsed": false
   }
  }
 ],
 "metadata": {
  "colab": {
   "authorship_tag": "ABX9TyOa7y44N7ZjxWxEXuUrIvvi",
   "provenance": []
  },
  "kernelspec": {
   "display_name": "Python 3",
   "name": "python3"
  },
  "language_info": {
   "codemirror_mode": {
    "name": "ipython",
    "version": 3
   },
   "file_extension": ".py",
   "mimetype": "text/x-python",
   "name": "python",
   "nbconvert_exporter": "python",
   "pygments_lexer": "ipython3",
   "version": "3.7.9"
  }
 },
 "nbformat": 4,
 "nbformat_minor": 0
}
