{
 "cells": [
  {
   "cell_type": "markdown",
   "metadata": {
    "id": "UJVC27Ns1MXX"
   },
   "source": [
    "# Εργασία 2 - Περιόδου 2022-2023\n",
    "\n",
    "\n",
    "\n"
   ]
  },
  {
   "cell_type": "markdown",
   "metadata": {
    "id": "3h9FQz4PzpGz"
   },
   "source": [
    "## Πάνος Κόλλιας 1115202000086\n",
    "## Κωνσταντίνος Κανελλάκης 1115202000064\n",
    "\n",
    "---"
   ]
  },
  {
   "cell_type": "code",
   "execution_count": null,
   "metadata": {
    "colab": {
     "base_uri": "https://localhost:8080/"
    },
    "executionInfo": {
     "elapsed": 3403,
     "status": "ok",
     "timestamp": 1685005833796,
     "user": {
      "displayName": "Κωνσταντίνος Κανελλάκης",
      "userId": "17854306947232766693"
     },
     "user_tz": -180
    },
    "id": "QFGQhgNAFg-Z",
    "outputId": "266cbcf7-b9a0-4e2c-d503-c9b9d0b466de"
   },
   "outputs": [],
   "source": []
  },
  {
   "cell_type": "code",
   "execution_count": null,
   "metadata": {
    "colab": {
     "base_uri": "https://localhost:8080/",
     "height": 1000
    },
    "executionInfo": {
     "elapsed": 4312,
     "status": "ok",
     "timestamp": 1685008889904,
     "user": {
      "displayName": "Κωνσταντίνος Κανελλάκης",
      "userId": "17854306947232766693"
     },
     "user_tz": -180
    },
    "id": "beFMmltDHZLG",
    "outputId": "bbf452e7-adb4-4cbe-b8e0-656be51e168b"
   },
   "outputs": [],
   "source": [
    "import pandas as pd\n",
    "import re\n",
    "Location = 'books_1.Best_Books_Ever.csv'\n",
    "df = pd.read_csv(Location)\n",
    "df['bookId'] = df['bookId'].apply(lambda x: re.findall(r'\\d+', x)[0])\n",
    "df['bookId'] = df['bookId'].astype(int)\n",
    "# df=df.dropna() # Remove rows with at least one nan element\n",
    "\n",
    "# Drop rows with NaN values in selected columns\n",
    "df.dropna(subset=['bookId','description','title','language','ratingsByStars','genres','publishDate'], inplace=True)\n",
    "df"
   ]
  },
  {
   "cell_type": "code",
   "execution_count": null,
   "metadata": {
    "colab": {
     "base_uri": "https://localhost:8080/",
     "height": 1000
    },
    "executionInfo": {
     "elapsed": 20995,
     "status": "ok",
     "timestamp": 1685008913251,
     "user": {
      "displayName": "Κωνσταντίνος Κανελλάκης",
      "userId": "17854306947232766693"
     },
     "user_tz": -180
    },
    "id": "fi6C2j10o7ei",
    "outputId": "fbed06eb-8878-4332-c14b-fffb2380ca5a"
   },
   "outputs": [],
   "source": [
    "ls1=[]\n",
    "ls2=[]\n",
    "ls3=[]\n",
    "ls4=[]\n",
    "ls5=[]\n",
    "import ast\n",
    "for i,f in zip(df.index,df['ratingsByStars']):\n",
    "  x = ast.literal_eval(f)\n",
    "  if len(x)==0:\n",
    "    df=df.drop(i)\n",
    "    continue\n",
    "  ls1.append(x[0])\n",
    "  ls2.append(x[1])\n",
    "  ls3.append(x[2])\n",
    "  ls4.append(x[3])\n",
    "  ls5.append(x[4])\n",
    "\n",
    "df['ratingStar1']=ls1\n",
    "df['ratingStar2']=ls2\n",
    "df['ratingStar3']=ls3\n",
    "df['ratingStar4']=ls4\n",
    "df['ratingStar5']=ls5\n",
    "df"
   ]
  },
  {
   "cell_type": "code",
   "execution_count": null,
   "metadata": {
    "colab": {
     "base_uri": "https://localhost:8080/",
     "height": 1000
    },
    "executionInfo": {
     "elapsed": 83636,
     "status": "ok",
     "timestamp": 1685009011779,
     "user": {
      "displayName": "Κωνσταντίνος Κανελλάκης",
      "userId": "17854306947232766693"
     },
     "user_tz": -180
    },
    "id": "NJ8ieR0Gw_MO",
    "outputId": "6d9e3198-83f6-46c5-f02d-bea1f9090839"
   },
   "outputs": [],
   "source": [
    "ls=[]\n",
    "for i,f in zip(df.index,df['genres']):\n",
    "  x = ast.literal_eval(f)\n",
    "  if len(x)==0:\n",
    "    df=df.drop(i)\n",
    "  else:\n",
    "    ls.append(x[0])\n",
    "\n",
    "df['Genre']=ls\n",
    "df"
   ]
  },
  {
   "cell_type": "code",
   "execution_count": null,
   "metadata": {
    "colab": {
     "base_uri": "https://localhost:8080/",
     "height": 362
    },
    "executionInfo": {
     "elapsed": 4215,
     "status": "error",
     "timestamp": 1685009040160,
     "user": {
      "displayName": "Κωνσταντίνος Κανελλάκης",
      "userId": "17854306947232766693"
     },
     "user_tz": -180
    },
    "id": "i_yJZXzvzFxu",
    "outputId": "1cff0203-42b1-45ce-fa2a-d88fa1e693cd"
   },
   "outputs": [],
   "source": [
    "import pandas as pd\n",
    "\n",
    "date_formats = ['%m/%d/%Y', '%m/%d/%y','%B %d %Y']\n",
    "df['publishedYear'] = pd.to_datetime(df.publishDate, errors='coerce')\n",
    "\n",
    "for date_format in date_formats:\n",
    "    mask = df['publishedYear'].isna()  # Filter rows where parsing failed\n",
    "    df.loc[mask, 'publishedYear'] = pd.to_datetime(df.loc[mask, 'publishDate'], format=date_format, errors='coerce')\n",
    "# for date,b,i in zip(df.publishDate,mask,df.index):\n",
    "#     if b is True:\n",
    "#     #     print(b,date)     # All dates printed was not valid\n",
    "#         df=df.drop(i)\n",
    "df['publishedYear'] = df['publishedYear'].dt.year.astype('Int64')\n",
    "\n",
    "df"
   ]
  },
  {
   "cell_type": "code",
   "execution_count": null,
   "metadata": {
    "colab": {
     "base_uri": "https://localhost:8080/"
    },
    "executionInfo": {
     "elapsed": 710,
     "status": "ok",
     "timestamp": 1685007105855,
     "user": {
      "displayName": "Κωνσταντίνος Κανελλάκης",
      "userId": "17854306947232766693"
     },
     "user_tz": -180
    },
    "id": "YH50sg2N8wCm",
    "outputId": "89d225b5-7c2c-4d51-a3c9-3cddd3e75911"
   },
   "outputs": [],
   "source": [
    "from sklearn.feature_extraction.text import TfidfVectorizer\n",
    "from sklearn.metrics.pairwise import cosine_similarity\n",
    "\n",
    "english_data = df[df['language'] == 'English'][['bookId', 'description', 'title']]\n",
    "\n",
    "# Use the 'stop_words' parameter to remove common English words\n",
    "tfidf_vectorizer = TfidfVectorizer(max_df=1.0, min_df=1, max_features=1000, stop_words='english')\n",
    "tfidf = tfidf_vectorizer.fit_transform(english_data.description)\n",
    "\n",
    "# Calculate cosine similarities\n",
    "cosine_similarities = cosine_similarity(tfidf, tfidf)\n",
    "\n",
    "english_data = english_data.reset_index(drop=True)  # Reset the index\n",
    "\n",
    "similar_books = {}\n",
    "num_items = len(english_data)\n",
    "\n",
    "for i, row in english_data.iterrows():\n",
    "    book_id = row['bookId']\n",
    "    similar_indices = cosine_similarities[i % num_items].argsort()[:-1]  # Exclude self-similarity\n",
    "    similar_ids = english_data.loc[similar_indices, 'bookId'].tolist()\n",
    "    similar_books[book_id] = (similar_ids[:100], similar_indices[::-1][1:101])  # Store top 100 similar titles"
   ]
  },
  {
   "cell_type": "code",
   "execution_count": null,
   "outputs": [],
   "source": [
    "\n",
    "def recommend(item_id, num):\n",
    "    if item_id not in df['bookId'].values:\n",
    "        print(f\"Book with BookId {item_id} does not exist.\")\n",
    "        return\n",
    "    book_name = df[df['bookId'] == item_id]['title'].values[0]\n",
    "    print(f\"Recommending {num} books similar to: {book_name}\")\n",
    "    print(\"-\" * 50)\n",
    "    recommendations, inds = similar_books[item_id]\n",
    "    i = english_data.index[english_data['bookId'] == item_id].tolist()[0]\n",
    "    for id, index, rank in zip(recommendations, inds, range(1, num+1)):\n",
    "        recom = df[df['bookId'] == id]\n",
    "        print(f\"Recommended: {recom.title.values[0]}\")\n",
    "        print(f\"Description: {recom.description.values[0]}\")\n",
    "        print(f\"(score: {cosine_similarities[i % num_items][index]})\")\n",
    "        print(\"-\" * 50)\n",
    "recommend(item_id = 2, num = 5)"
   ],
   "metadata": {
    "collapsed": false
   }
  }
 ],
 "metadata": {
  "colab": {
   "authorship_tag": "ABX9TyOa7y44N7ZjxWxEXuUrIvvi",
   "provenance": []
  },
  "kernelspec": {
   "display_name": "Python 3",
   "name": "python3"
  },
  "language_info": {
   "codemirror_mode": {
    "name": "ipython",
    "version": 3
   },
   "file_extension": ".py",
   "mimetype": "text/x-python",
   "name": "python",
   "nbconvert_exporter": "python",
   "pygments_lexer": "ipython3",
   "version": "3.7.9"
  }
 },
 "nbformat": 4,
 "nbformat_minor": 0
}
