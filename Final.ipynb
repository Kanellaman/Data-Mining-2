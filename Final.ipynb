{
 "cells": [
  {
   "cell_type": "markdown",
   "metadata": {
    "id": "UJVC27Ns1MXX"
   },
   "source": [
    "# Εργασία 2 - Περιόδου 2022-2023\n",
    "\n",
    "\n",
    "\n"
   ]
  },
  {
   "cell_type": "markdown",
   "metadata": {
    "id": "3h9FQz4PzpGz"
   },
   "source": [
    "## Πάνος Κόλλιας 1115202000086\n",
    "## Κωνσταντίνος Κανελλάκης 1115202000064\n",
    "\n",
    "----------"
   ]
  },
  {
   "cell_type": "markdown",
   "source": [
    "# Q1 - Preprocessing"
   ],
   "metadata": {
    "collapsed": false
   }
  },
  {
   "cell_type": "code",
   "execution_count": 111,
   "metadata": {
    "colab": {
     "base_uri": "https://localhost:8080/",
     "height": 1000
    },
    "executionInfo": {
     "elapsed": 4312,
     "status": "ok",
     "timestamp": 1685008889904,
     "user": {
      "displayName": "Κωνσταντίνος Κανελλάκης",
      "userId": "17854306947232766693"
     },
     "user_tz": -180
    },
    "id": "beFMmltDHZLG",
    "outputId": "bbf452e7-adb4-4cbe-b8e0-656be51e168b"
   },
   "outputs": [
    {
     "data": {
      "text/plain": "         bookId                                      title  \\\n0       2767052                           The Hunger Games   \n1             2  Harry Potter and the Order of the Phoenix   \n2          2657                      To Kill a Mockingbird   \n3          1885                        Pride and Prejudice   \n4         41865                                   Twilight   \n...         ...                                        ...   \n52473  11492014                                  Fractured   \n52474  11836711                                    Anasazi   \n52475  10815662                                     Marked   \n52476  11330278                                Wayward Son   \n52477  10991547                        Daughter of Helaman   \n\n                      series  \\\n0        The Hunger Games #1   \n1            Harry Potter #5   \n2      To Kill a Mockingbird   \n3                        NaN   \n4       The Twilight Saga #1   \n...                      ...   \n52473             Fateful #2   \n52474      Sense of Truth #2   \n52475      Soul Guardians #1   \n52476                    NaN   \n52477   Stripling Warrior #1   \n\n                                                  author            rating  \\\n0                                        Suzanne Collins 4.330000000000000   \n1              J.K. Rowling, Mary GrandPré (Illustrator) 4.500000000000000   \n2                                             Harper Lee 4.280000000000000   \n3              Jane Austen, Anna Quindlen (Introduction) 4.260000000000000   \n4                                        Stephenie Meyer 3.600000000000000   \n...                                                  ...               ...   \n52473                   Cheri Schmidt (Goodreads Author) 4.000000000000000   \n52474                                      Emma Michaels 4.190000000000000   \n52475                  Kim Richardson (Goodreads Author) 3.700000000000000   \n52476  Tom Pollack (Goodreads Author), John Loftus (G... 3.850000000000000   \n52477                    Misty Moncur (Goodreads Author) 4.020000000000000   \n\n                                             description language  \\\n0      WINNING MEANS FAME AND FORTUNE.LOSING MEANS CE...  English   \n1      There is a door at the end of a silent corrido...  English   \n2      The unforgettable novel of a childhood in a sl...  English   \n3      Alternate cover edition of ISBN 9780679783268S...  English   \n4      About three things I was absolutely positive.\\...  English   \n...                                                  ...      ...   \n52473  The Fateful Trilogy continues with Fractured. ...  English   \n52474  'Anasazi', sequel to 'The Thirteenth Chime' by...  English   \n52475  --READERS FAVORITE AWARDS WINNER 2011--Sixteen...  English   \n52476  A POWERFUL TREMOR UNEARTHS AN ANCIENT SECRETBu...  English   \n52477  Fighting in Helaman's army is Keturah's deepes...  English   \n\n                isbn                                             genres  \\\n0      9780439023481  ['Young Adult', 'Fiction', 'Dystopia', 'Fantas...   \n1      9780439358071  ['Fantasy', 'Young Adult', 'Fiction', 'Magic',...   \n2      9999999999999  ['Classics', 'Fiction', 'Historical Fiction', ...   \n3      9999999999999  ['Classics', 'Fiction', 'Romance', 'Historical...   \n4      9780316015844  ['Young Adult', 'Fantasy', 'Romance', 'Vampire...   \n...              ...                                                ...   \n52473  2940012616562  ['Vampires', 'Paranormal', 'Young Adult', 'Rom...   \n52474  9999999999999                         ['Mystery', 'Young Adult']   \n52475  9781461017097  ['Fantasy', 'Young Adult', 'Paranormal', 'Ange...   \n52476  9781450755634  ['Fiction', 'Mystery', 'Historical Fiction', '...   \n52477  9781599554976  ['Lds Fiction', 'Historical Fiction', 'Young A...   \n\n                                              characters  ...  \\\n0      ['Katniss Everdeen', 'Peeta Mellark', 'Cato (H...  ...   \n1      ['Sirius Black', 'Draco Malfoy', 'Ron Weasley'...  ...   \n2      ['Scout Finch', 'Atticus Finch', 'Jem Finch', ...  ...   \n3      ['Mr. Bennet', 'Mrs. Bennet', 'Jane Bennet', '...  ...   \n4      ['Edward Cullen', 'Jacob Black', 'Laurent', 'R...  ...   \n...                                                  ...  ...   \n52473                                                 []  ...   \n52474                                                 []  ...   \n52475                                                 []  ...   \n52476                                                 []  ...   \n52477                                                 []  ...   \n\n      firstPublishDate                                             awards  \\\n0                  NaN  ['Locus Award Nominee for Best Young Adult Boo...   \n1             06/21/03  ['Bram Stoker Award for Works for Young Reader...   \n2             07/11/60  ['Pulitzer Prize for Fiction (1961)', 'Audie A...   \n3             01/28/13                                                 []   \n4             10/05/05  ['Georgia Peach Book Award (2007)', 'Buxtehude...   \n...                ...                                                ...   \n52473              NaN                                                 []   \n52474  August 3rd 2011                                                 []   \n52475  March 15th 2011            [\"Readers' Favorite Book Award (2011)\"]   \n52476   April 5th 2011                                                 []   \n52477              NaN                                                 []   \n\n      numRatings                                     ratingsByStars  \\\n0        6376780  ['3444695', '1921313', '745221', '171994', '93...   \n1        2507623  ['1593642', '637516', '222366', '39573', '14526']   \n2        4501075  ['2363896', '1333153', '573280', '149952', '80...   \n3        2998241  ['1617567', '816659', '373311', '113934', '767...   \n4        4964519  ['1751460', '1113682', '1008686', '542017', '5...   \n...          ...                                                ...   \n52473        871                  ['311', '310', '197', '42', '11']   \n52474         37                        ['16', '14', '5', '2', '0']   \n52475       6674             ['2109', '1868', '1660', '647', '390']   \n52476        238                      ['77', '78', '59', '19', '5']   \n52477        246                     ['106', '73', '42', '17', '8']   \n\n            likedPercent                                            setting  \\\n0     96.000000000000000  ['District 12, Panem', 'Capitol, Panem', 'Pane...   \n1     98.000000000000000  ['Hogwarts School of Witchcraft and Wizardry (...   \n2     95.000000000000000               ['Maycomb, Alabama (United States)']   \n3     94.000000000000000  ['United Kingdom', 'Derbyshire, England (Unite...   \n4     78.000000000000000  ['Forks, Washington (United States)', 'Phoenix...   \n...                  ...                                                ...   \n52473 94.000000000000000                                                 []   \n52474 95.000000000000000                                                 []   \n52475 84.000000000000000                                                 []   \n52476 90.000000000000000                                                 []   \n52477 90.000000000000000                                                 []   \n\n                                                coverImg  bbeScore bbeVotes  \\\n0      https://i.gr-assets.com/images/S/compressed.ph...   2993816    30516   \n1      https://i.gr-assets.com/images/S/compressed.ph...   2632233    26923   \n2      https://i.gr-assets.com/images/S/compressed.ph...   2269402    23328   \n3      https://i.gr-assets.com/images/S/compressed.ph...   1983116    20452   \n4      https://i.gr-assets.com/images/S/compressed.ph...   1459448    14874   \n...                                                  ...       ...      ...   \n52473  https://i.gr-assets.com/images/S/compressed.ph...         0        1   \n52474  https://i.gr-assets.com/images/S/compressed.ph...         0        1   \n52475  https://i.gr-assets.com/images/S/compressed.ph...         0        1   \n52476  https://i.gr-assets.com/images/S/compressed.ph...         0        1   \n52477  https://i.gr-assets.com/images/S/compressed.ph...         0        1   \n\n       price  \n0       5.09  \n1       7.38  \n2        NaN  \n3        NaN  \n4        2.1  \n...      ...  \n52473    NaN  \n52474    NaN  \n52475   7.37  \n52476   2.86  \n52477   5.20  \n\n[47169 rows x 25 columns]",
      "text/html": "<div>\n<style scoped>\n    .dataframe tbody tr th:only-of-type {\n        vertical-align: middle;\n    }\n\n    .dataframe tbody tr th {\n        vertical-align: top;\n    }\n\n    .dataframe thead th {\n        text-align: right;\n    }\n</style>\n<table border=\"1\" class=\"dataframe\">\n  <thead>\n    <tr style=\"text-align: right;\">\n      <th></th>\n      <th>bookId</th>\n      <th>title</th>\n      <th>series</th>\n      <th>author</th>\n      <th>rating</th>\n      <th>description</th>\n      <th>language</th>\n      <th>isbn</th>\n      <th>genres</th>\n      <th>characters</th>\n      <th>...</th>\n      <th>firstPublishDate</th>\n      <th>awards</th>\n      <th>numRatings</th>\n      <th>ratingsByStars</th>\n      <th>likedPercent</th>\n      <th>setting</th>\n      <th>coverImg</th>\n      <th>bbeScore</th>\n      <th>bbeVotes</th>\n      <th>price</th>\n    </tr>\n  </thead>\n  <tbody>\n    <tr>\n      <th>0</th>\n      <td>2767052</td>\n      <td>The Hunger Games</td>\n      <td>The Hunger Games #1</td>\n      <td>Suzanne Collins</td>\n      <td>4.330000000000000</td>\n      <td>WINNING MEANS FAME AND FORTUNE.LOSING MEANS CE...</td>\n      <td>English</td>\n      <td>9780439023481</td>\n      <td>['Young Adult', 'Fiction', 'Dystopia', 'Fantas...</td>\n      <td>['Katniss Everdeen', 'Peeta Mellark', 'Cato (H...</td>\n      <td>...</td>\n      <td>NaN</td>\n      <td>['Locus Award Nominee for Best Young Adult Boo...</td>\n      <td>6376780</td>\n      <td>['3444695', '1921313', '745221', '171994', '93...</td>\n      <td>96.000000000000000</td>\n      <td>['District 12, Panem', 'Capitol, Panem', 'Pane...</td>\n      <td>https://i.gr-assets.com/images/S/compressed.ph...</td>\n      <td>2993816</td>\n      <td>30516</td>\n      <td>5.09</td>\n    </tr>\n    <tr>\n      <th>1</th>\n      <td>2</td>\n      <td>Harry Potter and the Order of the Phoenix</td>\n      <td>Harry Potter #5</td>\n      <td>J.K. Rowling, Mary GrandPré (Illustrator)</td>\n      <td>4.500000000000000</td>\n      <td>There is a door at the end of a silent corrido...</td>\n      <td>English</td>\n      <td>9780439358071</td>\n      <td>['Fantasy', 'Young Adult', 'Fiction', 'Magic',...</td>\n      <td>['Sirius Black', 'Draco Malfoy', 'Ron Weasley'...</td>\n      <td>...</td>\n      <td>06/21/03</td>\n      <td>['Bram Stoker Award for Works for Young Reader...</td>\n      <td>2507623</td>\n      <td>['1593642', '637516', '222366', '39573', '14526']</td>\n      <td>98.000000000000000</td>\n      <td>['Hogwarts School of Witchcraft and Wizardry (...</td>\n      <td>https://i.gr-assets.com/images/S/compressed.ph...</td>\n      <td>2632233</td>\n      <td>26923</td>\n      <td>7.38</td>\n    </tr>\n    <tr>\n      <th>2</th>\n      <td>2657</td>\n      <td>To Kill a Mockingbird</td>\n      <td>To Kill a Mockingbird</td>\n      <td>Harper Lee</td>\n      <td>4.280000000000000</td>\n      <td>The unforgettable novel of a childhood in a sl...</td>\n      <td>English</td>\n      <td>9999999999999</td>\n      <td>['Classics', 'Fiction', 'Historical Fiction', ...</td>\n      <td>['Scout Finch', 'Atticus Finch', 'Jem Finch', ...</td>\n      <td>...</td>\n      <td>07/11/60</td>\n      <td>['Pulitzer Prize for Fiction (1961)', 'Audie A...</td>\n      <td>4501075</td>\n      <td>['2363896', '1333153', '573280', '149952', '80...</td>\n      <td>95.000000000000000</td>\n      <td>['Maycomb, Alabama (United States)']</td>\n      <td>https://i.gr-assets.com/images/S/compressed.ph...</td>\n      <td>2269402</td>\n      <td>23328</td>\n      <td>NaN</td>\n    </tr>\n    <tr>\n      <th>3</th>\n      <td>1885</td>\n      <td>Pride and Prejudice</td>\n      <td>NaN</td>\n      <td>Jane Austen, Anna Quindlen (Introduction)</td>\n      <td>4.260000000000000</td>\n      <td>Alternate cover edition of ISBN 9780679783268S...</td>\n      <td>English</td>\n      <td>9999999999999</td>\n      <td>['Classics', 'Fiction', 'Romance', 'Historical...</td>\n      <td>['Mr. Bennet', 'Mrs. Bennet', 'Jane Bennet', '...</td>\n      <td>...</td>\n      <td>01/28/13</td>\n      <td>[]</td>\n      <td>2998241</td>\n      <td>['1617567', '816659', '373311', '113934', '767...</td>\n      <td>94.000000000000000</td>\n      <td>['United Kingdom', 'Derbyshire, England (Unite...</td>\n      <td>https://i.gr-assets.com/images/S/compressed.ph...</td>\n      <td>1983116</td>\n      <td>20452</td>\n      <td>NaN</td>\n    </tr>\n    <tr>\n      <th>4</th>\n      <td>41865</td>\n      <td>Twilight</td>\n      <td>The Twilight Saga #1</td>\n      <td>Stephenie Meyer</td>\n      <td>3.600000000000000</td>\n      <td>About three things I was absolutely positive.\\...</td>\n      <td>English</td>\n      <td>9780316015844</td>\n      <td>['Young Adult', 'Fantasy', 'Romance', 'Vampire...</td>\n      <td>['Edward Cullen', 'Jacob Black', 'Laurent', 'R...</td>\n      <td>...</td>\n      <td>10/05/05</td>\n      <td>['Georgia Peach Book Award (2007)', 'Buxtehude...</td>\n      <td>4964519</td>\n      <td>['1751460', '1113682', '1008686', '542017', '5...</td>\n      <td>78.000000000000000</td>\n      <td>['Forks, Washington (United States)', 'Phoenix...</td>\n      <td>https://i.gr-assets.com/images/S/compressed.ph...</td>\n      <td>1459448</td>\n      <td>14874</td>\n      <td>2.1</td>\n    </tr>\n    <tr>\n      <th>...</th>\n      <td>...</td>\n      <td>...</td>\n      <td>...</td>\n      <td>...</td>\n      <td>...</td>\n      <td>...</td>\n      <td>...</td>\n      <td>...</td>\n      <td>...</td>\n      <td>...</td>\n      <td>...</td>\n      <td>...</td>\n      <td>...</td>\n      <td>...</td>\n      <td>...</td>\n      <td>...</td>\n      <td>...</td>\n      <td>...</td>\n      <td>...</td>\n      <td>...</td>\n      <td>...</td>\n    </tr>\n    <tr>\n      <th>52473</th>\n      <td>11492014</td>\n      <td>Fractured</td>\n      <td>Fateful #2</td>\n      <td>Cheri Schmidt (Goodreads Author)</td>\n      <td>4.000000000000000</td>\n      <td>The Fateful Trilogy continues with Fractured. ...</td>\n      <td>English</td>\n      <td>2940012616562</td>\n      <td>['Vampires', 'Paranormal', 'Young Adult', 'Rom...</td>\n      <td>[]</td>\n      <td>...</td>\n      <td>NaN</td>\n      <td>[]</td>\n      <td>871</td>\n      <td>['311', '310', '197', '42', '11']</td>\n      <td>94.000000000000000</td>\n      <td>[]</td>\n      <td>https://i.gr-assets.com/images/S/compressed.ph...</td>\n      <td>0</td>\n      <td>1</td>\n      <td>NaN</td>\n    </tr>\n    <tr>\n      <th>52474</th>\n      <td>11836711</td>\n      <td>Anasazi</td>\n      <td>Sense of Truth #2</td>\n      <td>Emma Michaels</td>\n      <td>4.190000000000000</td>\n      <td>'Anasazi', sequel to 'The Thirteenth Chime' by...</td>\n      <td>English</td>\n      <td>9999999999999</td>\n      <td>['Mystery', 'Young Adult']</td>\n      <td>[]</td>\n      <td>...</td>\n      <td>August 3rd 2011</td>\n      <td>[]</td>\n      <td>37</td>\n      <td>['16', '14', '5', '2', '0']</td>\n      <td>95.000000000000000</td>\n      <td>[]</td>\n      <td>https://i.gr-assets.com/images/S/compressed.ph...</td>\n      <td>0</td>\n      <td>1</td>\n      <td>NaN</td>\n    </tr>\n    <tr>\n      <th>52475</th>\n      <td>10815662</td>\n      <td>Marked</td>\n      <td>Soul Guardians #1</td>\n      <td>Kim Richardson (Goodreads Author)</td>\n      <td>3.700000000000000</td>\n      <td>--READERS FAVORITE AWARDS WINNER 2011--Sixteen...</td>\n      <td>English</td>\n      <td>9781461017097</td>\n      <td>['Fantasy', 'Young Adult', 'Paranormal', 'Ange...</td>\n      <td>[]</td>\n      <td>...</td>\n      <td>March 15th 2011</td>\n      <td>[\"Readers' Favorite Book Award (2011)\"]</td>\n      <td>6674</td>\n      <td>['2109', '1868', '1660', '647', '390']</td>\n      <td>84.000000000000000</td>\n      <td>[]</td>\n      <td>https://i.gr-assets.com/images/S/compressed.ph...</td>\n      <td>0</td>\n      <td>1</td>\n      <td>7.37</td>\n    </tr>\n    <tr>\n      <th>52476</th>\n      <td>11330278</td>\n      <td>Wayward Son</td>\n      <td>NaN</td>\n      <td>Tom Pollack (Goodreads Author), John Loftus (G...</td>\n      <td>3.850000000000000</td>\n      <td>A POWERFUL TREMOR UNEARTHS AN ANCIENT SECRETBu...</td>\n      <td>English</td>\n      <td>9781450755634</td>\n      <td>['Fiction', 'Mystery', 'Historical Fiction', '...</td>\n      <td>[]</td>\n      <td>...</td>\n      <td>April 5th 2011</td>\n      <td>[]</td>\n      <td>238</td>\n      <td>['77', '78', '59', '19', '5']</td>\n      <td>90.000000000000000</td>\n      <td>[]</td>\n      <td>https://i.gr-assets.com/images/S/compressed.ph...</td>\n      <td>0</td>\n      <td>1</td>\n      <td>2.86</td>\n    </tr>\n    <tr>\n      <th>52477</th>\n      <td>10991547</td>\n      <td>Daughter of Helaman</td>\n      <td>Stripling Warrior #1</td>\n      <td>Misty Moncur (Goodreads Author)</td>\n      <td>4.020000000000000</td>\n      <td>Fighting in Helaman's army is Keturah's deepes...</td>\n      <td>English</td>\n      <td>9781599554976</td>\n      <td>['Lds Fiction', 'Historical Fiction', 'Young A...</td>\n      <td>[]</td>\n      <td>...</td>\n      <td>NaN</td>\n      <td>[]</td>\n      <td>246</td>\n      <td>['106', '73', '42', '17', '8']</td>\n      <td>90.000000000000000</td>\n      <td>[]</td>\n      <td>https://i.gr-assets.com/images/S/compressed.ph...</td>\n      <td>0</td>\n      <td>1</td>\n      <td>5.20</td>\n    </tr>\n  </tbody>\n</table>\n<p>47169 rows × 25 columns</p>\n</div>"
     },
     "execution_count": 111,
     "metadata": {},
     "output_type": "execute_result"
    }
   ],
   "source": [
    "import pandas as pd\n",
    "import re\n",
    "Location = 'books_1.Best_Books_Ever.csv'\n",
    "df = pd.read_csv(Location)\n",
    "df['bookId'] = df['bookId'].apply(lambda x: re.findall(r'\\d+', x)[0])\n",
    "df['bookId'] = df['bookId'].astype(int)\n",
    "\n",
    "# Drop rows with NaN values in selected columns\n",
    "df.dropna(subset=['bookId','description','title','language','ratingsByStars','genres','publishDate','author'], inplace=True)\n",
    "df = df.drop_duplicates()\n",
    "df"
   ]
  },
  {
   "cell_type": "code",
   "execution_count": 112,
   "metadata": {
    "colab": {
     "base_uri": "https://localhost:8080/",
     "height": 1000
    },
    "executionInfo": {
     "elapsed": 20995,
     "status": "ok",
     "timestamp": 1685008913251,
     "user": {
      "displayName": "Κωνσταντίνος Κανελλάκης",
      "userId": "17854306947232766693"
     },
     "user_tz": -180
    },
    "id": "fi6C2j10o7ei",
    "outputId": "fbed06eb-8878-4332-c14b-fffb2380ca5a"
   },
   "outputs": [
    {
     "data": {
      "text/plain": "         bookId                                      title  \\\n0       2767052                           The Hunger Games   \n1             2  Harry Potter and the Order of the Phoenix   \n2          2657                      To Kill a Mockingbird   \n3          1885                        Pride and Prejudice   \n4         41865                                   Twilight   \n...         ...                                        ...   \n52473  11492014                                  Fractured   \n52474  11836711                                    Anasazi   \n52475  10815662                                     Marked   \n52476  11330278                                Wayward Son   \n52477  10991547                        Daughter of Helaman   \n\n                      series  \\\n0        The Hunger Games #1   \n1            Harry Potter #5   \n2      To Kill a Mockingbird   \n3                        NaN   \n4       The Twilight Saga #1   \n...                      ...   \n52473             Fateful #2   \n52474      Sense of Truth #2   \n52475      Soul Guardians #1   \n52476                    NaN   \n52477   Stripling Warrior #1   \n\n                                                  author            rating  \\\n0                                        Suzanne Collins 4.330000000000000   \n1              J.K. Rowling, Mary GrandPré (Illustrator) 4.500000000000000   \n2                                             Harper Lee 4.280000000000000   \n3              Jane Austen, Anna Quindlen (Introduction) 4.260000000000000   \n4                                        Stephenie Meyer 3.600000000000000   \n...                                                  ...               ...   \n52473                   Cheri Schmidt (Goodreads Author) 4.000000000000000   \n52474                                      Emma Michaels 4.190000000000000   \n52475                  Kim Richardson (Goodreads Author) 3.700000000000000   \n52476  Tom Pollack (Goodreads Author), John Loftus (G... 3.850000000000000   \n52477                    Misty Moncur (Goodreads Author) 4.020000000000000   \n\n                                             description language  \\\n0      WINNING MEANS FAME AND FORTUNE.LOSING MEANS CE...  English   \n1      There is a door at the end of a silent corrido...  English   \n2      The unforgettable novel of a childhood in a sl...  English   \n3      Alternate cover edition of ISBN 9780679783268S...  English   \n4      About three things I was absolutely positive.\\...  English   \n...                                                  ...      ...   \n52473  The Fateful Trilogy continues with Fractured. ...  English   \n52474  'Anasazi', sequel to 'The Thirteenth Chime' by...  English   \n52475  --READERS FAVORITE AWARDS WINNER 2011--Sixteen...  English   \n52476  A POWERFUL TREMOR UNEARTHS AN ANCIENT SECRETBu...  English   \n52477  Fighting in Helaman's army is Keturah's deepes...  English   \n\n                isbn                                             genres  \\\n0      9780439023481  ['Young Adult', 'Fiction', 'Dystopia', 'Fantas...   \n1      9780439358071  ['Fantasy', 'Young Adult', 'Fiction', 'Magic',...   \n2      9999999999999  ['Classics', 'Fiction', 'Historical Fiction', ...   \n3      9999999999999  ['Classics', 'Fiction', 'Romance', 'Historical...   \n4      9780316015844  ['Young Adult', 'Fantasy', 'Romance', 'Vampire...   \n...              ...                                                ...   \n52473  2940012616562  ['Vampires', 'Paranormal', 'Young Adult', 'Rom...   \n52474  9999999999999                         ['Mystery', 'Young Adult']   \n52475  9781461017097  ['Fantasy', 'Young Adult', 'Paranormal', 'Ange...   \n52476  9781450755634  ['Fiction', 'Mystery', 'Historical Fiction', '...   \n52477  9781599554976  ['Lds Fiction', 'Historical Fiction', 'Young A...   \n\n                                              characters  ...  \\\n0      ['Katniss Everdeen', 'Peeta Mellark', 'Cato (H...  ...   \n1      ['Sirius Black', 'Draco Malfoy', 'Ron Weasley'...  ...   \n2      ['Scout Finch', 'Atticus Finch', 'Jem Finch', ...  ...   \n3      ['Mr. Bennet', 'Mrs. Bennet', 'Jane Bennet', '...  ...   \n4      ['Edward Cullen', 'Jacob Black', 'Laurent', 'R...  ...   \n...                                                  ...  ...   \n52473                                                 []  ...   \n52474                                                 []  ...   \n52475                                                 []  ...   \n52476                                                 []  ...   \n52477                                                 []  ...   \n\n                                                 setting  \\\n0      ['District 12, Panem', 'Capitol, Panem', 'Pane...   \n1      ['Hogwarts School of Witchcraft and Wizardry (...   \n2                   ['Maycomb, Alabama (United States)']   \n3      ['United Kingdom', 'Derbyshire, England (Unite...   \n4      ['Forks, Washington (United States)', 'Phoenix...   \n...                                                  ...   \n52473                                                 []   \n52474                                                 []   \n52475                                                 []   \n52476                                                 []   \n52477                                                 []   \n\n                                                coverImg bbeScore bbeVotes  \\\n0      https://i.gr-assets.com/images/S/compressed.ph...  2993816    30516   \n1      https://i.gr-assets.com/images/S/compressed.ph...  2632233    26923   \n2      https://i.gr-assets.com/images/S/compressed.ph...  2269402    23328   \n3      https://i.gr-assets.com/images/S/compressed.ph...  1983116    20452   \n4      https://i.gr-assets.com/images/S/compressed.ph...  1459448    14874   \n...                                                  ...      ...      ...   \n52473  https://i.gr-assets.com/images/S/compressed.ph...        0        1   \n52474  https://i.gr-assets.com/images/S/compressed.ph...        0        1   \n52475  https://i.gr-assets.com/images/S/compressed.ph...        0        1   \n52476  https://i.gr-assets.com/images/S/compressed.ph...        0        1   \n52477  https://i.gr-assets.com/images/S/compressed.ph...        0        1   \n\n      price ratingStar1 ratingStar2  ratingStar3 ratingStar4  ratingStar5  \n0      5.09     3444695     1921313       745221      171994        93557  \n1      7.38     1593642      637516       222366       39573        14526  \n2       NaN     2363896     1333153       573280      149952        80794  \n3       NaN     1617567      816659       373311      113934        76770  \n4       2.1     1751460     1113682      1008686      542017       548674  \n...     ...         ...         ...          ...         ...          ...  \n52473   NaN         311         310          197          42           11  \n52474   NaN          16          14            5           2            0  \n52475  7.37        2109        1868         1660         647          390  \n52476  2.86          77          78           59          19            5  \n52477  5.20         106          73           42          17            8  \n\n[46319 rows x 30 columns]",
      "text/html": "<div>\n<style scoped>\n    .dataframe tbody tr th:only-of-type {\n        vertical-align: middle;\n    }\n\n    .dataframe tbody tr th {\n        vertical-align: top;\n    }\n\n    .dataframe thead th {\n        text-align: right;\n    }\n</style>\n<table border=\"1\" class=\"dataframe\">\n  <thead>\n    <tr style=\"text-align: right;\">\n      <th></th>\n      <th>bookId</th>\n      <th>title</th>\n      <th>series</th>\n      <th>author</th>\n      <th>rating</th>\n      <th>description</th>\n      <th>language</th>\n      <th>isbn</th>\n      <th>genres</th>\n      <th>characters</th>\n      <th>...</th>\n      <th>setting</th>\n      <th>coverImg</th>\n      <th>bbeScore</th>\n      <th>bbeVotes</th>\n      <th>price</th>\n      <th>ratingStar1</th>\n      <th>ratingStar2</th>\n      <th>ratingStar3</th>\n      <th>ratingStar4</th>\n      <th>ratingStar5</th>\n    </tr>\n  </thead>\n  <tbody>\n    <tr>\n      <th>0</th>\n      <td>2767052</td>\n      <td>The Hunger Games</td>\n      <td>The Hunger Games #1</td>\n      <td>Suzanne Collins</td>\n      <td>4.330000000000000</td>\n      <td>WINNING MEANS FAME AND FORTUNE.LOSING MEANS CE...</td>\n      <td>English</td>\n      <td>9780439023481</td>\n      <td>['Young Adult', 'Fiction', 'Dystopia', 'Fantas...</td>\n      <td>['Katniss Everdeen', 'Peeta Mellark', 'Cato (H...</td>\n      <td>...</td>\n      <td>['District 12, Panem', 'Capitol, Panem', 'Pane...</td>\n      <td>https://i.gr-assets.com/images/S/compressed.ph...</td>\n      <td>2993816</td>\n      <td>30516</td>\n      <td>5.09</td>\n      <td>3444695</td>\n      <td>1921313</td>\n      <td>745221</td>\n      <td>171994</td>\n      <td>93557</td>\n    </tr>\n    <tr>\n      <th>1</th>\n      <td>2</td>\n      <td>Harry Potter and the Order of the Phoenix</td>\n      <td>Harry Potter #5</td>\n      <td>J.K. Rowling, Mary GrandPré (Illustrator)</td>\n      <td>4.500000000000000</td>\n      <td>There is a door at the end of a silent corrido...</td>\n      <td>English</td>\n      <td>9780439358071</td>\n      <td>['Fantasy', 'Young Adult', 'Fiction', 'Magic',...</td>\n      <td>['Sirius Black', 'Draco Malfoy', 'Ron Weasley'...</td>\n      <td>...</td>\n      <td>['Hogwarts School of Witchcraft and Wizardry (...</td>\n      <td>https://i.gr-assets.com/images/S/compressed.ph...</td>\n      <td>2632233</td>\n      <td>26923</td>\n      <td>7.38</td>\n      <td>1593642</td>\n      <td>637516</td>\n      <td>222366</td>\n      <td>39573</td>\n      <td>14526</td>\n    </tr>\n    <tr>\n      <th>2</th>\n      <td>2657</td>\n      <td>To Kill a Mockingbird</td>\n      <td>To Kill a Mockingbird</td>\n      <td>Harper Lee</td>\n      <td>4.280000000000000</td>\n      <td>The unforgettable novel of a childhood in a sl...</td>\n      <td>English</td>\n      <td>9999999999999</td>\n      <td>['Classics', 'Fiction', 'Historical Fiction', ...</td>\n      <td>['Scout Finch', 'Atticus Finch', 'Jem Finch', ...</td>\n      <td>...</td>\n      <td>['Maycomb, Alabama (United States)']</td>\n      <td>https://i.gr-assets.com/images/S/compressed.ph...</td>\n      <td>2269402</td>\n      <td>23328</td>\n      <td>NaN</td>\n      <td>2363896</td>\n      <td>1333153</td>\n      <td>573280</td>\n      <td>149952</td>\n      <td>80794</td>\n    </tr>\n    <tr>\n      <th>3</th>\n      <td>1885</td>\n      <td>Pride and Prejudice</td>\n      <td>NaN</td>\n      <td>Jane Austen, Anna Quindlen (Introduction)</td>\n      <td>4.260000000000000</td>\n      <td>Alternate cover edition of ISBN 9780679783268S...</td>\n      <td>English</td>\n      <td>9999999999999</td>\n      <td>['Classics', 'Fiction', 'Romance', 'Historical...</td>\n      <td>['Mr. Bennet', 'Mrs. Bennet', 'Jane Bennet', '...</td>\n      <td>...</td>\n      <td>['United Kingdom', 'Derbyshire, England (Unite...</td>\n      <td>https://i.gr-assets.com/images/S/compressed.ph...</td>\n      <td>1983116</td>\n      <td>20452</td>\n      <td>NaN</td>\n      <td>1617567</td>\n      <td>816659</td>\n      <td>373311</td>\n      <td>113934</td>\n      <td>76770</td>\n    </tr>\n    <tr>\n      <th>4</th>\n      <td>41865</td>\n      <td>Twilight</td>\n      <td>The Twilight Saga #1</td>\n      <td>Stephenie Meyer</td>\n      <td>3.600000000000000</td>\n      <td>About three things I was absolutely positive.\\...</td>\n      <td>English</td>\n      <td>9780316015844</td>\n      <td>['Young Adult', 'Fantasy', 'Romance', 'Vampire...</td>\n      <td>['Edward Cullen', 'Jacob Black', 'Laurent', 'R...</td>\n      <td>...</td>\n      <td>['Forks, Washington (United States)', 'Phoenix...</td>\n      <td>https://i.gr-assets.com/images/S/compressed.ph...</td>\n      <td>1459448</td>\n      <td>14874</td>\n      <td>2.1</td>\n      <td>1751460</td>\n      <td>1113682</td>\n      <td>1008686</td>\n      <td>542017</td>\n      <td>548674</td>\n    </tr>\n    <tr>\n      <th>...</th>\n      <td>...</td>\n      <td>...</td>\n      <td>...</td>\n      <td>...</td>\n      <td>...</td>\n      <td>...</td>\n      <td>...</td>\n      <td>...</td>\n      <td>...</td>\n      <td>...</td>\n      <td>...</td>\n      <td>...</td>\n      <td>...</td>\n      <td>...</td>\n      <td>...</td>\n      <td>...</td>\n      <td>...</td>\n      <td>...</td>\n      <td>...</td>\n      <td>...</td>\n      <td>...</td>\n    </tr>\n    <tr>\n      <th>52473</th>\n      <td>11492014</td>\n      <td>Fractured</td>\n      <td>Fateful #2</td>\n      <td>Cheri Schmidt (Goodreads Author)</td>\n      <td>4.000000000000000</td>\n      <td>The Fateful Trilogy continues with Fractured. ...</td>\n      <td>English</td>\n      <td>2940012616562</td>\n      <td>['Vampires', 'Paranormal', 'Young Adult', 'Rom...</td>\n      <td>[]</td>\n      <td>...</td>\n      <td>[]</td>\n      <td>https://i.gr-assets.com/images/S/compressed.ph...</td>\n      <td>0</td>\n      <td>1</td>\n      <td>NaN</td>\n      <td>311</td>\n      <td>310</td>\n      <td>197</td>\n      <td>42</td>\n      <td>11</td>\n    </tr>\n    <tr>\n      <th>52474</th>\n      <td>11836711</td>\n      <td>Anasazi</td>\n      <td>Sense of Truth #2</td>\n      <td>Emma Michaels</td>\n      <td>4.190000000000000</td>\n      <td>'Anasazi', sequel to 'The Thirteenth Chime' by...</td>\n      <td>English</td>\n      <td>9999999999999</td>\n      <td>['Mystery', 'Young Adult']</td>\n      <td>[]</td>\n      <td>...</td>\n      <td>[]</td>\n      <td>https://i.gr-assets.com/images/S/compressed.ph...</td>\n      <td>0</td>\n      <td>1</td>\n      <td>NaN</td>\n      <td>16</td>\n      <td>14</td>\n      <td>5</td>\n      <td>2</td>\n      <td>0</td>\n    </tr>\n    <tr>\n      <th>52475</th>\n      <td>10815662</td>\n      <td>Marked</td>\n      <td>Soul Guardians #1</td>\n      <td>Kim Richardson (Goodreads Author)</td>\n      <td>3.700000000000000</td>\n      <td>--READERS FAVORITE AWARDS WINNER 2011--Sixteen...</td>\n      <td>English</td>\n      <td>9781461017097</td>\n      <td>['Fantasy', 'Young Adult', 'Paranormal', 'Ange...</td>\n      <td>[]</td>\n      <td>...</td>\n      <td>[]</td>\n      <td>https://i.gr-assets.com/images/S/compressed.ph...</td>\n      <td>0</td>\n      <td>1</td>\n      <td>7.37</td>\n      <td>2109</td>\n      <td>1868</td>\n      <td>1660</td>\n      <td>647</td>\n      <td>390</td>\n    </tr>\n    <tr>\n      <th>52476</th>\n      <td>11330278</td>\n      <td>Wayward Son</td>\n      <td>NaN</td>\n      <td>Tom Pollack (Goodreads Author), John Loftus (G...</td>\n      <td>3.850000000000000</td>\n      <td>A POWERFUL TREMOR UNEARTHS AN ANCIENT SECRETBu...</td>\n      <td>English</td>\n      <td>9781450755634</td>\n      <td>['Fiction', 'Mystery', 'Historical Fiction', '...</td>\n      <td>[]</td>\n      <td>...</td>\n      <td>[]</td>\n      <td>https://i.gr-assets.com/images/S/compressed.ph...</td>\n      <td>0</td>\n      <td>1</td>\n      <td>2.86</td>\n      <td>77</td>\n      <td>78</td>\n      <td>59</td>\n      <td>19</td>\n      <td>5</td>\n    </tr>\n    <tr>\n      <th>52477</th>\n      <td>10991547</td>\n      <td>Daughter of Helaman</td>\n      <td>Stripling Warrior #1</td>\n      <td>Misty Moncur (Goodreads Author)</td>\n      <td>4.020000000000000</td>\n      <td>Fighting in Helaman's army is Keturah's deepes...</td>\n      <td>English</td>\n      <td>9781599554976</td>\n      <td>['Lds Fiction', 'Historical Fiction', 'Young A...</td>\n      <td>[]</td>\n      <td>...</td>\n      <td>[]</td>\n      <td>https://i.gr-assets.com/images/S/compressed.ph...</td>\n      <td>0</td>\n      <td>1</td>\n      <td>5.20</td>\n      <td>106</td>\n      <td>73</td>\n      <td>42</td>\n      <td>17</td>\n      <td>8</td>\n    </tr>\n  </tbody>\n</table>\n<p>46319 rows × 30 columns</p>\n</div>"
     },
     "execution_count": 112,
     "metadata": {},
     "output_type": "execute_result"
    }
   ],
   "source": [
    "ls1=[]\n",
    "ls2=[]\n",
    "ls3=[]\n",
    "ls4=[]\n",
    "ls5=[]\n",
    "import ast\n",
    "for i,f in zip(df.index,df['ratingsByStars']):\n",
    "  x = ast.literal_eval(f)\n",
    "  if len(x)==0:\n",
    "    df=df.drop(i)\n",
    "    continue\n",
    "  ls1.append(x[0])\n",
    "  ls2.append(x[1])\n",
    "  ls3.append(x[2])\n",
    "  ls4.append(x[3])\n",
    "  ls5.append(x[4])\n",
    "\n",
    "df['ratingStar1']=ls1\n",
    "df['ratingStar2']=ls2\n",
    "df['ratingStar3']=ls3\n",
    "df['ratingStar4']=ls4\n",
    "df['ratingStar5']=ls5\n",
    "df"
   ]
  },
  {
   "cell_type": "code",
   "execution_count": 113,
   "metadata": {
    "colab": {
     "base_uri": "https://localhost:8080/",
     "height": 1000
    },
    "executionInfo": {
     "elapsed": 83636,
     "status": "ok",
     "timestamp": 1685009011779,
     "user": {
      "displayName": "Κωνσταντίνος Κανελλάκης",
      "userId": "17854306947232766693"
     },
     "user_tz": -180
    },
    "id": "NJ8ieR0Gw_MO",
    "outputId": "6d9e3198-83f6-46c5-f02d-bea1f9090839"
   },
   "outputs": [
    {
     "data": {
      "text/plain": "         bookId                                      title  \\\n0       2767052                           The Hunger Games   \n1             2  Harry Potter and the Order of the Phoenix   \n2          2657                      To Kill a Mockingbird   \n3          1885                        Pride and Prejudice   \n4         41865                                   Twilight   \n...         ...                                        ...   \n52473  11492014                                  Fractured   \n52474  11836711                                    Anasazi   \n52475  10815662                                     Marked   \n52476  11330278                                Wayward Son   \n52477  10991547                        Daughter of Helaman   \n\n                      series  \\\n0        The Hunger Games #1   \n1            Harry Potter #5   \n2      To Kill a Mockingbird   \n3                        NaN   \n4       The Twilight Saga #1   \n...                      ...   \n52473             Fateful #2   \n52474      Sense of Truth #2   \n52475      Soul Guardians #1   \n52476                    NaN   \n52477   Stripling Warrior #1   \n\n                                                  author            rating  \\\n0                                        Suzanne Collins 4.330000000000000   \n1              J.K. Rowling, Mary GrandPré (Illustrator) 4.500000000000000   \n2                                             Harper Lee 4.280000000000000   \n3              Jane Austen, Anna Quindlen (Introduction) 4.260000000000000   \n4                                        Stephenie Meyer 3.600000000000000   \n...                                                  ...               ...   \n52473                   Cheri Schmidt (Goodreads Author) 4.000000000000000   \n52474                                      Emma Michaels 4.190000000000000   \n52475                  Kim Richardson (Goodreads Author) 3.700000000000000   \n52476  Tom Pollack (Goodreads Author), John Loftus (G... 3.850000000000000   \n52477                    Misty Moncur (Goodreads Author) 4.020000000000000   \n\n                                             description language  \\\n0      WINNING MEANS FAME AND FORTUNE.LOSING MEANS CE...  English   \n1      There is a door at the end of a silent corrido...  English   \n2      The unforgettable novel of a childhood in a sl...  English   \n3      Alternate cover edition of ISBN 9780679783268S...  English   \n4      About three things I was absolutely positive.\\...  English   \n...                                                  ...      ...   \n52473  The Fateful Trilogy continues with Fractured. ...  English   \n52474  'Anasazi', sequel to 'The Thirteenth Chime' by...  English   \n52475  --READERS FAVORITE AWARDS WINNER 2011--Sixteen...  English   \n52476  A POWERFUL TREMOR UNEARTHS AN ANCIENT SECRETBu...  English   \n52477  Fighting in Helaman's army is Keturah's deepes...  English   \n\n                isbn                                             genres  \\\n0      9780439023481  ['Young Adult', 'Fiction', 'Dystopia', 'Fantas...   \n1      9780439358071  ['Fantasy', 'Young Adult', 'Fiction', 'Magic',...   \n2      9999999999999  ['Classics', 'Fiction', 'Historical Fiction', ...   \n3      9999999999999  ['Classics', 'Fiction', 'Romance', 'Historical...   \n4      9780316015844  ['Young Adult', 'Fantasy', 'Romance', 'Vampire...   \n...              ...                                                ...   \n52473  2940012616562  ['Vampires', 'Paranormal', 'Young Adult', 'Rom...   \n52474  9999999999999                         ['Mystery', 'Young Adult']   \n52475  9781461017097  ['Fantasy', 'Young Adult', 'Paranormal', 'Ange...   \n52476  9781450755634  ['Fiction', 'Mystery', 'Historical Fiction', '...   \n52477  9781599554976  ['Lds Fiction', 'Historical Fiction', 'Young A...   \n\n                                              characters  ...  \\\n0      ['Katniss Everdeen', 'Peeta Mellark', 'Cato (H...  ...   \n1      ['Sirius Black', 'Draco Malfoy', 'Ron Weasley'...  ...   \n2      ['Scout Finch', 'Atticus Finch', 'Jem Finch', ...  ...   \n3      ['Mr. Bennet', 'Mrs. Bennet', 'Jane Bennet', '...  ...   \n4      ['Edward Cullen', 'Jacob Black', 'Laurent', 'R...  ...   \n...                                                  ...  ...   \n52473                                                 []  ...   \n52474                                                 []  ...   \n52475                                                 []  ...   \n52476                                                 []  ...   \n52477                                                 []  ...   \n\n                                                coverImg bbeScore bbeVotes  \\\n0      https://i.gr-assets.com/images/S/compressed.ph...  2993816    30516   \n1      https://i.gr-assets.com/images/S/compressed.ph...  2632233    26923   \n2      https://i.gr-assets.com/images/S/compressed.ph...  2269402    23328   \n3      https://i.gr-assets.com/images/S/compressed.ph...  1983116    20452   \n4      https://i.gr-assets.com/images/S/compressed.ph...  1459448    14874   \n...                                                  ...      ...      ...   \n52473  https://i.gr-assets.com/images/S/compressed.ph...        0        1   \n52474  https://i.gr-assets.com/images/S/compressed.ph...        0        1   \n52475  https://i.gr-assets.com/images/S/compressed.ph...        0        1   \n52476  https://i.gr-assets.com/images/S/compressed.ph...        0        1   \n52477  https://i.gr-assets.com/images/S/compressed.ph...        0        1   \n\n      price ratingStar1 ratingStar2 ratingStar3  ratingStar4 ratingStar5  \\\n0      5.09     3444695     1921313      745221       171994       93557   \n1      7.38     1593642      637516      222366        39573       14526   \n2       NaN     2363896     1333153      573280       149952       80794   \n3       NaN     1617567      816659      373311       113934       76770   \n4       2.1     1751460     1113682     1008686       542017      548674   \n...     ...         ...         ...         ...          ...         ...   \n52473   NaN         311         310         197           42          11   \n52474   NaN          16          14           5            2           0   \n52475  7.37        2109        1868        1660          647         390   \n52476  2.86          77          78          59           19           5   \n52477  5.20         106          73          42           17           8   \n\n       genreSingle  \n0      Young Adult  \n1          Fantasy  \n2         Classics  \n3         Classics  \n4      Young Adult  \n...            ...  \n52473     Vampires  \n52474      Mystery  \n52475      Fantasy  \n52476      Fiction  \n52477  Lds Fiction  \n\n[44036 rows x 31 columns]",
      "text/html": "<div>\n<style scoped>\n    .dataframe tbody tr th:only-of-type {\n        vertical-align: middle;\n    }\n\n    .dataframe tbody tr th {\n        vertical-align: top;\n    }\n\n    .dataframe thead th {\n        text-align: right;\n    }\n</style>\n<table border=\"1\" class=\"dataframe\">\n  <thead>\n    <tr style=\"text-align: right;\">\n      <th></th>\n      <th>bookId</th>\n      <th>title</th>\n      <th>series</th>\n      <th>author</th>\n      <th>rating</th>\n      <th>description</th>\n      <th>language</th>\n      <th>isbn</th>\n      <th>genres</th>\n      <th>characters</th>\n      <th>...</th>\n      <th>coverImg</th>\n      <th>bbeScore</th>\n      <th>bbeVotes</th>\n      <th>price</th>\n      <th>ratingStar1</th>\n      <th>ratingStar2</th>\n      <th>ratingStar3</th>\n      <th>ratingStar4</th>\n      <th>ratingStar5</th>\n      <th>genreSingle</th>\n    </tr>\n  </thead>\n  <tbody>\n    <tr>\n      <th>0</th>\n      <td>2767052</td>\n      <td>The Hunger Games</td>\n      <td>The Hunger Games #1</td>\n      <td>Suzanne Collins</td>\n      <td>4.330000000000000</td>\n      <td>WINNING MEANS FAME AND FORTUNE.LOSING MEANS CE...</td>\n      <td>English</td>\n      <td>9780439023481</td>\n      <td>['Young Adult', 'Fiction', 'Dystopia', 'Fantas...</td>\n      <td>['Katniss Everdeen', 'Peeta Mellark', 'Cato (H...</td>\n      <td>...</td>\n      <td>https://i.gr-assets.com/images/S/compressed.ph...</td>\n      <td>2993816</td>\n      <td>30516</td>\n      <td>5.09</td>\n      <td>3444695</td>\n      <td>1921313</td>\n      <td>745221</td>\n      <td>171994</td>\n      <td>93557</td>\n      <td>Young Adult</td>\n    </tr>\n    <tr>\n      <th>1</th>\n      <td>2</td>\n      <td>Harry Potter and the Order of the Phoenix</td>\n      <td>Harry Potter #5</td>\n      <td>J.K. Rowling, Mary GrandPré (Illustrator)</td>\n      <td>4.500000000000000</td>\n      <td>There is a door at the end of a silent corrido...</td>\n      <td>English</td>\n      <td>9780439358071</td>\n      <td>['Fantasy', 'Young Adult', 'Fiction', 'Magic',...</td>\n      <td>['Sirius Black', 'Draco Malfoy', 'Ron Weasley'...</td>\n      <td>...</td>\n      <td>https://i.gr-assets.com/images/S/compressed.ph...</td>\n      <td>2632233</td>\n      <td>26923</td>\n      <td>7.38</td>\n      <td>1593642</td>\n      <td>637516</td>\n      <td>222366</td>\n      <td>39573</td>\n      <td>14526</td>\n      <td>Fantasy</td>\n    </tr>\n    <tr>\n      <th>2</th>\n      <td>2657</td>\n      <td>To Kill a Mockingbird</td>\n      <td>To Kill a Mockingbird</td>\n      <td>Harper Lee</td>\n      <td>4.280000000000000</td>\n      <td>The unforgettable novel of a childhood in a sl...</td>\n      <td>English</td>\n      <td>9999999999999</td>\n      <td>['Classics', 'Fiction', 'Historical Fiction', ...</td>\n      <td>['Scout Finch', 'Atticus Finch', 'Jem Finch', ...</td>\n      <td>...</td>\n      <td>https://i.gr-assets.com/images/S/compressed.ph...</td>\n      <td>2269402</td>\n      <td>23328</td>\n      <td>NaN</td>\n      <td>2363896</td>\n      <td>1333153</td>\n      <td>573280</td>\n      <td>149952</td>\n      <td>80794</td>\n      <td>Classics</td>\n    </tr>\n    <tr>\n      <th>3</th>\n      <td>1885</td>\n      <td>Pride and Prejudice</td>\n      <td>NaN</td>\n      <td>Jane Austen, Anna Quindlen (Introduction)</td>\n      <td>4.260000000000000</td>\n      <td>Alternate cover edition of ISBN 9780679783268S...</td>\n      <td>English</td>\n      <td>9999999999999</td>\n      <td>['Classics', 'Fiction', 'Romance', 'Historical...</td>\n      <td>['Mr. Bennet', 'Mrs. Bennet', 'Jane Bennet', '...</td>\n      <td>...</td>\n      <td>https://i.gr-assets.com/images/S/compressed.ph...</td>\n      <td>1983116</td>\n      <td>20452</td>\n      <td>NaN</td>\n      <td>1617567</td>\n      <td>816659</td>\n      <td>373311</td>\n      <td>113934</td>\n      <td>76770</td>\n      <td>Classics</td>\n    </tr>\n    <tr>\n      <th>4</th>\n      <td>41865</td>\n      <td>Twilight</td>\n      <td>The Twilight Saga #1</td>\n      <td>Stephenie Meyer</td>\n      <td>3.600000000000000</td>\n      <td>About three things I was absolutely positive.\\...</td>\n      <td>English</td>\n      <td>9780316015844</td>\n      <td>['Young Adult', 'Fantasy', 'Romance', 'Vampire...</td>\n      <td>['Edward Cullen', 'Jacob Black', 'Laurent', 'R...</td>\n      <td>...</td>\n      <td>https://i.gr-assets.com/images/S/compressed.ph...</td>\n      <td>1459448</td>\n      <td>14874</td>\n      <td>2.1</td>\n      <td>1751460</td>\n      <td>1113682</td>\n      <td>1008686</td>\n      <td>542017</td>\n      <td>548674</td>\n      <td>Young Adult</td>\n    </tr>\n    <tr>\n      <th>...</th>\n      <td>...</td>\n      <td>...</td>\n      <td>...</td>\n      <td>...</td>\n      <td>...</td>\n      <td>...</td>\n      <td>...</td>\n      <td>...</td>\n      <td>...</td>\n      <td>...</td>\n      <td>...</td>\n      <td>...</td>\n      <td>...</td>\n      <td>...</td>\n      <td>...</td>\n      <td>...</td>\n      <td>...</td>\n      <td>...</td>\n      <td>...</td>\n      <td>...</td>\n      <td>...</td>\n    </tr>\n    <tr>\n      <th>52473</th>\n      <td>11492014</td>\n      <td>Fractured</td>\n      <td>Fateful #2</td>\n      <td>Cheri Schmidt (Goodreads Author)</td>\n      <td>4.000000000000000</td>\n      <td>The Fateful Trilogy continues with Fractured. ...</td>\n      <td>English</td>\n      <td>2940012616562</td>\n      <td>['Vampires', 'Paranormal', 'Young Adult', 'Rom...</td>\n      <td>[]</td>\n      <td>...</td>\n      <td>https://i.gr-assets.com/images/S/compressed.ph...</td>\n      <td>0</td>\n      <td>1</td>\n      <td>NaN</td>\n      <td>311</td>\n      <td>310</td>\n      <td>197</td>\n      <td>42</td>\n      <td>11</td>\n      <td>Vampires</td>\n    </tr>\n    <tr>\n      <th>52474</th>\n      <td>11836711</td>\n      <td>Anasazi</td>\n      <td>Sense of Truth #2</td>\n      <td>Emma Michaels</td>\n      <td>4.190000000000000</td>\n      <td>'Anasazi', sequel to 'The Thirteenth Chime' by...</td>\n      <td>English</td>\n      <td>9999999999999</td>\n      <td>['Mystery', 'Young Adult']</td>\n      <td>[]</td>\n      <td>...</td>\n      <td>https://i.gr-assets.com/images/S/compressed.ph...</td>\n      <td>0</td>\n      <td>1</td>\n      <td>NaN</td>\n      <td>16</td>\n      <td>14</td>\n      <td>5</td>\n      <td>2</td>\n      <td>0</td>\n      <td>Mystery</td>\n    </tr>\n    <tr>\n      <th>52475</th>\n      <td>10815662</td>\n      <td>Marked</td>\n      <td>Soul Guardians #1</td>\n      <td>Kim Richardson (Goodreads Author)</td>\n      <td>3.700000000000000</td>\n      <td>--READERS FAVORITE AWARDS WINNER 2011--Sixteen...</td>\n      <td>English</td>\n      <td>9781461017097</td>\n      <td>['Fantasy', 'Young Adult', 'Paranormal', 'Ange...</td>\n      <td>[]</td>\n      <td>...</td>\n      <td>https://i.gr-assets.com/images/S/compressed.ph...</td>\n      <td>0</td>\n      <td>1</td>\n      <td>7.37</td>\n      <td>2109</td>\n      <td>1868</td>\n      <td>1660</td>\n      <td>647</td>\n      <td>390</td>\n      <td>Fantasy</td>\n    </tr>\n    <tr>\n      <th>52476</th>\n      <td>11330278</td>\n      <td>Wayward Son</td>\n      <td>NaN</td>\n      <td>Tom Pollack (Goodreads Author), John Loftus (G...</td>\n      <td>3.850000000000000</td>\n      <td>A POWERFUL TREMOR UNEARTHS AN ANCIENT SECRETBu...</td>\n      <td>English</td>\n      <td>9781450755634</td>\n      <td>['Fiction', 'Mystery', 'Historical Fiction', '...</td>\n      <td>[]</td>\n      <td>...</td>\n      <td>https://i.gr-assets.com/images/S/compressed.ph...</td>\n      <td>0</td>\n      <td>1</td>\n      <td>2.86</td>\n      <td>77</td>\n      <td>78</td>\n      <td>59</td>\n      <td>19</td>\n      <td>5</td>\n      <td>Fiction</td>\n    </tr>\n    <tr>\n      <th>52477</th>\n      <td>10991547</td>\n      <td>Daughter of Helaman</td>\n      <td>Stripling Warrior #1</td>\n      <td>Misty Moncur (Goodreads Author)</td>\n      <td>4.020000000000000</td>\n      <td>Fighting in Helaman's army is Keturah's deepes...</td>\n      <td>English</td>\n      <td>9781599554976</td>\n      <td>['Lds Fiction', 'Historical Fiction', 'Young A...</td>\n      <td>[]</td>\n      <td>...</td>\n      <td>https://i.gr-assets.com/images/S/compressed.ph...</td>\n      <td>0</td>\n      <td>1</td>\n      <td>5.20</td>\n      <td>106</td>\n      <td>73</td>\n      <td>42</td>\n      <td>17</td>\n      <td>8</td>\n      <td>Lds Fiction</td>\n    </tr>\n  </tbody>\n</table>\n<p>44036 rows × 31 columns</p>\n</div>"
     },
     "execution_count": 113,
     "metadata": {},
     "output_type": "execute_result"
    }
   ],
   "source": [
    "ls=[]\n",
    "for i,f in zip(df.index,df['genres']):\n",
    "  x = ast.literal_eval(f)\n",
    "  if len(x)==0:\n",
    "    df=df.drop(i)\n",
    "  else:\n",
    "    ls.append(x[0])\n",
    "\n",
    "df['genreSingle']=ls\n",
    "df"
   ]
  },
  {
   "cell_type": "code",
   "execution_count": 114,
   "outputs": [
    {
     "data": {
      "text/plain": "         bookId                                      title  \\\n0       2767052                           The Hunger Games   \n1             2  Harry Potter and the Order of the Phoenix   \n2          2657                      To Kill a Mockingbird   \n3          1885                        Pride and Prejudice   \n4         41865                                   Twilight   \n...         ...                                        ...   \n52473  11492014                                  Fractured   \n52474  11836711                                    Anasazi   \n52475  10815662                                     Marked   \n52476  11330278                                Wayward Son   \n52477  10991547                        Daughter of Helaman   \n\n                      series                             author  \\\n0        The Hunger Games #1                    Suzanne Collins   \n1            Harry Potter #5                       J.K. Rowling   \n2      To Kill a Mockingbird                         Harper Lee   \n3                        NaN                        Jane Austen   \n4       The Twilight Saga #1                    Stephenie Meyer   \n...                      ...                                ...   \n52473             Fateful #2   Cheri Schmidt (Goodreads Author)   \n52474      Sense of Truth #2                      Emma Michaels   \n52475      Soul Guardians #1  Kim Richardson (Goodreads Author)   \n52476                    NaN     Tom Pollack (Goodreads Author)   \n52477   Stripling Warrior #1    Misty Moncur (Goodreads Author)   \n\n                 rating                                        description  \\\n0     4.330000000000000  WINNING MEANS FAME AND FORTUNE.LOSING MEANS CE...   \n1     4.500000000000000  There is a door at the end of a silent corrido...   \n2     4.280000000000000  The unforgettable novel of a childhood in a sl...   \n3     4.260000000000000  Alternate cover edition of ISBN 9780679783268S...   \n4     3.600000000000000  About three things I was absolutely positive.\\...   \n...                 ...                                                ...   \n52473 4.000000000000000  The Fateful Trilogy continues with Fractured. ...   \n52474 4.190000000000000  'Anasazi', sequel to 'The Thirteenth Chime' by...   \n52475 3.700000000000000  --READERS FAVORITE AWARDS WINNER 2011--Sixteen...   \n52476 3.850000000000000  A POWERFUL TREMOR UNEARTHS AN ANCIENT SECRETBu...   \n52477 4.020000000000000  Fighting in Helaman's army is Keturah's deepes...   \n\n      language           isbn  \\\n0      English  9780439023481   \n1      English  9780439358071   \n2      English  9999999999999   \n3      English  9999999999999   \n4      English  9780316015844   \n...        ...            ...   \n52473  English  2940012616562   \n52474  English  9999999999999   \n52475  English  9781461017097   \n52476  English  9781450755634   \n52477  English  9781599554976   \n\n                                                  genres  \\\n0      ['Young Adult', 'Fiction', 'Dystopia', 'Fantas...   \n1      ['Fantasy', 'Young Adult', 'Fiction', 'Magic',...   \n2      ['Classics', 'Fiction', 'Historical Fiction', ...   \n3      ['Classics', 'Fiction', 'Romance', 'Historical...   \n4      ['Young Adult', 'Fantasy', 'Romance', 'Vampire...   \n...                                                  ...   \n52473  ['Vampires', 'Paranormal', 'Young Adult', 'Rom...   \n52474                         ['Mystery', 'Young Adult']   \n52475  ['Fantasy', 'Young Adult', 'Paranormal', 'Ange...   \n52476  ['Fiction', 'Mystery', 'Historical Fiction', '...   \n52477  ['Lds Fiction', 'Historical Fiction', 'Young A...   \n\n                                              characters  ...  \\\n0      ['Katniss Everdeen', 'Peeta Mellark', 'Cato (H...  ...   \n1      ['Sirius Black', 'Draco Malfoy', 'Ron Weasley'...  ...   \n2      ['Scout Finch', 'Atticus Finch', 'Jem Finch', ...  ...   \n3      ['Mr. Bennet', 'Mrs. Bennet', 'Jane Bennet', '...  ...   \n4      ['Edward Cullen', 'Jacob Black', 'Laurent', 'R...  ...   \n...                                                  ...  ...   \n52473                                                 []  ...   \n52474                                                 []  ...   \n52475                                                 []  ...   \n52476                                                 []  ...   \n52477                                                 []  ...   \n\n                                                coverImg bbeScore bbeVotes  \\\n0      https://i.gr-assets.com/images/S/compressed.ph...  2993816    30516   \n1      https://i.gr-assets.com/images/S/compressed.ph...  2632233    26923   \n2      https://i.gr-assets.com/images/S/compressed.ph...  2269402    23328   \n3      https://i.gr-assets.com/images/S/compressed.ph...  1983116    20452   \n4      https://i.gr-assets.com/images/S/compressed.ph...  1459448    14874   \n...                                                  ...      ...      ...   \n52473  https://i.gr-assets.com/images/S/compressed.ph...        0        1   \n52474  https://i.gr-assets.com/images/S/compressed.ph...        0        1   \n52475  https://i.gr-assets.com/images/S/compressed.ph...        0        1   \n52476  https://i.gr-assets.com/images/S/compressed.ph...        0        1   \n52477  https://i.gr-assets.com/images/S/compressed.ph...        0        1   \n\n      price ratingStar1 ratingStar2 ratingStar3  ratingStar4 ratingStar5  \\\n0      5.09     3444695     1921313      745221       171994       93557   \n1      7.38     1593642      637516      222366        39573       14526   \n2       NaN     2363896     1333153      573280       149952       80794   \n3       NaN     1617567      816659      373311       113934       76770   \n4       2.1     1751460     1113682     1008686       542017      548674   \n...     ...         ...         ...         ...          ...         ...   \n52473   NaN         311         310         197           42          11   \n52474   NaN          16          14           5            2           0   \n52475  7.37        2109        1868        1660          647         390   \n52476  2.86          77          78          59           19           5   \n52477  5.20         106          73          42           17           8   \n\n       genreSingle  \n0      Young Adult  \n1          Fantasy  \n2         Classics  \n3         Classics  \n4      Young Adult  \n...            ...  \n52473     Vampires  \n52474      Mystery  \n52475      Fantasy  \n52476      Fiction  \n52477  Lds Fiction  \n\n[44036 rows x 31 columns]",
      "text/html": "<div>\n<style scoped>\n    .dataframe tbody tr th:only-of-type {\n        vertical-align: middle;\n    }\n\n    .dataframe tbody tr th {\n        vertical-align: top;\n    }\n\n    .dataframe thead th {\n        text-align: right;\n    }\n</style>\n<table border=\"1\" class=\"dataframe\">\n  <thead>\n    <tr style=\"text-align: right;\">\n      <th></th>\n      <th>bookId</th>\n      <th>title</th>\n      <th>series</th>\n      <th>author</th>\n      <th>rating</th>\n      <th>description</th>\n      <th>language</th>\n      <th>isbn</th>\n      <th>genres</th>\n      <th>characters</th>\n      <th>...</th>\n      <th>coverImg</th>\n      <th>bbeScore</th>\n      <th>bbeVotes</th>\n      <th>price</th>\n      <th>ratingStar1</th>\n      <th>ratingStar2</th>\n      <th>ratingStar3</th>\n      <th>ratingStar4</th>\n      <th>ratingStar5</th>\n      <th>genreSingle</th>\n    </tr>\n  </thead>\n  <tbody>\n    <tr>\n      <th>0</th>\n      <td>2767052</td>\n      <td>The Hunger Games</td>\n      <td>The Hunger Games #1</td>\n      <td>Suzanne Collins</td>\n      <td>4.330000000000000</td>\n      <td>WINNING MEANS FAME AND FORTUNE.LOSING MEANS CE...</td>\n      <td>English</td>\n      <td>9780439023481</td>\n      <td>['Young Adult', 'Fiction', 'Dystopia', 'Fantas...</td>\n      <td>['Katniss Everdeen', 'Peeta Mellark', 'Cato (H...</td>\n      <td>...</td>\n      <td>https://i.gr-assets.com/images/S/compressed.ph...</td>\n      <td>2993816</td>\n      <td>30516</td>\n      <td>5.09</td>\n      <td>3444695</td>\n      <td>1921313</td>\n      <td>745221</td>\n      <td>171994</td>\n      <td>93557</td>\n      <td>Young Adult</td>\n    </tr>\n    <tr>\n      <th>1</th>\n      <td>2</td>\n      <td>Harry Potter and the Order of the Phoenix</td>\n      <td>Harry Potter #5</td>\n      <td>J.K. Rowling</td>\n      <td>4.500000000000000</td>\n      <td>There is a door at the end of a silent corrido...</td>\n      <td>English</td>\n      <td>9780439358071</td>\n      <td>['Fantasy', 'Young Adult', 'Fiction', 'Magic',...</td>\n      <td>['Sirius Black', 'Draco Malfoy', 'Ron Weasley'...</td>\n      <td>...</td>\n      <td>https://i.gr-assets.com/images/S/compressed.ph...</td>\n      <td>2632233</td>\n      <td>26923</td>\n      <td>7.38</td>\n      <td>1593642</td>\n      <td>637516</td>\n      <td>222366</td>\n      <td>39573</td>\n      <td>14526</td>\n      <td>Fantasy</td>\n    </tr>\n    <tr>\n      <th>2</th>\n      <td>2657</td>\n      <td>To Kill a Mockingbird</td>\n      <td>To Kill a Mockingbird</td>\n      <td>Harper Lee</td>\n      <td>4.280000000000000</td>\n      <td>The unforgettable novel of a childhood in a sl...</td>\n      <td>English</td>\n      <td>9999999999999</td>\n      <td>['Classics', 'Fiction', 'Historical Fiction', ...</td>\n      <td>['Scout Finch', 'Atticus Finch', 'Jem Finch', ...</td>\n      <td>...</td>\n      <td>https://i.gr-assets.com/images/S/compressed.ph...</td>\n      <td>2269402</td>\n      <td>23328</td>\n      <td>NaN</td>\n      <td>2363896</td>\n      <td>1333153</td>\n      <td>573280</td>\n      <td>149952</td>\n      <td>80794</td>\n      <td>Classics</td>\n    </tr>\n    <tr>\n      <th>3</th>\n      <td>1885</td>\n      <td>Pride and Prejudice</td>\n      <td>NaN</td>\n      <td>Jane Austen</td>\n      <td>4.260000000000000</td>\n      <td>Alternate cover edition of ISBN 9780679783268S...</td>\n      <td>English</td>\n      <td>9999999999999</td>\n      <td>['Classics', 'Fiction', 'Romance', 'Historical...</td>\n      <td>['Mr. Bennet', 'Mrs. Bennet', 'Jane Bennet', '...</td>\n      <td>...</td>\n      <td>https://i.gr-assets.com/images/S/compressed.ph...</td>\n      <td>1983116</td>\n      <td>20452</td>\n      <td>NaN</td>\n      <td>1617567</td>\n      <td>816659</td>\n      <td>373311</td>\n      <td>113934</td>\n      <td>76770</td>\n      <td>Classics</td>\n    </tr>\n    <tr>\n      <th>4</th>\n      <td>41865</td>\n      <td>Twilight</td>\n      <td>The Twilight Saga #1</td>\n      <td>Stephenie Meyer</td>\n      <td>3.600000000000000</td>\n      <td>About three things I was absolutely positive.\\...</td>\n      <td>English</td>\n      <td>9780316015844</td>\n      <td>['Young Adult', 'Fantasy', 'Romance', 'Vampire...</td>\n      <td>['Edward Cullen', 'Jacob Black', 'Laurent', 'R...</td>\n      <td>...</td>\n      <td>https://i.gr-assets.com/images/S/compressed.ph...</td>\n      <td>1459448</td>\n      <td>14874</td>\n      <td>2.1</td>\n      <td>1751460</td>\n      <td>1113682</td>\n      <td>1008686</td>\n      <td>542017</td>\n      <td>548674</td>\n      <td>Young Adult</td>\n    </tr>\n    <tr>\n      <th>...</th>\n      <td>...</td>\n      <td>...</td>\n      <td>...</td>\n      <td>...</td>\n      <td>...</td>\n      <td>...</td>\n      <td>...</td>\n      <td>...</td>\n      <td>...</td>\n      <td>...</td>\n      <td>...</td>\n      <td>...</td>\n      <td>...</td>\n      <td>...</td>\n      <td>...</td>\n      <td>...</td>\n      <td>...</td>\n      <td>...</td>\n      <td>...</td>\n      <td>...</td>\n      <td>...</td>\n    </tr>\n    <tr>\n      <th>52473</th>\n      <td>11492014</td>\n      <td>Fractured</td>\n      <td>Fateful #2</td>\n      <td>Cheri Schmidt (Goodreads Author)</td>\n      <td>4.000000000000000</td>\n      <td>The Fateful Trilogy continues with Fractured. ...</td>\n      <td>English</td>\n      <td>2940012616562</td>\n      <td>['Vampires', 'Paranormal', 'Young Adult', 'Rom...</td>\n      <td>[]</td>\n      <td>...</td>\n      <td>https://i.gr-assets.com/images/S/compressed.ph...</td>\n      <td>0</td>\n      <td>1</td>\n      <td>NaN</td>\n      <td>311</td>\n      <td>310</td>\n      <td>197</td>\n      <td>42</td>\n      <td>11</td>\n      <td>Vampires</td>\n    </tr>\n    <tr>\n      <th>52474</th>\n      <td>11836711</td>\n      <td>Anasazi</td>\n      <td>Sense of Truth #2</td>\n      <td>Emma Michaels</td>\n      <td>4.190000000000000</td>\n      <td>'Anasazi', sequel to 'The Thirteenth Chime' by...</td>\n      <td>English</td>\n      <td>9999999999999</td>\n      <td>['Mystery', 'Young Adult']</td>\n      <td>[]</td>\n      <td>...</td>\n      <td>https://i.gr-assets.com/images/S/compressed.ph...</td>\n      <td>0</td>\n      <td>1</td>\n      <td>NaN</td>\n      <td>16</td>\n      <td>14</td>\n      <td>5</td>\n      <td>2</td>\n      <td>0</td>\n      <td>Mystery</td>\n    </tr>\n    <tr>\n      <th>52475</th>\n      <td>10815662</td>\n      <td>Marked</td>\n      <td>Soul Guardians #1</td>\n      <td>Kim Richardson (Goodreads Author)</td>\n      <td>3.700000000000000</td>\n      <td>--READERS FAVORITE AWARDS WINNER 2011--Sixteen...</td>\n      <td>English</td>\n      <td>9781461017097</td>\n      <td>['Fantasy', 'Young Adult', 'Paranormal', 'Ange...</td>\n      <td>[]</td>\n      <td>...</td>\n      <td>https://i.gr-assets.com/images/S/compressed.ph...</td>\n      <td>0</td>\n      <td>1</td>\n      <td>7.37</td>\n      <td>2109</td>\n      <td>1868</td>\n      <td>1660</td>\n      <td>647</td>\n      <td>390</td>\n      <td>Fantasy</td>\n    </tr>\n    <tr>\n      <th>52476</th>\n      <td>11330278</td>\n      <td>Wayward Son</td>\n      <td>NaN</td>\n      <td>Tom Pollack (Goodreads Author)</td>\n      <td>3.850000000000000</td>\n      <td>A POWERFUL TREMOR UNEARTHS AN ANCIENT SECRETBu...</td>\n      <td>English</td>\n      <td>9781450755634</td>\n      <td>['Fiction', 'Mystery', 'Historical Fiction', '...</td>\n      <td>[]</td>\n      <td>...</td>\n      <td>https://i.gr-assets.com/images/S/compressed.ph...</td>\n      <td>0</td>\n      <td>1</td>\n      <td>2.86</td>\n      <td>77</td>\n      <td>78</td>\n      <td>59</td>\n      <td>19</td>\n      <td>5</td>\n      <td>Fiction</td>\n    </tr>\n    <tr>\n      <th>52477</th>\n      <td>10991547</td>\n      <td>Daughter of Helaman</td>\n      <td>Stripling Warrior #1</td>\n      <td>Misty Moncur (Goodreads Author)</td>\n      <td>4.020000000000000</td>\n      <td>Fighting in Helaman's army is Keturah's deepes...</td>\n      <td>English</td>\n      <td>9781599554976</td>\n      <td>['Lds Fiction', 'Historical Fiction', 'Young A...</td>\n      <td>[]</td>\n      <td>...</td>\n      <td>https://i.gr-assets.com/images/S/compressed.ph...</td>\n      <td>0</td>\n      <td>1</td>\n      <td>5.20</td>\n      <td>106</td>\n      <td>73</td>\n      <td>42</td>\n      <td>17</td>\n      <td>8</td>\n      <td>Lds Fiction</td>\n    </tr>\n  </tbody>\n</table>\n<p>44036 rows × 31 columns</p>\n</div>"
     },
     "execution_count": 114,
     "metadata": {},
     "output_type": "execute_result"
    }
   ],
   "source": [
    "ls=[]\n",
    "for i,f in zip(df.index,df['author']):\n",
    "  x = f.split(', ')\n",
    "  ls.append(x[0])\n",
    "df['author'] = ls\n",
    "df"
   ],
   "metadata": {
    "collapsed": false
   }
  },
  {
   "cell_type": "code",
   "execution_count": 120,
   "metadata": {
    "colab": {
     "base_uri": "https://localhost:8080/",
     "height": 362
    },
    "executionInfo": {
     "elapsed": 4215,
     "status": "error",
     "timestamp": 1685009040160,
     "user": {
      "displayName": "Κωνσταντίνος Κανελλάκης",
      "userId": "17854306947232766693"
     },
     "user_tz": -180
    },
    "id": "i_yJZXzvzFxu",
    "outputId": "1cff0203-42b1-45ce-fa2a-d88fa1e693cd"
   },
   "outputs": [
    {
     "data": {
      "text/plain": "         bookId                                      title  \\\n0       2767052                           The Hunger Games   \n1             2  Harry Potter and the Order of the Phoenix   \n2          2657                      To Kill a Mockingbird   \n3          1885                        Pride and Prejudice   \n4         41865                                   Twilight   \n...         ...                                        ...   \n52473  11492014                                  Fractured   \n52474  11836711                                    Anasazi   \n52475  10815662                                     Marked   \n52476  11330278                                Wayward Son   \n52477  10991547                        Daughter of Helaman   \n\n                      series                             author  \\\n0        The Hunger Games #1                    Suzanne Collins   \n1            Harry Potter #5                       J.K. Rowling   \n2      To Kill a Mockingbird                         Harper Lee   \n3                        NaN                        Jane Austen   \n4       The Twilight Saga #1                    Stephenie Meyer   \n...                      ...                                ...   \n52473             Fateful #2   Cheri Schmidt (Goodreads Author)   \n52474      Sense of Truth #2                      Emma Michaels   \n52475      Soul Guardians #1  Kim Richardson (Goodreads Author)   \n52476                    NaN     Tom Pollack (Goodreads Author)   \n52477   Stripling Warrior #1    Misty Moncur (Goodreads Author)   \n\n                 rating                                        description  \\\n0     4.330000000000000  WINNING MEANS FAME AND FORTUNE.LOSING MEANS CE...   \n1     4.500000000000000  There is a door at the end of a silent corrido...   \n2     4.280000000000000  The unforgettable novel of a childhood in a sl...   \n3     4.260000000000000  Alternate cover edition of ISBN 9780679783268S...   \n4     3.600000000000000  About three things I was absolutely positive.\\...   \n...                 ...                                                ...   \n52473 4.000000000000000  The Fateful Trilogy continues with Fractured. ...   \n52474 4.190000000000000  'Anasazi', sequel to 'The Thirteenth Chime' by...   \n52475 3.700000000000000  --READERS FAVORITE AWARDS WINNER 2011--Sixteen...   \n52476 3.850000000000000  A POWERFUL TREMOR UNEARTHS AN ANCIENT SECRETBu...   \n52477 4.020000000000000  Fighting in Helaman's army is Keturah's deepes...   \n\n      language           isbn  \\\n0      English  9780439023481   \n1      English  9780439358071   \n2      English  9999999999999   \n3      English  9999999999999   \n4      English  9780316015844   \n...        ...            ...   \n52473  English  2940012616562   \n52474  English  9999999999999   \n52475  English  9781461017097   \n52476  English  9781450755634   \n52477  English  9781599554976   \n\n                                                  genres  \\\n0      ['Young Adult', 'Fiction', 'Dystopia', 'Fantas...   \n1      ['Fantasy', 'Young Adult', 'Fiction', 'Magic',...   \n2      ['Classics', 'Fiction', 'Historical Fiction', ...   \n3      ['Classics', 'Fiction', 'Romance', 'Historical...   \n4      ['Young Adult', 'Fantasy', 'Romance', 'Vampire...   \n...                                                  ...   \n52473  ['Vampires', 'Paranormal', 'Young Adult', 'Rom...   \n52474                         ['Mystery', 'Young Adult']   \n52475  ['Fantasy', 'Young Adult', 'Paranormal', 'Ange...   \n52476  ['Fiction', 'Mystery', 'Historical Fiction', '...   \n52477  ['Lds Fiction', 'Historical Fiction', 'Young A...   \n\n                                              characters  ... bbeScore  \\\n0      ['Katniss Everdeen', 'Peeta Mellark', 'Cato (H...  ...  2993816   \n1      ['Sirius Black', 'Draco Malfoy', 'Ron Weasley'...  ...  2632233   \n2      ['Scout Finch', 'Atticus Finch', 'Jem Finch', ...  ...  2269402   \n3      ['Mr. Bennet', 'Mrs. Bennet', 'Jane Bennet', '...  ...  1983116   \n4      ['Edward Cullen', 'Jacob Black', 'Laurent', 'R...  ...  1459448   \n...                                                  ...  ...      ...   \n52473                                                 []  ...        0   \n52474                                                 []  ...        0   \n52475                                                 []  ...        0   \n52476                                                 []  ...        0   \n52477                                                 []  ...        0   \n\n      bbeVotes price ratingStar1 ratingStar2 ratingStar3 ratingStar4  \\\n0        30516  5.09     3444695     1921313      745221      171994   \n1        26923  7.38     1593642      637516      222366       39573   \n2        23328   NaN     2363896     1333153      573280      149952   \n3        20452   NaN     1617567      816659      373311      113934   \n4        14874   2.1     1751460     1113682     1008686      542017   \n...        ...   ...         ...         ...         ...         ...   \n52473        1   NaN         311         310         197          42   \n52474        1   NaN          16          14           5           2   \n52475        1  7.37        2109        1868        1660         647   \n52476        1  2.86          77          78          59          19   \n52477        1  5.20         106          73          42          17   \n\n       ratingStar5  genreSingle  publishedYear  \n0            93557  Young Adult           2008  \n1            14526      Fantasy           2004  \n2            80794     Classics           2006  \n3            76770     Classics           2000  \n4           548674  Young Adult           2006  \n...            ...          ...            ...  \n52473           11     Vampires           2011  \n52474            0      Mystery           2011  \n52475          390      Fantasy           2011  \n52476            5      Fiction           2011  \n52477            8  Lds Fiction           2011  \n\n[44036 rows x 32 columns]",
      "text/html": "<div>\n<style scoped>\n    .dataframe tbody tr th:only-of-type {\n        vertical-align: middle;\n    }\n\n    .dataframe tbody tr th {\n        vertical-align: top;\n    }\n\n    .dataframe thead th {\n        text-align: right;\n    }\n</style>\n<table border=\"1\" class=\"dataframe\">\n  <thead>\n    <tr style=\"text-align: right;\">\n      <th></th>\n      <th>bookId</th>\n      <th>title</th>\n      <th>series</th>\n      <th>author</th>\n      <th>rating</th>\n      <th>description</th>\n      <th>language</th>\n      <th>isbn</th>\n      <th>genres</th>\n      <th>characters</th>\n      <th>...</th>\n      <th>bbeScore</th>\n      <th>bbeVotes</th>\n      <th>price</th>\n      <th>ratingStar1</th>\n      <th>ratingStar2</th>\n      <th>ratingStar3</th>\n      <th>ratingStar4</th>\n      <th>ratingStar5</th>\n      <th>genreSingle</th>\n      <th>publishedYear</th>\n    </tr>\n  </thead>\n  <tbody>\n    <tr>\n      <th>0</th>\n      <td>2767052</td>\n      <td>The Hunger Games</td>\n      <td>The Hunger Games #1</td>\n      <td>Suzanne Collins</td>\n      <td>4.330000000000000</td>\n      <td>WINNING MEANS FAME AND FORTUNE.LOSING MEANS CE...</td>\n      <td>English</td>\n      <td>9780439023481</td>\n      <td>['Young Adult', 'Fiction', 'Dystopia', 'Fantas...</td>\n      <td>['Katniss Everdeen', 'Peeta Mellark', 'Cato (H...</td>\n      <td>...</td>\n      <td>2993816</td>\n      <td>30516</td>\n      <td>5.09</td>\n      <td>3444695</td>\n      <td>1921313</td>\n      <td>745221</td>\n      <td>171994</td>\n      <td>93557</td>\n      <td>Young Adult</td>\n      <td>2008</td>\n    </tr>\n    <tr>\n      <th>1</th>\n      <td>2</td>\n      <td>Harry Potter and the Order of the Phoenix</td>\n      <td>Harry Potter #5</td>\n      <td>J.K. Rowling</td>\n      <td>4.500000000000000</td>\n      <td>There is a door at the end of a silent corrido...</td>\n      <td>English</td>\n      <td>9780439358071</td>\n      <td>['Fantasy', 'Young Adult', 'Fiction', 'Magic',...</td>\n      <td>['Sirius Black', 'Draco Malfoy', 'Ron Weasley'...</td>\n      <td>...</td>\n      <td>2632233</td>\n      <td>26923</td>\n      <td>7.38</td>\n      <td>1593642</td>\n      <td>637516</td>\n      <td>222366</td>\n      <td>39573</td>\n      <td>14526</td>\n      <td>Fantasy</td>\n      <td>2004</td>\n    </tr>\n    <tr>\n      <th>2</th>\n      <td>2657</td>\n      <td>To Kill a Mockingbird</td>\n      <td>To Kill a Mockingbird</td>\n      <td>Harper Lee</td>\n      <td>4.280000000000000</td>\n      <td>The unforgettable novel of a childhood in a sl...</td>\n      <td>English</td>\n      <td>9999999999999</td>\n      <td>['Classics', 'Fiction', 'Historical Fiction', ...</td>\n      <td>['Scout Finch', 'Atticus Finch', 'Jem Finch', ...</td>\n      <td>...</td>\n      <td>2269402</td>\n      <td>23328</td>\n      <td>NaN</td>\n      <td>2363896</td>\n      <td>1333153</td>\n      <td>573280</td>\n      <td>149952</td>\n      <td>80794</td>\n      <td>Classics</td>\n      <td>2006</td>\n    </tr>\n    <tr>\n      <th>3</th>\n      <td>1885</td>\n      <td>Pride and Prejudice</td>\n      <td>NaN</td>\n      <td>Jane Austen</td>\n      <td>4.260000000000000</td>\n      <td>Alternate cover edition of ISBN 9780679783268S...</td>\n      <td>English</td>\n      <td>9999999999999</td>\n      <td>['Classics', 'Fiction', 'Romance', 'Historical...</td>\n      <td>['Mr. Bennet', 'Mrs. Bennet', 'Jane Bennet', '...</td>\n      <td>...</td>\n      <td>1983116</td>\n      <td>20452</td>\n      <td>NaN</td>\n      <td>1617567</td>\n      <td>816659</td>\n      <td>373311</td>\n      <td>113934</td>\n      <td>76770</td>\n      <td>Classics</td>\n      <td>2000</td>\n    </tr>\n    <tr>\n      <th>4</th>\n      <td>41865</td>\n      <td>Twilight</td>\n      <td>The Twilight Saga #1</td>\n      <td>Stephenie Meyer</td>\n      <td>3.600000000000000</td>\n      <td>About three things I was absolutely positive.\\...</td>\n      <td>English</td>\n      <td>9780316015844</td>\n      <td>['Young Adult', 'Fantasy', 'Romance', 'Vampire...</td>\n      <td>['Edward Cullen', 'Jacob Black', 'Laurent', 'R...</td>\n      <td>...</td>\n      <td>1459448</td>\n      <td>14874</td>\n      <td>2.1</td>\n      <td>1751460</td>\n      <td>1113682</td>\n      <td>1008686</td>\n      <td>542017</td>\n      <td>548674</td>\n      <td>Young Adult</td>\n      <td>2006</td>\n    </tr>\n    <tr>\n      <th>...</th>\n      <td>...</td>\n      <td>...</td>\n      <td>...</td>\n      <td>...</td>\n      <td>...</td>\n      <td>...</td>\n      <td>...</td>\n      <td>...</td>\n      <td>...</td>\n      <td>...</td>\n      <td>...</td>\n      <td>...</td>\n      <td>...</td>\n      <td>...</td>\n      <td>...</td>\n      <td>...</td>\n      <td>...</td>\n      <td>...</td>\n      <td>...</td>\n      <td>...</td>\n      <td>...</td>\n    </tr>\n    <tr>\n      <th>52473</th>\n      <td>11492014</td>\n      <td>Fractured</td>\n      <td>Fateful #2</td>\n      <td>Cheri Schmidt (Goodreads Author)</td>\n      <td>4.000000000000000</td>\n      <td>The Fateful Trilogy continues with Fractured. ...</td>\n      <td>English</td>\n      <td>2940012616562</td>\n      <td>['Vampires', 'Paranormal', 'Young Adult', 'Rom...</td>\n      <td>[]</td>\n      <td>...</td>\n      <td>0</td>\n      <td>1</td>\n      <td>NaN</td>\n      <td>311</td>\n      <td>310</td>\n      <td>197</td>\n      <td>42</td>\n      <td>11</td>\n      <td>Vampires</td>\n      <td>2011</td>\n    </tr>\n    <tr>\n      <th>52474</th>\n      <td>11836711</td>\n      <td>Anasazi</td>\n      <td>Sense of Truth #2</td>\n      <td>Emma Michaels</td>\n      <td>4.190000000000000</td>\n      <td>'Anasazi', sequel to 'The Thirteenth Chime' by...</td>\n      <td>English</td>\n      <td>9999999999999</td>\n      <td>['Mystery', 'Young Adult']</td>\n      <td>[]</td>\n      <td>...</td>\n      <td>0</td>\n      <td>1</td>\n      <td>NaN</td>\n      <td>16</td>\n      <td>14</td>\n      <td>5</td>\n      <td>2</td>\n      <td>0</td>\n      <td>Mystery</td>\n      <td>2011</td>\n    </tr>\n    <tr>\n      <th>52475</th>\n      <td>10815662</td>\n      <td>Marked</td>\n      <td>Soul Guardians #1</td>\n      <td>Kim Richardson (Goodreads Author)</td>\n      <td>3.700000000000000</td>\n      <td>--READERS FAVORITE AWARDS WINNER 2011--Sixteen...</td>\n      <td>English</td>\n      <td>9781461017097</td>\n      <td>['Fantasy', 'Young Adult', 'Paranormal', 'Ange...</td>\n      <td>[]</td>\n      <td>...</td>\n      <td>0</td>\n      <td>1</td>\n      <td>7.37</td>\n      <td>2109</td>\n      <td>1868</td>\n      <td>1660</td>\n      <td>647</td>\n      <td>390</td>\n      <td>Fantasy</td>\n      <td>2011</td>\n    </tr>\n    <tr>\n      <th>52476</th>\n      <td>11330278</td>\n      <td>Wayward Son</td>\n      <td>NaN</td>\n      <td>Tom Pollack (Goodreads Author)</td>\n      <td>3.850000000000000</td>\n      <td>A POWERFUL TREMOR UNEARTHS AN ANCIENT SECRETBu...</td>\n      <td>English</td>\n      <td>9781450755634</td>\n      <td>['Fiction', 'Mystery', 'Historical Fiction', '...</td>\n      <td>[]</td>\n      <td>...</td>\n      <td>0</td>\n      <td>1</td>\n      <td>2.86</td>\n      <td>77</td>\n      <td>78</td>\n      <td>59</td>\n      <td>19</td>\n      <td>5</td>\n      <td>Fiction</td>\n      <td>2011</td>\n    </tr>\n    <tr>\n      <th>52477</th>\n      <td>10991547</td>\n      <td>Daughter of Helaman</td>\n      <td>Stripling Warrior #1</td>\n      <td>Misty Moncur (Goodreads Author)</td>\n      <td>4.020000000000000</td>\n      <td>Fighting in Helaman's army is Keturah's deepes...</td>\n      <td>English</td>\n      <td>9781599554976</td>\n      <td>['Lds Fiction', 'Historical Fiction', 'Young A...</td>\n      <td>[]</td>\n      <td>...</td>\n      <td>0</td>\n      <td>1</td>\n      <td>5.20</td>\n      <td>106</td>\n      <td>73</td>\n      <td>42</td>\n      <td>17</td>\n      <td>8</td>\n      <td>Lds Fiction</td>\n      <td>2011</td>\n    </tr>\n  </tbody>\n</table>\n<p>44036 rows × 32 columns</p>\n</div>"
     },
     "execution_count": 120,
     "metadata": {},
     "output_type": "execute_result"
    }
   ],
   "source": [
    "import pandas as pd\n",
    "date_formats = ['%m/%d/%Y', '%m/%d/%y','%B %d %Y']\n",
    "df['publishedYear'] = pd.to_datetime(df.publishDate, errors='coerce')\n",
    "for date_format in date_formats:\n",
    "   mask = df['publishedYear'].isna()  # Filter rows whereparsing failed\\n\",\n",
    "   df.loc[mask, 'publishedYear'] = pd.to_datetime(df.loc[mask, 'publishDate'], format=date_format, errors='coerce')\n",
    "df['publishedYear'] = df['publishedYear'].dt.year.astype('Int64')\n",
    "df"
   ]
  },
  {
   "cell_type": "markdown",
   "source": [
    "## Q2.1"
   ],
   "metadata": {
    "collapsed": false
   }
  },
  {
   "cell_type": "code",
   "execution_count": 121,
   "outputs": [
    {
     "data": {
      "text/plain": "Text(0, 0.5, 'Frequency')"
     },
     "execution_count": 121,
     "metadata": {},
     "output_type": "execute_result"
    },
    {
     "data": {
      "text/plain": "<Figure size 432x288 with 1 Axes>",
      "image/png": "[encoded data removed]"
     },
     "metadata": {
      "needs_background": "light"
     },
     "output_type": "display_data"
    }
   ],
   "source": [
    "hist_plot=df['rating'].hist(bins=20)\n",
    "hist_plot.set_title('Histogram of rating')\n",
    "hist_plot.set_xlabel('Rating')\n",
    "hist_plot.set_ylabel('Frequency')"
   ],
   "metadata": {
    "collapsed": false
   }
  },
  {
   "cell_type": "markdown",
   "source": [
    "## Q2.2"
   ],
   "metadata": {
    "collapsed": false
   }
  },
  {
   "cell_type": "code",
   "execution_count": 122,
   "outputs": [
    {
     "name": "stdout",
     "output_type": "stream",
     "text": [
      "The Story of Civilization 14777.0\n",
      "The Complete Wheel of Time 11095.0\n",
      "The Complete Malazan Book of the Fallen 8258.0\n",
      "Animorphs 8245.0\n",
      "Homestuck 8124.0\n",
      "Worm 6680.0\n",
      "سه تفنگدار: ١٠ جلدی 6600.0\n",
      "The Complete Aubrey/Maturin Novels (5 Volumes) 6576.0\n",
      "البداية والنهاية 6088.0\n",
      "A Song of Ice and Fire 5216.0\n"
     ]
    }
   ],
   "source": [
    "df[\"pages\"] = pd.to_numeric(df[\"pages\"], errors='coerce')\n",
    "l=df.sort_values(\"pages\",ascending=False)\n",
    "result=l.head(10)\n",
    "for x,y in zip(result['title'], result['pages']):\n",
    "  print(x,y)"
   ],
   "metadata": {
    "collapsed": false
   }
  },
  {
   "cell_type": "markdown",
   "source": [
    "## Q2.3"
   ],
   "metadata": {
    "collapsed": false
   }
  },
  {
   "cell_type": "code",
   "execution_count": 123,
   "outputs": [
    {
     "name": "stdout",
     "output_type": "stream",
     "text": [
      "Twilight 548674\n",
      "Fifty Shades of Grey 228885\n",
      "The Catcher in the Rye 139016\n",
      "New Moon 121711\n",
      "Lord of the Flies 120835\n",
      "Harry Potter and the Sorcerer's Stone 118525\n",
      "Breaking Dawn 117129\n",
      "Eat, Pray, Love 112573\n",
      "The Great Gatsby 112144\n",
      "The Alchemist 102377\n"
     ]
    }
   ],
   "source": [
    "df[\"ratingStar5\"] = pd.to_numeric(df[\"ratingStar5\"])\n",
    "l=df.sort_values(\"ratingStar5\",ascending=False)\n",
    "result=l.head(10)\n",
    "for x,y in zip(result['title'], result['ratingStar5']):\n",
    "  if(y > 10000):\n",
    "    print(x,y)"
   ],
   "metadata": {
    "collapsed": false
   }
  },
  {
   "cell_type": "markdown",
   "source": [
    "## Q2.5"
   ],
   "metadata": {
    "collapsed": false
   }
  },
  {
   "cell_type": "code",
   "execution_count": 124,
   "outputs": [
    {
     "data": {
      "text/plain": "                                   author  books\n13447     Nora Roberts (Goodreads Author)     94\n16671     Stephen King (Goodreads Author)     92\n7563   James Patterson (Goodreads Author)     81\n238                       Agatha Christie     81\n5246                          Erin Hunter     62\n17327                     Terry Pratchett     62\n7193         J.D. Robb (Goodreads Author)     59\n2598                        Carolyn Keene     58\n9518   Karen Kingsbury (Goodreads Author)     57\n12258        Meg Cabot (Goodreads Author)     54",
      "text/html": "<div>\n<style scoped>\n    .dataframe tbody tr th:only-of-type {\n        vertical-align: middle;\n    }\n\n    .dataframe tbody tr th {\n        vertical-align: top;\n    }\n\n    .dataframe thead th {\n        text-align: right;\n    }\n</style>\n<table border=\"1\" class=\"dataframe\">\n  <thead>\n    <tr style=\"text-align: right;\">\n      <th></th>\n      <th>author</th>\n      <th>books</th>\n    </tr>\n  </thead>\n  <tbody>\n    <tr>\n      <th>13447</th>\n      <td>Nora Roberts (Goodreads Author)</td>\n      <td>94</td>\n    </tr>\n    <tr>\n      <th>16671</th>\n      <td>Stephen King (Goodreads Author)</td>\n      <td>92</td>\n    </tr>\n    <tr>\n      <th>7563</th>\n      <td>James Patterson (Goodreads Author)</td>\n      <td>81</td>\n    </tr>\n    <tr>\n      <th>238</th>\n      <td>Agatha Christie</td>\n      <td>81</td>\n    </tr>\n    <tr>\n      <th>5246</th>\n      <td>Erin Hunter</td>\n      <td>62</td>\n    </tr>\n    <tr>\n      <th>17327</th>\n      <td>Terry Pratchett</td>\n      <td>62</td>\n    </tr>\n    <tr>\n      <th>7193</th>\n      <td>J.D. Robb (Goodreads Author)</td>\n      <td>59</td>\n    </tr>\n    <tr>\n      <th>2598</th>\n      <td>Carolyn Keene</td>\n      <td>58</td>\n    </tr>\n    <tr>\n      <th>9518</th>\n      <td>Karen Kingsbury (Goodreads Author)</td>\n      <td>57</td>\n    </tr>\n    <tr>\n      <th>12258</th>\n      <td>Meg Cabot (Goodreads Author)</td>\n      <td>54</td>\n    </tr>\n  </tbody>\n</table>\n</div>"
     },
     "execution_count": 124,
     "metadata": {},
     "output_type": "execute_result"
    }
   ],
   "source": [
    "z=df.groupby(['author'])['title'].count().reset_index(name='books')\n",
    "l=z.sort_values(\"books\",ascending=False)\n",
    "result=l.head(10)\n",
    "result"
   ],
   "metadata": {
    "collapsed": false
   }
  },
  {
   "cell_type": "markdown",
   "source": [
    "## Q2.6"
   ],
   "metadata": {
    "collapsed": false
   }
  },
  {
   "cell_type": "code",
   "execution_count": 125,
   "outputs": [
    {
     "data": {
      "text/plain": "                                   author  numRatings\n7230                         J.K. Rowling    24342485\n16671     Stephen King (Goodreads Author)    13003074\n16992                     Suzanne Collins    11842484\n16699                     Stephenie Meyer    10710870\n14936     Rick Riordan (Goodreads Author)     8420352\n7276                       J.R.R. Tolkien     8087198\n3601         Dan Brown (Goodreads Author)     7014203\n8696        John Green (Goodreads Author)     6800627\n2644   Cassandra Clare (Goodreads Author)     6740311\n5960                        George Orwell     6230842",
      "text/html": "<div>\n<style scoped>\n    .dataframe tbody tr th:only-of-type {\n        vertical-align: middle;\n    }\n\n    .dataframe tbody tr th {\n        vertical-align: top;\n    }\n\n    .dataframe thead th {\n        text-align: right;\n    }\n</style>\n<table border=\"1\" class=\"dataframe\">\n  <thead>\n    <tr style=\"text-align: right;\">\n      <th></th>\n      <th>author</th>\n      <th>numRatings</th>\n    </tr>\n  </thead>\n  <tbody>\n    <tr>\n      <th>7230</th>\n      <td>J.K. Rowling</td>\n      <td>24342485</td>\n    </tr>\n    <tr>\n      <th>16671</th>\n      <td>Stephen King (Goodreads Author)</td>\n      <td>13003074</td>\n    </tr>\n    <tr>\n      <th>16992</th>\n      <td>Suzanne Collins</td>\n      <td>11842484</td>\n    </tr>\n    <tr>\n      <th>16699</th>\n      <td>Stephenie Meyer</td>\n      <td>10710870</td>\n    </tr>\n    <tr>\n      <th>14936</th>\n      <td>Rick Riordan (Goodreads Author)</td>\n      <td>8420352</td>\n    </tr>\n    <tr>\n      <th>7276</th>\n      <td>J.R.R. Tolkien</td>\n      <td>8087198</td>\n    </tr>\n    <tr>\n      <th>3601</th>\n      <td>Dan Brown (Goodreads Author)</td>\n      <td>7014203</td>\n    </tr>\n    <tr>\n      <th>8696</th>\n      <td>John Green (Goodreads Author)</td>\n      <td>6800627</td>\n    </tr>\n    <tr>\n      <th>2644</th>\n      <td>Cassandra Clare (Goodreads Author)</td>\n      <td>6740311</td>\n    </tr>\n    <tr>\n      <th>5960</th>\n      <td>George Orwell</td>\n      <td>6230842</td>\n    </tr>\n  </tbody>\n</table>\n</div>"
     },
     "execution_count": 125,
     "metadata": {},
     "output_type": "execute_result"
    }
   ],
   "source": [
    "z=df.groupby(['author'])['numRatings'].sum().reset_index(name='numRatings')\n",
    "l=z.sort_values(\"numRatings\",ascending=False)\n",
    "result=l.head(10)\n",
    "result"
   ],
   "metadata": {
    "collapsed": false
   }
  },
  {
   "cell_type": "markdown",
   "source": [
    "# Q3 - Recomendation System"
   ],
   "metadata": {
    "collapsed": false
   }
  },
  {
   "cell_type": "code",
   "execution_count": 127,
   "metadata": {
    "colab": {
     "base_uri": "https://localhost:8080/"
    },
    "executionInfo": {
     "elapsed": 710,
     "status": "ok",
     "timestamp": 1685007105855,
     "user": {
      "displayName": "Κωνσταντίνος Κανελλάκης",
      "userId": "17854306947232766693"
     },
     "user_tz": -180
    },
    "id": "YH50sg2N8wCm",
    "outputId": "89d225b5-7c2c-4d51-a3c9-3cddd3e75911"
   },
   "outputs": [],
   "source": [
    "from sklearn.feature_extraction.text import TfidfVectorizer\n",
    "from sklearn.metrics.pairwise import cosine_similarity\n",
    "\n",
    "english_data = df[df['language'] == 'English'][['bookId', 'description', 'title']]\n",
    "# Use the 'stop_words' parameter to remove common English words\n",
    "tfidf_vectorizer_bigrams = TfidfVectorizer(max_df=1.0, min_df=1, max_features=1500, stop_words='english', ngram_range=(2, 3))\n",
    "tfidf_bigrams = tfidf_vectorizer_bigrams.fit_transform(english_data.description)\n",
    "\n",
    "# Calculate cosine similarities\n",
    "cosine_similarities_bigrams = cosine_similarity(tfidf_bigrams, tfidf_bigrams)\n",
    "\n",
    "english_data = english_data.reset_index(drop=True)  # Reset the index\n",
    "\n",
    "similar_books_bigrams = {}\n",
    "num_items = len(english_data)\n",
    "\n",
    "for i, row in english_data.iterrows():\n",
    "    book_id = row['bookId']\n",
    "    similar_indices = cosine_similarities_bigrams[i % num_items].argsort()[:-1]  # Exclude self-similarity\n",
    "    similar_ids = english_data.loc[similar_indices, 'bookId'].tolist()\n",
    "    similar_books_bigrams[book_id] = (similar_ids[:100], similar_indices[::-1][1:101])  # Store top 100 similar titles\n",
    "\n",
    "similar_books_unigrams = {}\n",
    "\n",
    "tfidf_vectorizer_unigrams = TfidfVectorizer(max_df=1.0, min_df=1, max_features=2500, stop_words='english', ngram_range=(1, 1))\n",
    "tfidf_unigrams = tfidf_vectorizer_bigrams.fit_transform(english_data.description)\n",
    "cosine_similarities_unigrams = cosine_similarity(tfidf_unigrams, tfidf_unigrams)\n",
    "for i, row in english_data.iterrows():\n",
    "    book_id = row['bookId']\n",
    "    similar_indices = cosine_similarities_unigrams[i % num_items].argsort()[:-1]  # Exclude self-similarity\n",
    "    similar_ids = english_data.loc[similar_indices, 'bookId'].tolist()\n",
    "    similar_books_unigrams[book_id] = (similar_ids[:100], similar_indices[::-1][1:101])"
   ]
  },
  {
   "cell_type": "code",
   "execution_count": 140,
   "outputs": [
    {
     "name": "stdout",
     "output_type": "stream",
     "text": [
      "Recommending 5 books similar to: Harry Potter and the Order of the Phoenix\n",
      "--------------------------------------------------\n",
      "Recommended: The Hunger Games\n",
      "Description: WINNING MEANS FAME AND FORTUNE.LOSING MEANS CERTAIN DEATH.THE HUNGER GAMES HAVE BEGUN. . . .In the ruins of a place once known as North America lies the nation of Panem, a shining Capitol surrounded by twelve outlying districts. The Capitol is harsh and cruel and keeps the districts in line by forcing them all to send one boy and once girl between the ages of twelve and eighteen to participate in the annual Hunger Games, a fight to the death on live TV.Sixteen-year-old Katniss Everdeen regards it as a death sentence when she steps forward to take her sister's place in the Games. But Katniss has been close to dead before—and survival, for her, is second nature. Without really meaning to, she becomes a contender. But if she is to win, she will have to start making choices that weight survival against humanity and life against love.\n",
      "(score: 0.7149056738072287)\n",
      "--------------------------------------------------\n",
      "Recommended: Blood Price\n",
      "Description: The Blood Books are now available in \"Blood Ties\" TV tie-in editions. View our TV tie-in feature page here here.Vicki Nelson, formerly of Toronto’s homicide unit and now a private detective, witnesses the first of many vicious attacks that are now plaguing the city of Toronto. As death follows unspeakable death, Vicki is forced to renew her tempestuous relationship with her former partner, Mike Celluci, to stop these forces of dark magic—along with another, unexpected ally…Henry Fitzroy, the illegitimate son of King Henry VIII, has learned over the course of his long life how to blend with humans, how to deny the call for blood in his veins. Without him, Vicki and Mike would not survive the ancient force of chaos that has been unleashed upon the world—but in doing so, his identity may be exposed, and his life forfeit.\n",
      "(score: 0.7149056738072287)\n",
      "--------------------------------------------------\n",
      "Recommended: The MacGregor Brides\n",
      "Description: The MacGregor clan's patriarch is powerful, rich--and determined to see his three career-minded granddaughters married. So he hand-picked three unsuspecting candidates as worthy consorts...Now all he has to do is set his plans in motion.\n",
      "(score: 0.7149056738072287)\n",
      "--------------------------------------------------\n",
      "Recommended: A Raisin in the Sun: The Unfilmed Original Screenplay\n",
      "Description: Under the editorship of the late Robert Nemiroff, with a provocative and thoughtful introduction by preeminent African-American scholar Margaret B. Wilkerson and a commentary by Spike Lee, this completely restored screenplay is the accurate and authoritative edition of Lorraine Hansberry's script and a testament to her unparalled accomplishment as a black woman artist.The 1961 film version of A Raisin in the Sun, with a screenplay by the author, Lorraine Hansberry, won an award at the Cannes Film Festival even though one-third of the actual screenplay Hansberry had written had been cut out. The film did essentially bring Hansberry's extraordinary play to the screen, but it failed to fulfill her cinematic vision.Now, with this landmark edition of Lorraine Hansberry's original script for the movie of A Raisin in the Sun that audiences never viewed, readers have at hand an epic, eloquent work capturing not only the life and dreams of a black family, but the Chicago--and the society--that surround and shape them.Important changes in dialogue and exterior shots, a stunning shift of focus to her male protagonist, and a dramatic rewriting of the final scene show us an artist who understood and used the cinematic medium to transform a stage play into a different art form--a profound and powerful film.\n",
      "(score: 0.6992209075522788)\n",
      "--------------------------------------------------\n",
      "Recommended: Absolute Boyfriend, Vol. 1\n",
      "Description: Shy high school student Riko Izawa aches for a boyfriend but guys just won't look her way. Then one day she signs up for a three-day trial of a mysterious \"lover figurine,\" and the next thing she knows, a cute naked guy is delivered to her doorstep--and he wants to be her boyfriend!Has Riko died and gone to heaven? The cute naked guy turns out to be smart, super nice, stylish and a gourmet chef. Plus, he looks like a million bucks.... Trouble is, that's about what he's going to cost Riko because she didn't return him in time!\n",
      "(score: 0.6992209075522788)\n",
      "--------------------------------------------------\n"
     ]
    }
   ],
   "source": [
    "def recommend(item_id, num, bi_or_uni):\n",
    "    if item_id not in df['bookId'].values:\n",
    "        print(f\"Book with BookId {item_id} does not exist.\")\n",
    "        return\n",
    "    book_name = df[df['bookId'] == item_id]['title'].values[0]\n",
    "    print(f\"Recommending {num} books similar to: {book_name}\")\n",
    "    print(\"-\" * 50)\n",
    "    if bi_or_uni==0:\n",
    "        recommendations, inds = similar_books_bigrams[item_id]\n",
    "    else:\n",
    "        recommendations, inds = similar_books_unigrams[item_id]\n",
    "    i = english_data.index[english_data['bookId'] == item_id].tolist()[0]\n",
    "    for id, index, rank in zip(recommendations, inds, range(1, num+1)):\n",
    "        recom = df[df['bookId'] == id]\n",
    "        print(f\"Recommended: {recom.title.values[0]}\")\n",
    "        print(f\"Description: {recom.description.values[0]}\")\n",
    "        if bi_or_uni==0:\n",
    "            print(f\"(score: {cosine_similarities_bigrams[i % num_items][index]})\")\n",
    "        else:\n",
    "            print(f\"(score: {cosine_similarities_unigrams[i % num_items][index]})\")\n",
    "        print(\"-\" * 50)\n",
    "# 0 for bigrams/1 for unigrams\n",
    "recommend(item_id = 2, num = 5, bi_or_uni=0)\n"
   ],
   "metadata": {
    "collapsed": false
   }
  },
  {
   "cell_type": "markdown",
   "source": [
    "# Q4 - Classification"
   ],
   "metadata": {
    "collapsed": false
   }
  },
  {
   "cell_type": "code",
   "execution_count": 141,
   "outputs": [
    {
     "name": "stderr",
     "output_type": "stream",
     "text": [
      "[nltk_data] Downloading package omw-1.4 to\n",
      "[nltk_data]     C:\\Users\\Κοστασ\\AppData\\Roaming\\nltk_data...\n",
      "[nltk_data]   Package omw-1.4 is already up-to-date!\n"
     ]
    }
   ],
   "source": [
    "import pickle\n",
    "import nltk\n",
    "nltk.download('omw-1.4')\n",
    "import gensim\n",
    "from nltk.corpus import stopwords\n",
    "from nltk.tokenize import sent_tokenize,word_tokenize\n",
    "from nltk.stem import WordNetLemmatizer\n",
    "\n",
    "stop_words = set(stopwords.words('english'))\n",
    "lemmatizer = WordNetLemmatizer()\n",
    "\n",
    "ls=[]\n",
    "ls_bookId=[]\n",
    "ls_description=[]\n",
    "ls_genreSingle=[]\n",
    "\n",
    "gen=df['genreSingle'].value_counts()\n",
    "gen_df=pd.DataFrame(gen)\n",
    "g=gen_df.head(10)\n",
    "ls = list(g.index.values) #list with 10 most frequently genres\n",
    "\n",
    "new_df=df[df['genreSingle'].isin(ls)]\n",
    "new_df = new_df.head(10000)\n",
    "keep=['bookId', 'description', 'genreSingle']\n",
    "new_df=new_df.drop(df.columns.difference(keep), axis=1)\n",
    "\n",
    "#NTLK METHOD\n",
    "# Preprocess function to clean a single text\n",
    "def preprocess_text(text):\n",
    "    tokens = word_tokenize(text.lower())    # Tokenize the text\n",
    "    tokens = [token for token in tokens if token.isalpha() and token not in stop_words]   # Remove stop words and punctuation\n",
    "    tokens = [lemmatizer.lemmatize(token) for token in tokens]    # Lemmatize the tokens\n",
    "    cleaned_text = ' '.join(tokens)   # Join the tokens back into a single string\n",
    "    return cleaned_text\n",
    "\n",
    "# Apply the preprocessing function to the desired column\n",
    "new_df['cleaned_description'] = new_df['description'].apply(preprocess_text)\n",
    "\n",
    "desc=list(new_df['cleaned_description'])\n",
    "tokenized_sentences = [word_tokenize(sentence) for sentence in desc]\n",
    "model=gensim.models.Word2Vec(\n",
    "    tokenized_sentences,\n",
    "    vector_size=200,  # desired no. of features/independent variables\n",
    "    window=5,   # context window size\n",
    "    min_count=1,\n",
    "    sg=1,   # 1 for skip-gram model\n",
    "    hs=0,\n",
    "    negative=10,    # for negative sampling\n",
    "    workers=10,    # no.of cores\n",
    "    seed=34)\n",
    "\n",
    "f=model.train(tokenized_sentences,total_examples=len(tokenized_sentences),epochs=20)\n",
    "word_vectors = model.wv"
   ],
   "metadata": {
    "collapsed": false
   }
  },
  {
   "cell_type": "code",
   "execution_count": 142,
   "outputs": [],
   "source": [
    "sentence_vectors = {}\n",
    "ls = []\n",
    "for sentence,i in zip(tokenized_sentences,new_df.index):\n",
    "  sum = 0\n",
    "  count = 0\n",
    "  for word in sentence:\n",
    "    if word in word_vectors.key_to_index:\n",
    "      count += 1\n",
    "      sum += word_vectors.get_vector(word)\n",
    "  if count != 0:\n",
    "    average = sum / count\n",
    "    ls.append(average)\n",
    "  else:\n",
    "    new_df=new_df.drop(i)\n",
    "    continue\n",
    "  sentence_vectors[' '.join(sentence)] = average\n",
    "\n",
    "filename = 'sentence_vectors.pkl'\n",
    "with open(filename, 'wb') as f:\n",
    "  pickle.dump(sentence_vectors, f)\n",
    "new_df['Vectors'] = ls"
   ],
   "metadata": {
    "collapsed": false
   }
  },
  {
   "cell_type": "code",
   "execution_count": 143,
   "outputs": [],
   "source": [
    "from sklearn.model_selection import train_test_split\n",
    "import numpy as np\n",
    "\n",
    "scoring=('precision_macro', 'recall_macro', 'f1_macro', 'accuracy')\n",
    "X = np.vstack(new_df['Vectors'])\n",
    "Y = new_df['genreSingle']\n",
    "X_train, X_test, Y_train, Y_test = train_test_split(X, Y, test_size=0.2, random_state=42)\n"
   ],
   "metadata": {
    "collapsed": false
   }
  },
  {
   "cell_type": "markdown",
   "source": [
    "## RandomForest"
   ],
   "metadata": {
    "collapsed": false
   }
  },
  {
   "cell_type": "code",
   "execution_count": 144,
   "outputs": [
    {
     "name": "stdout",
     "output_type": "stream",
     "text": [
      "Precision: 0.7072627879425922\n",
      "Recall: 0.38580541700234666\n",
      "F1 Score: 0.4237979591894101\n",
      "Accuracy: 0.5703121121121121\n"
     ]
    }
   ],
   "source": [
    "from sklearn.model_selection import cross_validate\n",
    "from sklearn.ensemble import RandomForestClassifier\n",
    "\n",
    "results_rf = []\n",
    "# Create the Random Forest model\n",
    "rf_model = RandomForestClassifier()\n",
    "\n",
    "# Perform cross-validation\n",
    "cross_val_results = cross_validate(rf_model, X, Y, cv=10, scoring=scoring, n_jobs=-1)\n",
    "\n",
    "# Extract the scores\n",
    "precision_scores_rf = cross_val_results['test_precision_macro'].mean()\n",
    "results_rf.append(precision_scores_rf)\n",
    "recall_scores_rf = cross_val_results['test_recall_macro'].mean()\n",
    "results_rf.append(recall_scores_rf)\n",
    "f1_scores_rf = cross_val_results['test_f1_macro'].mean()\n",
    "results_rf.append(f1_scores_rf)\n",
    "accuracy_scores_rf = cross_val_results['test_accuracy'].mean()\n",
    "results_rf.append(accuracy_scores_rf)\n",
    "\n",
    "# Print the scores\n",
    "print(\"Precision:\", precision_scores_rf)\n",
    "print(\"Recall:\", recall_scores_rf)\n",
    "print(\"F1 Score:\", f1_scores_rf)\n",
    "print(\"Accuracy:\", accuracy_scores_rf)\n"
   ],
   "metadata": {
    "collapsed": false
   }
  },
  {
   "cell_type": "code",
   "execution_count": 145,
   "outputs": [
    {
     "name": "stdout",
     "output_type": "stream",
     "text": [
      "Precision: 0.42264174956531236\n",
      "Recall: 0.4602926498121618\n",
      "F1 Score: 0.3773896824489575\n",
      "Accuracy: 0.408581981981982\n"
     ]
    }
   ],
   "source": [
    "from sklearn.naive_bayes import GaussianNB\n",
    "\n",
    "results_nb = []\n",
    "# Create the Νaive_Βayes model\n",
    "nb_model = GaussianNB()\n",
    "\n",
    "# Perform cross-validation\n",
    "cross_val_results = cross_validate(nb_model, X, Y, cv=10, scoring=scoring, n_jobs=-1)\n",
    "\n",
    "# Extract the scores\n",
    "precision_scores_nb = cross_val_results['test_precision_macro'].mean()\n",
    "results_nb.append(precision_scores_nb)\n",
    "recall_scores_nb = cross_val_results['test_recall_macro'].mean()\n",
    "results_nb.append(recall_scores_nb)\n",
    "f1_scores_nb = cross_val_results['test_f1_macro'].mean()\n",
    "results_nb.append(f1_scores_nb)\n",
    "accuracy_scores_nb = cross_val_results['test_accuracy'].mean()\n",
    "results_nb.append(accuracy_scores_nb)\n",
    "\n",
    "# Print the scores\n",
    "print(\"Precision:\", precision_scores_nb)\n",
    "print(\"Recall:\", recall_scores_nb)\n",
    "print(\"F1 Score:\", f1_scores_nb)\n",
    "print(\"Accuracy:\", accuracy_scores_nb)\n"
   ],
   "metadata": {
    "collapsed": false
   }
  },
  {
   "cell_type": "code",
   "execution_count": 146,
   "outputs": [
    {
     "name": "stdout",
     "output_type": "stream",
     "text": [
      "Precision: 0.6845575223065388\n",
      "Recall: 0.6146223864646208\n",
      "F1 Score: 0.6411217045572324\n",
      "Accuracy: 0.6804327327327327\n"
     ]
    }
   ],
   "source": [
    "from sklearn.svm import SVC\n",
    "from sklearn.model_selection import GridSearchCV\n",
    "\n",
    "results_svc = []\n",
    "\n",
    "# Create the SVC model\n",
    "svm_params = {'C': [1, 10, 100], 'gamma': [0.1, 0.01, 0.001], 'kernel': ['rbf', 'linear']}\n",
    "svm_model = GridSearchCV(SVC(), svm_params, cv=10, n_jobs = -1)\n",
    "\n",
    "# Perform cross-validation\n",
    "cross_val_results = cross_validate(svm_model, X, Y, cv=10, scoring=('precision_macro', 'recall_macro', 'f1_macro', 'accuracy'), n_jobs=-1)\n",
    "\n",
    "\n",
    "# Extract the scores\n",
    "precision_scores_svc = cross_val_results['test_precision_macro'].mean()\n",
    "results_svc.append(precision_scores_svc)\n",
    "recall_scores_svc = cross_val_results['test_recall_macro'].mean()\n",
    "results_svc.append(recall_scores_svc)\n",
    "f1_scores_svc = cross_val_results['test_f1_macro'].mean()\n",
    "results_svc.append(f1_scores_svc)\n",
    "accuracy_scores_svc = cross_val_results['test_accuracy'].mean()\n",
    "results_svc.append(accuracy_scores_svc)\n",
    "\n",
    "# Print the scores\n",
    "print(\"Precision:\", precision_scores_svc)\n",
    "print(\"Recall:\", recall_scores_svc)\n",
    "print(\"F1 Score:\", f1_scores_svc)\n",
    "print(\"Accuracy:\", accuracy_scores_svc)"
   ],
   "metadata": {
    "collapsed": false
   }
  },
  {
   "cell_type": "code",
   "execution_count": 148,
   "outputs": [
    {
     "data": {
      "text/plain": "     Metrics                RF       Naive Bayes               SVC\n0  Precision 0.707262787942592 0.422641749565312 0.684557522306539\n1     Recall 0.385805417002347 0.460292649812162 0.614622386464621\n2   F1 Score 0.423797959189410 0.377389682448957 0.641121704557232\n3   Accuracy 0.570312112112112 0.408581981981982 0.680432732732733",
      "text/html": "<div>\n<style scoped>\n    .dataframe tbody tr th:only-of-type {\n        vertical-align: middle;\n    }\n\n    .dataframe tbody tr th {\n        vertical-align: top;\n    }\n\n    .dataframe thead th {\n        text-align: right;\n    }\n</style>\n<table border=\"1\" class=\"dataframe\">\n  <thead>\n    <tr style=\"text-align: right;\">\n      <th></th>\n      <th>Metrics</th>\n      <th>RF</th>\n      <th>Naive Bayes</th>\n      <th>SVC</th>\n    </tr>\n  </thead>\n  <tbody>\n    <tr>\n      <th>0</th>\n      <td>Precision</td>\n      <td>0.707262787942592</td>\n      <td>0.422641749565312</td>\n      <td>0.684557522306539</td>\n    </tr>\n    <tr>\n      <th>1</th>\n      <td>Recall</td>\n      <td>0.385805417002347</td>\n      <td>0.460292649812162</td>\n      <td>0.614622386464621</td>\n    </tr>\n    <tr>\n      <th>2</th>\n      <td>F1 Score</td>\n      <td>0.423797959189410</td>\n      <td>0.377389682448957</td>\n      <td>0.641121704557232</td>\n    </tr>\n    <tr>\n      <th>3</th>\n      <td>Accuracy</td>\n      <td>0.570312112112112</td>\n      <td>0.408581981981982</td>\n      <td>0.680432732732733</td>\n    </tr>\n  </tbody>\n</table>\n</div>"
     },
     "execution_count": 148,
     "metadata": {},
     "output_type": "execute_result"
    }
   ],
   "source": [
    "metrics = [ 'Precision', 'Recall', 'F1 Score', 'Accuracy']\n",
    "result = pd.DataFrame({'Metrics': metrics, 'RF': results_rf, 'Naive Bayes': results_nb, 'SVC':results_svc})\n",
    "pd.set_option('display.float_format', '{:.15f}'.format)\n",
    "result"
   ],
   "metadata": {
    "collapsed": false
   }
  }
 ],
 "metadata": {
  "colab": {
   "authorship_tag": "ABX9TyOa7y44N7ZjxWxEXuUrIvvi",
   "provenance": []
  },
  "kernelspec": {
   "display_name": "Python 3",
   "name": "python3"
  },
  "language_info": {
   "codemirror_mode": {
    "name": "ipython",
    "version": 3
   },
   "file_extension": ".py",
   "mimetype": "text/x-python",
   "name": "python",
   "nbconvert_exporter": "python",
   "pygments_lexer": "ipython3",
   "version": "3.7.9"
  }
 },
 "nbformat": 4,
 "nbformat_minor": 0
}
